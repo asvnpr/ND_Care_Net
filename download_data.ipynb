{
 "cells": [
  {
   "cell_type": "code",
   "execution_count": 8,
   "metadata": {},
   "outputs": [
    {
     "name": "stdin",
     "output_type": "stream",
     "text": [
      "Enter Google Drive share url:  https://drive.google.com/open?id=1gpwj0A88VF_D_qFiMXYC5crys4nJWlUx\n"
     ]
    },
    {
     "name": "stderr",
     "output_type": "stream",
     "text": [
      "Downloading...\n",
      "From: https://drive.google.com/uc?id=1gpwj0A88VF_D_qFiMXYC5crys4nJWlUx\n",
      "To: /home/asvnpr/Documents/ND_CSE/Care-Net_Research/code_and_data/data.zip\n",
      "17.1MB [00:02, 6.00MB/s]\n"
     ]
    },
    {
     "data": {
      "text/plain": [
       "'./data.zip'"
      ]
     },
     "execution_count": 8,
     "metadata": {},
     "output_type": "execute_result"
    }
   ],
   "source": [
    "import gdown \n",
    "\n",
    "src_url = input(\"Enter Google Drive share url: \")\n",
    "file_id = src_url.split('=')[1]\n",
    "src_url = \"https://drive.google.com/uc?id={fid}\".format(fid=file_id)\n",
    "url_parse = src_url\n",
    "dst = \"./data.zip\"\n",
    "gdown.download(src_url, dst, quiet=False)"
   ]
  },
  {
   "cell_type": "code",
   "execution_count": 2,
   "metadata": {},
   "outputs": [
    {
     "name": "stdout",
     "output_type": "stream",
     "text": [
      "./data.zip\n"
     ]
    }
   ],
   "source": [
    "!unzip $dst && rm $dst"
   ]
  },
  {
   "cell_type": "code",
   "execution_count": null,
   "metadata": {},
   "outputs": [],
   "source": []
  }
 ],
 "metadata": {
  "kernelspec": {
   "display_name": "Python 3",
   "language": "python",
   "name": "python3"
  },
  "language_info": {
   "codemirror_mode": {
    "name": "ipython",
    "version": 3
   },
   "file_extension": ".py",
   "mimetype": "text/x-python",
   "name": "python",
   "nbconvert_exporter": "python",
   "pygments_lexer": "ipython3",
   "version": "3.6.9"
  }
 },
 "nbformat": 4,
 "nbformat_minor": 4
}
