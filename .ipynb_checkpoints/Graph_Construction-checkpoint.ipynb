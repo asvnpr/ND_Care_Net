{
 "cells": [
  {
   "cell_type": "markdown",
   "metadata": {
    "jupyter": {
     "outputs_hidden": true
    }
   },
   "source": [
    "# Building Knowledge Graph \n",
    "\n",
    "We'll be using the 211 Human Services Taxonomy and the corresponding Taxonomy codes from the IN 211 data to construct an initial KG of the data.  \n",
    "Afterwards, we'll look for relations and connections between services"
   ]
  },
  {
   "cell_type": "code",
   "execution_count": 8,
   "metadata": {},
   "outputs": [],
   "source": [
    "import xml.etree.ElementTree as ET \n",
    "import xmlschema\n",
    "from os import path\n",
    "import networkx as nx\n",
    "import matplotlib.pyplot as plt\n",
    "from sys import exit\n",
    "import json"
   ]
  },
  {
   "cell_type": "code",
   "execution_count": 13,
   "metadata": {},
   "outputs": [
    {
     "name": "stderr",
     "output_type": "stream",
     "text": [
      "IOPub data rate exceeded.\n",
      "The notebook server will temporarily stop sending output\n",
      "to the client in order to avoid crashing it.\n",
      "To change this limit, set the config variable\n",
      "`--NotebookApp.iopub_data_rate_limit`.\n",
      "\n",
      "Current values:\n",
      "NotebookApp.iopub_data_rate_limit=1000000.0 (bytes/sec)\n",
      "NotebookApp.rate_limit_window=3.0 (secs)\n",
      "\n"
     ]
    }
   ],
   "source": [
    "taxonomy_path = path.abspath('./currentTaxonomy_211.xml')\n",
    "taxo_schema_path = path.abspath('./211_taxonomy_xml_schema.xsd')\n",
    "\n",
    "# validate that taxonomy follows their own schema\n",
    "\n",
    "if not path.isfile(taxo_schema_path):\n",
    "    print(\"Fatal error! Taxonomy schema file {} does not exist\".format(taxo_schema_path))\n",
    "    exit(1)\n",
    "\n",
    "elif not path.isfile(taxonomy_path):\n",
    "    print(\"Fatal error! Taxonomy file {} does not exist\".format(taxonomy_path))\n",
    "    exit(1)\n",
    "else:\n",
    "\n",
    "    # describes taxonomy's structure, attributes, etc\n",
    "    taxo_schema = xmlschema.XMLSchema(taxo_schema_path, converter=xmlschema.AbderaConverter)\n",
    "\n",
    "    if taxo_schema.is_valid(taxonomy_path):\n",
    "        \n",
    "        # load the 211 Human Services taxonomy xml and as a json\n",
    "        services_taxonomy = ET.parse(taxonomy_path)\n",
    "        taxonomy_dict = taxo_schema.to_dict(taxonomy_path)\n",
    "        taxo_root = services_taxonomy.getroot()\n",
    "        \n",
    "        taxo_json = json.dumps(taxonomy_dict)\n",
    "        # dict is very dense and wouldn't print without increasing print IO limit. \n",
    "        # save to file for analysis and choosing attrs to keep\n",
    "        with open('temp_taxo.json', 'w') as tmp_json:\n",
    "            tmp_json.write(taxo_json)\n",
    "            \n",
    "    else: \n",
    "        print(\"Error! The taxonomy doesn't follow provided schema and is invalid. List of errors:\")\n",
    "        for i, err in enumerate(schema_errs):\n",
    "            print(\"{}. {}\".format(i, err))"
   ]
  },
  {
   "cell_type": "code",
   "execution_count": 30,
   "metadata": {},
   "outputs": [
    {
     "ename": "AttributeError",
     "evalue": "'dict' object has no attribute 'attributes'",
     "output_type": "error",
     "traceback": [
      "\u001b[0;31m---------------------------------------------------------------------------\u001b[0m",
      "\u001b[0;31mAttributeError\u001b[0m                            Traceback (most recent call last)",
      "\u001b[0;32m<ipython-input-30-38faa03ccc23>\u001b[0m in \u001b[0;36m<module>\u001b[0;34m\u001b[0m\n\u001b[1;32m      3\u001b[0m \u001b[0mget_ipython\u001b[0m\u001b[0;34m(\u001b[0m\u001b[0;34m)\u001b[0m\u001b[0;34m.\u001b[0m\u001b[0mrun_line_magic\u001b[0m\u001b[0;34m(\u001b[0m\u001b[0;34m'matplotlib'\u001b[0m\u001b[0;34m,\u001b[0m \u001b[0;34m'inline'\u001b[0m\u001b[0;34m)\u001b[0m\u001b[0;34m\u001b[0m\u001b[0;34m\u001b[0m\u001b[0m\n\u001b[1;32m      4\u001b[0m \u001b[0;34m\u001b[0m\u001b[0m\n\u001b[0;32m----> 5\u001b[0;31m \u001b[0mtaxo_root_name\u001b[0m \u001b[0;34m=\u001b[0m \u001b[0mtaxonomy_dict\u001b[0m\u001b[0;34m.\u001b[0m\u001b[0mattributes\u001b[0m\u001b[0;34m.\u001b[0m\u001b[0mname\u001b[0m\u001b[0;34m\u001b[0m\u001b[0;34m\u001b[0m\u001b[0m\n\u001b[0m\u001b[1;32m      6\u001b[0m \u001b[0mgen_categs\u001b[0m \u001b[0;34m=\u001b[0m \u001b[0mtaxonomy_dict\u001b[0m\u001b[0;34m.\u001b[0m\u001b[0mchildren\u001b[0m\u001b[0;34m[\u001b[0m\u001b[0;36m0\u001b[0m\u001b[0;34m]\u001b[0m\u001b[0;34m.\u001b[0m\u001b[0mrecord\u001b[0m\u001b[0;34m\u001b[0m\u001b[0;34m\u001b[0m\u001b[0m\n\u001b[1;32m      7\u001b[0m \u001b[0;34m\u001b[0m\u001b[0m\n",
      "\u001b[0;31mAttributeError\u001b[0m: 'dict' object has no attribute 'attributes'"
     ]
    }
   ],
   "source": [
    "# graph out taxonomy details\n",
    "\n",
    "%matplotlib inline\n",
    "\n",
    "taxo_root_name = taxonomy_dict.attributes.name\n",
    "gen_categs = taxonomy_dict.children[0].record\n",
    "\n",
    "print(gen_categs)"
   ]
  },
  {
   "cell_type": "code",
   "execution_count": null,
   "metadata": {},
   "outputs": [],
   "source": []
  }
 ],
 "metadata": {
  "kernelspec": {
   "display_name": "Python 3",
   "language": "python",
   "name": "python3"
  },
  "language_info": {
   "codemirror_mode": {
    "name": "ipython",
    "version": 3
   },
   "file_extension": ".py",
   "mimetype": "text/x-python",
   "name": "python",
   "nbconvert_exporter": "python",
   "pygments_lexer": "ipython3",
   "version": "3.6.9"
  }
 },
 "nbformat": 4,
 "nbformat_minor": 4
}
