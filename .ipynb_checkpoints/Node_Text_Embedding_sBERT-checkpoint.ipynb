{
 "cells": [
  {
   "cell_type": "markdown",
   "metadata": {},
   "source": [
    "# Graph Nodes Embedding\n",
    "\n",
    "- Use Doc2Vec to embed the description, name, etc of services \n",
    "- cluster these embeddings and measure cluster performance\n",
    "\n",
    "later:\n",
    "- use [BANE](https://github.com/benedekrozemberczki/BANE) code to embed the nodes taking into account their network structure\n",
    "- compare cluster performance\n"
   ]
  },
  {
   "cell_type": "code",
   "execution_count": 1,
   "metadata": {},
   "outputs": [],
   "source": [
    "import json\n",
    "import os\n",
    "import csv\n",
    "import random\n",
    "import pandas as pd\n",
    "import nltk\n",
    "import typing\n",
    "from sklearn.manifold import TSNE\n",
    "import matplotlib.pyplot as plt\n",
    "from tqdm.notebook import tqdm, trange\n",
    "# %%capture\n",
    "# tqdm().pandas()"
   ]
  },
  {
   "cell_type": "code",
   "execution_count": 2,
   "metadata": {},
   "outputs": [],
   "source": [
    "# open our datasets\n",
    "with open('./data/services_nodes.json') as sn:\n",
    "    serv_nodes = json.loads(sn.read())\n",
    "    \n",
    "with open('./data/services_edgelist.csv') as se:\n",
    "    serv_edges = csv.reader(se)\n",
    "\n",
    "with open('./data/HIN_nodes.json') as taxo:\n",
    "    taxo_nodes = json.loads(taxo.read())\n",
    "\n",
    "with open('./data/code_to_node_num.json') as cn:\n",
    "    code_trans = json.loads(cn.read())"
   ]
  },
  {
   "cell_type": "code",
   "execution_count": 3,
   "metadata": {},
   "outputs": [],
   "source": [
    "# following: https://towardsdatascience.com/machine-learning-text-processing-1d5a2d638958\n",
    "# other ref: https://medium.com/@datamonsters/text-preprocessing-in-python-steps-tools-and-examples-bf025f872908\n",
    "\n",
    "# dictionary used to store our services node content to be embeded\n",
    "serv_cont = {}\n",
    "\n",
    "# service features to be embedded as text or tags\n",
    "# maybe fix to get actual agency name instead of id\n",
    "text_feats = [\n",
    "    'name', \n",
    "    'akas', \n",
    "    'description', \n",
    "    'codes',\n",
    "    'eligibility'\n",
    "]\n",
    "\n",
    "from nltk.stem import WordNetLemmatizer\n",
    "import string\n",
    "# returns a \n",
    "def preprocessText(text: str) -> typing.List :\n",
    "    # normalize: convert to lower, remove \n",
    "    # numbers, remove punctuation\n",
    "    text = text.lower()\n",
    "#     text = text.translate(str.maketrans('','', string.digits))\n",
    "#     text = text.translate(str.maketrans('','',string.punctuation))\n",
    "    words = []\n",
    "    # tokenize into sentences\n",
    "    text_sents = nltk.sent_tokenize(text)\n",
    "#     for sent in text_sents:\n",
    "#         words.extend(nltk.word_tokenize(sent))\n",
    "    \n",
    "#     stop_words = set(nltk.corpus.stopwords.words())\n",
    "    # remove stopwords like 'the', 'is', 'a', etc\n",
    "#     words = [w for w in words if w not in stop_words]\n",
    "#     # get base form of words\n",
    "#     lemmer = WordNetLemmatizer()\n",
    "#     words = [lemmer.lemmatize(w) for w in words]\n",
    "    \n",
    "    return text_sents"
   ]
  },
  {
   "cell_type": "code",
   "execution_count": 4,
   "metadata": {},
   "outputs": [
    {
     "data": {
      "application/vnd.jupyter.widget-view+json": {
       "model_id": "aa1107fbc87e453d97667e6df80a2077",
       "version_major": 2,
       "version_minor": 0
      },
      "text/plain": [
       "HBox(children=(IntProgress(value=0, description='Pre-processing Text', max=16547, style=ProgressStyle(descript…"
      ]
     },
     "metadata": {},
     "output_type": "display_data"
    },
    {
     "name": "stdout",
     "output_type": "stream",
     "text": [
      "\n"
     ]
    }
   ],
   "source": [
    "docs = []\n",
    "tagged_sents = {}\n",
    "serv_num = len(serv_nodes)\n",
    "\n",
    "# for each service node\n",
    "with tqdm(total=serv_num, desc='Pre-processing Text') as pbar:\n",
    "    for node_num in serv_nodes:\n",
    "\n",
    "        node = serv_nodes[node_num]\n",
    "        sents = []\n",
    "        # preprocess the text content of the node and it's taxonomy code nodes\n",
    "        for feat in text_feats:\n",
    "\n",
    "            text = node[feat]\n",
    "            if feat in ('akas', 'eligibility'):\n",
    "                text = ' '.join(text)\n",
    "\n",
    "            elif feat == 'codes':\n",
    "                for cn in node[feat]:\n",
    "                    code = taxo_nodes[str(code_trans[cn])]\n",
    "                    sents.extend(preprocessText(code['name']))\n",
    "                    sents.extend(preprocessText(code['description']))\n",
    "                    if 'keywords' in code:\n",
    "                        keywords = '. '.join(code['keywords'])\n",
    "                        sents.extend(preprocessText(keywords))\n",
    "\n",
    "            # some nodes have empty features\n",
    "            elif text:\n",
    "                sents.extend(preprocessText(text))\n",
    "            # preprocess our node raw text feats\n",
    "\n",
    "#             docs.append(TaggedDocument(words=words, tags=[node_num]))\n",
    "        pbar.update(1)\n",
    "        tagged_sents[node_num] = sents"
   ]
  },
  {
   "cell_type": "code",
   "execution_count": 5,
   "metadata": {},
   "outputs": [
    {
     "name": "stdin",
     "output_type": "stream",
     "text": [
      "Choose one of the following pre-trained models to use: \n",
      "1. roberta-base-nli-stsb-mean-tokens 0\n",
      "Choose one of the following pre-trained models to use: \n",
      "1. roberta-base-nli-stsb-mean-tokens 1\n"
     ]
    }
   ],
   "source": [
    "from sentence_transformers import SentenceTransformer\n",
    "\n",
    "# see this section for more info: https://github.com/UKPLab/sentence-transformers#pretrained-models\n",
    "models = [\n",
    "    'roberta-base-nli-stsb-mean-tokens'\n",
    "]\n",
    "choice = '-1'\n",
    "choice_list = '\\n'.join([\"{}. {}\".format(i+1, models[i]) for i in range(len(models))])\n",
    "while int(choice)-1 not in list(range(len(models))) or not choice.isdigit():\n",
    "    choice = input(\"Choose one of the following pre-trained models to use: \\n{}\".format(choice_list))\n",
    "choice = int(choice)-1\n",
    "\n",
    "model = SentenceTransformer(models[choice])"
   ]
  },
  {
   "cell_type": "code",
   "execution_count": 7,
   "metadata": {},
   "outputs": [
    {
     "data": {
      "application/vnd.jupyter.widget-view+json": {
       "model_id": "929b6876828c413d802add6b9d559dca",
       "version_major": 2,
       "version_minor": 0
      },
      "text/plain": [
       "HBox(children=(IntProgress(value=0, description='Embedding Service Sentences', max=16547, style=ProgressStyle(…"
      ]
     },
     "metadata": {},
     "output_type": "display_data"
    },
    {
     "name": "stdout",
     "output_type": "stream",
     "text": [
      "\n"
     ]
    }
   ],
   "source": [
    "# model generates embeddings per sentence but need embedding per \"document\" ie service\n",
    "# use mean of all vector embeddings \n",
    "# (relatively safe assumption since it is used by default in their paper https://arxiv.org/pdf/1908.10084.pdf \n",
    "# to get the embedding of a sentence from words. Mean of vector has also seen good performance for representing documents \n",
    "# with models such as word2vec )\n",
    "import numpy as np\n",
    "\n",
    "tagged_embeds = {}\n",
    "\n",
    "with tqdm(total=serv_num, desc='Embedding Service Sentences') as pbar:\n",
    "    for node_num in tagged_sents:\n",
    "        serv_sents = tagged_sents[node_num]\n",
    "        sents_embeds = model.encode(serv_sents)\n",
    "        serv_embed = np.mean(sents_embeds, axis=0)\n",
    "        tagged_embeds[node_num] = {'sents': sents_embeds, 'serv': serv_embed}\n",
    "        pbar.update()"
   ]
  },
  {
   "cell_type": "code",
   "execution_count": 17,
   "metadata": {},
   "outputs": [],
   "source": [
    "from scipy.spatial.distance import cdist\n",
    "\n",
    "# check that each service is similar to itself\n",
    "serv_embeds = [tagged_embeds[node_num]['serv'] for node_num in serv_nodes]\n",
    "# choose n random services\n",
    "n = 5\n",
    "n_servs = np.random.choice(list(serv_nodes.keys()), size=n)\n",
    "\n",
    "def sanityCheck():\n",
    "    for node_num in n_servs:\n",
    "        serv_embed = tagged_embeds[node_num]['serv']\n",
    "        # get cosine distance to all embeddings\n",
    "        distances = cdist([serv_embed], serv_embeds, \"cosine\")[0]\n",
    "        \n",
    "        # zip a tuple of (nserv_nodes dist)\n",
    "        results = zip(list(serv_nodes.keys()), distances)\n",
    "        # sort the tuples according to distance\n",
    "        results = sorted(results, key=lambda x: x[1])\n",
    "        \n",
    "        top_k = 15\n",
    "        print(\"\\n======================\\n\")\n",
    "        print(\"Service:\", serv_nodes[node_num]['name'])\n",
    "        print(\"\\nTop {} most similar services in corpus:\".format(top_k))\n",
    "        \n",
    "        for node_num, dist in results[0:top_k]:\n",
    "            print(\"{} (with Cosine Similarity: {})\".format(serv_nodes[node_num]['name'], 1-dist))"
   ]
  },
  {
   "cell_type": "code",
   "execution_count": 18,
   "metadata": {},
   "outputs": [
    {
     "name": "stdout",
     "output_type": "stream",
     "text": [
      "\n",
      "======================\n",
      "\n",
      "Service: Pregnancy Testing - Saint Vincent Mercy\n",
      "\n",
      "Top 15 most similar services in corpus:\n",
      "Pregnancy Testing - Saint Vincent Mercy (with Cosine Similarity: 0.9999999999999999)\n",
      "Pregnancy Testing - Saint Vincent Anderson Regional (with Cosine Similarity: 0.9806146493840792)\n",
      "Pregnancy Testing (with Cosine Similarity: 0.9316876916628067)\n",
      "Pregnancy Testing And Counseling (with Cosine Similarity: 0.9289860625566775)\n",
      "Pregnancy Testing (with Cosine Similarity: 0.9210653057524528)\n",
      "Pregnancy Testing (with Cosine Similarity: 0.9200712840953946)\n",
      "Pregnancy Counseling (with Cosine Similarity: 0.9186404460541996)\n",
      "Pregnancy Testing (with Cosine Similarity: 0.9184896378615415)\n",
      "Pregnancy Testing (with Cosine Similarity: 0.9166372404421487)\n",
      "Pregnancy Testing - Peoples (with Cosine Similarity: 0.9154319036847974)\n",
      "Pregnancy Testing (with Cosine Similarity: 0.9145147001617011)\n",
      "Pregnancy Testing (with Cosine Similarity: 0.9137234447906675)\n",
      "Pregnancy Testing (with Cosine Similarity: 0.9137234447906675)\n",
      "Pregnancy Counseling (with Cosine Similarity: 0.9128960451794732)\n",
      "Pregnancy Testing (with Cosine Similarity: 0.9127358269860849)\n",
      "\n",
      "======================\n",
      "\n",
      "Service: My Club\n",
      "\n",
      "Top 15 most similar services in corpus:\n",
      "My Club (with Cosine Similarity: 0.9999999999999998)\n",
      "Community Based Mentoring Program (with Cosine Similarity: 0.9251341054979346)\n",
      "Site Based Mentoring Program (with Cosine Similarity: 0.7530914020411383)\n",
      "Big Brothers Big Sisters (with Cosine Similarity: 0.7442545727687924)\n",
      "Kids Honor Club (with Cosine Similarity: 0.7264003856748232)\n",
      "Youth Mentoring (with Cosine Similarity: 0.7201968917325542)\n",
      "Hours For Ours (with Cosine Similarity: 0.7164289629171812)\n",
      "Relative Caregiver Support Group - Foundation for Youth (with Cosine Similarity: 0.7114873215633941)\n",
      "Big Brothers Big Sisters Of Vigo County (with Cosine Similarity: 0.7101216843773309)\n",
      "Jump (with Cosine Similarity: 0.7050304082580253)\n",
      "One To One Mentoring (with Cosine Similarity: 0.7030967182217257)\n",
      "Community Hope Mentoring Program (with Cosine Similarity: 0.7021032912174493)\n",
      "Mentor Moms (with Cosine Similarity: 0.700767293909753)\n",
      "Family And Youth Programs (with Cosine Similarity: 0.6994525243909221)\n",
      "Youth Support Groups (with Cosine Similarity: 0.6943970738467298)\n",
      "\n",
      "======================\n",
      "\n",
      "Service: Home Health Care\n",
      "\n",
      "Top 15 most similar services in corpus:\n",
      "Home Health Care (with Cosine Similarity: 1.0)\n",
      "Home Health Care (with Cosine Similarity: 0.9979317246854734)\n",
      "Home Health Care (with Cosine Similarity: 0.9979317246854734)\n",
      "Home Health Care (with Cosine Similarity: 0.9979317246854734)\n",
      "Home Health Care (with Cosine Similarity: 0.9979317246854734)\n",
      "Home Health Care (with Cosine Similarity: 0.9979317246854734)\n",
      "Home Health Care (with Cosine Similarity: 0.9979317246854734)\n",
      "Home Health Care (with Cosine Similarity: 0.9979317246854734)\n",
      "Home Health Care (with Cosine Similarity: 0.9979317246854734)\n",
      "Home Health Care (with Cosine Similarity: 0.9979317246854734)\n",
      "Home Health Care (with Cosine Similarity: 0.9977044038681766)\n",
      "Home Health Care (with Cosine Similarity: 0.9939542829437972)\n",
      "Home Health Care (with Cosine Similarity: 0.9906514466098331)\n",
      "Home Health Care (with Cosine Similarity: 0.9892980154479679)\n",
      "Home Health Care (with Cosine Similarity: 0.9885055883474039)\n",
      "\n",
      "======================\n",
      "\n",
      "Service: Home Delivered Meals\n",
      "\n",
      "Top 15 most similar services in corpus:\n",
      "Home Delivered Meals (with Cosine Similarity: 1.0)\n",
      "Home Delivered Meals (with Cosine Similarity: 0.9818315010942663)\n",
      "Home Delivered Meals (with Cosine Similarity: 0.9811014044977865)\n",
      "Home-Delivered Meals (with Cosine Similarity: 0.9803051109521099)\n",
      "Home Delivered Meals (with Cosine Similarity: 0.9779705489308516)\n",
      "Home Delivered Meals (with Cosine Similarity: 0.9762580277530504)\n",
      "Home Delivered Meals (with Cosine Similarity: 0.9742933367746354)\n",
      "Home Delivered Meals (with Cosine Similarity: 0.9721407903740129)\n",
      "Home Delivered Meals (with Cosine Similarity: 0.9718875826570317)\n",
      "Home Delivered Meals (with Cosine Similarity: 0.9711328118845515)\n",
      "Home Delivered Meals (with Cosine Similarity: 0.9698248956886163)\n",
      "Meals On Wheels (with Cosine Similarity: 0.9689027025695836)\n",
      "Home-Delivered Meals (with Cosine Similarity: 0.9657316539183471)\n",
      "Meals On Wheels (with Cosine Similarity: 0.9645180248200692)\n",
      "Home Delivered Meals (with Cosine Similarity: 0.9621987981919347)\n",
      "\n",
      "======================\n",
      "\n",
      "Service: Community Based Outpatient Clinic\n",
      "\n",
      "Top 15 most similar services in corpus:\n",
      "Community Based Outpatient Clinic (with Cosine Similarity: 1.0)\n",
      "Community Based Outpatient Clinic (with Cosine Similarity: 1.0)\n",
      "Community Based Outpatient Clinic (with Cosine Similarity: 0.9906623998813565)\n",
      "Outpatient Mental Health (with Cosine Similarity: 0.9522528062966411)\n",
      "Mental Health Care, Veterans (with Cosine Similarity: 0.9184588323494332)\n",
      "Outpatient Mental Health Care - Indianapolis (with Cosine Similarity: 0.8947982636421878)\n",
      "Senior Renewal Center (with Cosine Similarity: 0.8904022361143489)\n",
      "Senior Renewal Center (with Cosine Similarity: 0.8904022361143489)\n",
      "Outpatient Behavioral Health Services (with Cosine Similarity: 0.8902098624447997)\n",
      "Outpatient Mental Health Services - La Porte (with Cosine Similarity: 0.8859352346201411)\n",
      "Senior Renewal Center (with Cosine Similarity: 0.8841532600307119)\n",
      "Mental Health Services - Saint Vincent Anderson Center (with Cosine Similarity: 0.8827560306291338)\n",
      "Outpatient Mental Health Care - Crawfordsville (with Cosine Similarity: 0.8822358217332275)\n",
      "New Life Methadone Maintenance Center (with Cosine Similarity: 0.8819378666776495)\n",
      "Outpatient Treatment Services (with Cosine Similarity: 0.8818646733897104)\n"
     ]
    }
   ],
   "source": [
    "sanityCheck()"
   ]
  },
  {
   "cell_type": "code",
   "execution_count": 19,
   "metadata": {},
   "outputs": [
    {
     "data": {
      "text/plain": [
       "array([4, 3, 3, ..., 3, 0, 0])"
      ]
     },
     "execution_count": 19,
     "metadata": {},
     "output_type": "execute_result"
    }
   ],
   "source": [
    "from sklearn.cluster import AgglomerativeClustering\n",
    "\n",
    "# Perform kmean clustering\n",
    "num_clusters = 5\n",
    "clustering_model = AgglomerativeClustering(n_clusters=num_clusters)\n",
    "clustering_model.fit(serv_embeds)\n",
    "cluster_assignment = clustering_model.labels_\n",
    "cluster_assignment"
   ]
  },
  {
   "cell_type": "code",
   "execution_count": 20,
   "metadata": {},
   "outputs": [],
   "source": [
    "clustered_servs = [[] for i in range(num_clusters)]\n",
    "node_nums = list(serv_nodes.keys())\n",
    "for idx, cluster_id in enumerate(cluster_assignment):\n",
    "    serv_name = serv_nodes[node_nums[idx]]['name']\n",
    "    clustered_servs[cluster_id].append(serv_name)"
   ]
  },
  {
   "cell_type": "code",
   "execution_count": 39,
   "metadata": {},
   "outputs": [
    {
     "name": "stdout",
     "output_type": "stream",
     "text": [
      "Cluster  1\n",
      "╒══════════════════════════╤═════════════════════════════════════════╤══════════════════════════════════════╕\n",
      "│ Service1                 │ Service2                                │ Service3                             │\n",
      "╞══════════════════════════╪═════════════════════════════════════════╪══════════════════════════════════════╡\n",
      "│ Clothes Closet           │ Supportive Housing                      │ Animal Control                       │\n",
      "├──────────────────────────┼─────────────────────────────────────────┼──────────────────────────────────────┤\n",
      "│ Public Library           │ Homeless Shelter                        │ Senior Center                        │\n",
      "├──────────────────────────┼─────────────────────────────────────────┼──────────────────────────────────────┤\n",
      "│ Eye Care                 │ Health Insurance                        │ Career Academy                       │\n",
      "├──────────────────────────┼─────────────────────────────────────────┼──────────────────────────────────────┤\n",
      "│ Public Library - Portage │ Health Insurance - Scenic Health Center │ Hearing Aid Loaner Bank - District G │\n",
      "├──────────────────────────┼─────────────────────────────────────────┼──────────────────────────────────────┤\n",
      "│ Volunteer Opportunity    │ Fire Stations - Station 25              │ Rent Assistance                      │\n",
      "╘══════════════════════════╧═════════════════════════════════════════╧══════════════════════════════════════╛\n",
      "\n",
      "Cluster  2\n",
      "╒═════════════════════════════════╤═══════════════════════╤══════════════════════╕\n",
      "│ Service1                        │ Service2              │ Service3             │\n",
      "╞═════════════════════════════════╪═══════════════════════╪══════════════════════╡\n",
      "│ Election Board                  │ Municipal Government  │ Fraud Alerts         │\n",
      "├─────────────────────────────────┼───────────────────────┼──────────────────────┤\n",
      "│ Protective Order Intake         │ Bankruptcy Assistance │ Clerk's Office       │\n",
      "├─────────────────────────────────┼───────────────────────┼──────────────────────┤\n",
      "│ Circuit/Superior Courts 1 And 2 │ Shelby County Jail    │ Municipal Government │\n",
      "├─────────────────────────────────┼───────────────────────┼──────────────────────┤\n",
      "│ Building and Zoning             │ Trustee Assistance    │ County Commissioners │\n",
      "├─────────────────────────────────┼───────────────────────┼──────────────────────┤\n",
      "│ Election Board                  │ Election Board        │ Clerk's Office       │\n",
      "╘═════════════════════════════════╧═══════════════════════╧══════════════════════╛\n",
      "\n",
      "Cluster  3\n",
      "╒═══════════════════════════════════════════════════════╤══════════════════════════════╤═══════════════════════╕\n",
      "│ Service1                                              │ Service2                     │ Service3              │\n",
      "╞═══════════════════════════════════════════════════════╪══════════════════════════════╪═══════════════════════╡\n",
      "│ Daily Living Skills                                   │ Trustee Assistance           │ HIV Testing - Elkhart │\n",
      "├───────────────────────────────────────────────────────┼──────────────────────────────┼───────────────────────┤\n",
      "│ Link Hendricks County                                 │ Support Services             │ Adult Immunizations   │\n",
      "├───────────────────────────────────────────────────────┼──────────────────────────────┼───────────────────────┤\n",
      "│ Outpatient Substance Abuse Treatment - English Office │ Homestyle - Home Health Aide │ Immediate Care        │\n",
      "├───────────────────────────────────────────────────────┼──────────────────────────────┼───────────────────────┤\n",
      "│ Domestic Violence Services - Dove Outreach Program    │ Hospital                     │ Home Health Care      │\n",
      "├───────────────────────────────────────────────────────┼──────────────────────────────┼───────────────────────┤\n",
      "│ Love Is Respect - National Dating Abuse Helpline      │ Childhood Immunizations      │ Charity Care          │\n",
      "╘═══════════════════════════════════════════════════════╧══════════════════════════════╧═══════════════════════╛\n",
      "\n",
      "Cluster  4\n",
      "╒═══════════════════════════════════════════════════════════════╤═══════════════════════════════════╤═════════════════════════════════════════╕\n",
      "│ Service1                                                      │ Service2                          │ Service3                                │\n",
      "╞═══════════════════════════════════════════════════════════════╪═══════════════════════════════════╪═════════════════════════════════════════╡\n",
      "│ Meals On Wheels                                               │ Food Pantry                       │ Meal Site - North Vernon Senior Housing │\n",
      "├───────────────────────────────────────────────────────────────┼───────────────────────────────────┼─────────────────────────────────────────┤\n",
      "│ Food And Clothing Pantry                                      │ Food Licensing/Permits            │ Meal Site                               │\n",
      "├───────────────────────────────────────────────────────────────┼───────────────────────────────────┼─────────────────────────────────────────┤\n",
      "│ Food Pantry                                                   │ Agriculture And Natural Resources │ Health And Human Services               │\n",
      "├───────────────────────────────────────────────────────────────┼───────────────────────────────────┼─────────────────────────────────────────┤\n",
      "│ Taste Of Heaven Feeding Ministry                              │ M1 Church Food Pantry             │ Summer Food Box                         │\n",
      "├───────────────────────────────────────────────────────────────┼───────────────────────────────────┼─────────────────────────────────────────┤\n",
      "│ CICOA Neighborhood Meal Site - Perry Senior Citizens Services │ Health And Human Science          │ Consumer Information                    │\n",
      "╘═══════════════════════════════════════════════════════════════╧═══════════════════════════════════╧═════════════════════════════════════════╛\n",
      "\n",
      "Cluster  5\n",
      "╒══════════════════════════════════════════════════════╤═════════════════════════════════════════╤═══════════════════════════════════════════════╕\n",
      "│ Service1                                             │ Service2                                │ Service3                                      │\n",
      "╞══════════════════════════════════════════════════════╪═════════════════════════════════════════╪═══════════════════════════════════════════════╡\n",
      "│ School District                                      │ Kid's Closet                            │ School District                               │\n",
      "├──────────────────────────────────────────────────────┼─────────────────────────────────────────┼───────────────────────────────────────────────┤\n",
      "│ School District                                      │ Healthy Families Indiana                │ Family Birth Place At Clark Memorial Hospital │\n",
      "├──────────────────────────────────────────────────────┼─────────────────────────────────────────┼───────────────────────────────────────────────┤\n",
      "│ Providing Opportunity For Parental Success - Spencer │ On My Way Pre-K - Brightpoint Region 1B │ Earn While You Learn                          │\n",
      "├──────────────────────────────────────────────────────┼─────────────────────────────────────────┼───────────────────────────────────────────────┤\n",
      "│ Child Care Provider Training                         │ Community Outreach Branch               │ 4-H                                           │\n",
      "├──────────────────────────────────────────────────────┼─────────────────────────────────────────┼───────────────────────────────────────────────┤\n",
      "│ Step Up Parenting Resources                          │ Parenting Education                     │ Safe Sleep                                    │\n",
      "╘══════════════════════════════════════════════════════╧═════════════════════════════════════════╧═══════════════════════════════════════════════╛\n",
      "\n"
     ]
    }
   ],
   "source": [
    "from tabulate import tabulate\n",
    "\n",
    "for i, cluster in enumerate(clustered_servs):\n",
    "    print(\"Cluster \", i+1)\n",
    "    np.random.shuffle(cluster)\n",
    "    rows, cols = (3,5)\n",
    "    table_cluster = np.asarray(cluster[0:rows*cols]).reshape(cols, rows)\n",
    "    \n",
    "    print(tabulate(table_cluster, tablefmt='fancy_grid', headers=[\"Service{}\".format(i+1) for i in range(rows)]))\n",
    "    print(\"\")"
   ]
  },
  {
   "cell_type": "code",
   "execution_count": 40,
   "metadata": {},
   "outputs": [],
   "source": [
    "# save embeddings to hdf5 file for more efficient storage and loading\n",
    "import deepdish as dd\n",
    "embeddings_path = './embeddings/sBERT/services.h5'\n",
    "dd.io.save(embeddings_path, serv_embeds, compression=('blosc', 9))"
   ]
  },
  {
   "cell_type": "code",
   "execution_count": 60,
   "metadata": {},
   "outputs": [
    {
     "name": "stdout",
     "output_type": "stream",
     "text": [
      "Service 34003 (Street Department): «Provides street and sidewalk maintenance, storm-sewer maintenance, snow and ice control, dead animal pick-up, street-sign maintenance, mosquito control, and groundskeeping of town properties in the town of Edinburgh in Bartholomew, Johnson, and Shelby counties. Provides curbside collection of trash, leaves, and yard waste for town residents.»\n",
      "\n",
      "SIMILAR/DISSIMILAR DOCS PER MODEL Doc2Vec(dbow+w,d150,n10,w5,mc5,s0.001,t4):\n",
      "\n",
      "1-Most Similar ('41789', 0.9580173492431641) Housing Payment Assistance - Michigan City\n",
      "2-Most Similar ('41790', 0.9179282784461975) Housing Payment Assistance - Hammond\n",
      "3-Most Similar ('41788', 0.9020909070968628) Housing Payment Assistance - Gary\n",
      "\n",
      "Service 32029 (Police Department): «Provides law enforcement, crime investigation, crime prevention, emergency assistance, and other police duties for the city of New Haven in Allen County. Persons in need of emergency police assistance should call 9-1-1.»\n",
      "\n",
      "SIMILAR/DISSIMILAR DOCS PER MODEL Doc2Vec(dbow+w,d150,n10,w5,mc5,s0.001,t4):\n",
      "\n",
      "1-Most Similar ('28684', 0.9706683158874512) Building and Zoning\n",
      "2-Most Similar ('42283', 0.9347288608551025) Building And Zoning\n",
      "3-Most Similar ('37707', 0.9093565344810486) Building And Zoning\n",
      "\n",
      "Service 43033 (Family Planning): «Provides free and confidential pregnancy testing, peer counseling, material supplies, and referrals to community resources.»\n",
      "\n",
      "SIMILAR/DISSIMILAR DOCS PER MODEL Doc2Vec(dbow+w,d150,n10,w5,mc5,s0.001,t4):\n",
      "\n",
      "1-Most Similar ('32111', 0.9583746790885925) Zoning\n",
      "2-Most Similar ('39661', 0.8802120089530945) Building And Zoning\n",
      "3-Most Similar ('37055', 0.8612798452377319) Economic Development And Planning Department\n",
      "\n",
      "Service 33369 (Neighborhood Alliance For Child Safety): «Provides a home-based child abuse and neglect prevention program to Marion County families with children. Services are tailored to meet each individual family's needs and may include case management, advocacy, parent education, and referrals to community resources.»\n",
      "\n",
      "SIMILAR/DISSIMILAR DOCS PER MODEL Doc2Vec(dbow+w,d150,n10,w5,mc5,s0.001,t4):\n",
      "\n",
      "1-Most Similar ('38251', 0.9739513993263245) Head Start\n",
      "2-Most Similar ('33575', 0.9728909134864807) Head Start\n",
      "3-Most Similar ('38256', 0.9723905920982361) Head Start\n",
      "\n",
      "Service 43283 (The Compassionate Friends): «Offers a monthly support group for parents who have lost a child from birth through adulthood.»\n",
      "\n",
      "SIMILAR/DISSIMILAR DOCS PER MODEL Doc2Vec(dbow+w,d150,n10,w5,mc5,s0.001,t4):\n",
      "\n",
      "1-Most Similar ('39731', 0.9608992338180542) Financial Assistance\n",
      "2-Most Similar ('39831', 0.7203688621520996) Financial Assistance\n",
      "3-Most Similar ('30779', 0.7125636339187622) Financial Assistance\n",
      "\n",
      "Service 29299 (Planning, Zoning and Development): «Oversees housing and commercial development within the town of Pittsboro in Hendricks County. This department issues permits and conducts inspections for construction and remodeling projects, responds to reports of overgrown weeds on private property, oversees subdivision controls, and handles zoning requests, complaints, and appeals.»\n",
      "\n",
      "SIMILAR/DISSIMILAR DOCS PER MODEL Doc2Vec(dbow+w,d150,n10,w5,mc5,s0.001,t4):\n",
      "\n",
      "1-Most Similar ('36417', 0.9618768692016602) Volunteer Opportunities\n",
      "2-Most Similar ('40586', 0.7328527569770813) Volunteer Opportunity\n",
      "3-Most Similar ('39790', 0.7315201163291931) Volunteer Opportunity\n",
      "\n",
      "Service 28233 (Welcome/Bienvenido - Elkhart): «Provides support services to new immigrants from Latin American countries and promotes healthy lifestyles while adjusting to new culture. Services include preventative health education, as well as support for those facing homesickness and depression.»\n",
      "\n",
      "SIMILAR/DISSIMILAR DOCS PER MODEL Doc2Vec(dbow+w,d150,n10,w5,mc5,s0.001,t4):\n",
      "\n",
      "1-Most Similar ('34185', 0.9639267325401306) Ican Food Pantry\n",
      "2-Most Similar ('43827', 0.9635158777236938) Dare To Care\n",
      "3-Most Similar ('33895', 0.9634205102920532) Food Pantry\n",
      "\n",
      "Service 32304 (Police Department): «Provides law enforcement, crime investigation, crime prevention, emergency assistance, and other police duties for the city of Decatur in Adams County. Persons in need of emergency police assistance should call 9-1-1.»\n",
      "\n",
      "SIMILAR/DISSIMILAR DOCS PER MODEL Doc2Vec(dbow+w,d150,n10,w5,mc5,s0.001,t4):\n",
      "\n",
      "1-Most Similar ('33491', 0.9600345492362976) Recycling Drop-Off Sites\n",
      "2-Most Similar ('30614', 0.8648854494094849) Recycling\n",
      "3-Most Similar ('30615', 0.8595902323722839) Recycling\n",
      "\n",
      "Service 41184 (Car Seat Inspection): «Provides evaluation of child’s current traveling set-up and instructs parent or caregiver on proper use and installation of child restraints.»\n",
      "\n",
      "SIMILAR/DISSIMILAR DOCS PER MODEL Doc2Vec(dbow+w,d150,n10,w5,mc5,s0.001,t4):\n",
      "\n",
      "1-Most Similar ('40789', 0.9622358679771423) Financial Assistance\n",
      "2-Most Similar ('34289', 0.5444459319114685) Food Pantry\n",
      "3-Most Similar ('30444', 0.5148870944976807) Financial Assistance\n",
      "\n",
      "Service 35038 (Donations): «Accepts donations of furniture and working appliances. Pick-up is available within Monroe County.»\n",
      "\n",
      "SIMILAR/DISSIMILAR DOCS PER MODEL Doc2Vec(dbow+w,d150,n10,w5,mc5,s0.001,t4):\n",
      "\n",
      "1-Most Similar ('40290', 0.969205379486084) Meal Sites, Seniors\n",
      "2-Most Similar ('40280', 0.9691988825798035) Meal Sites, Seniors\n",
      "3-Most Similar ('40287', 0.9680439829826355) Meal Sites, Seniors\n",
      "\n"
     ]
    }
   ],
   "source": [
    "# test random example \n",
    "import random\n",
    "\n",
    "for i in range(10):\n",
    "    doc_id = random.choice(list(serv_nodes.keys()))\n",
    "    doc_idx = random.randint(0,serv_num)\n",
    "    inferred_vector = model.infer_vector(docs[doc_idx].words)\n",
    "    sims = model.docvecs.most_similar([inferred_vector], topn=100)\n",
    "    print('Service {} ({}): «{}»\\n'.format(doc_id, serv_nodes[doc_id]['name'], serv_nodes[doc_id]['description']))\n",
    "    print(u'SIMILAR/DISSIMILAR DOCS PER MODEL %s:\\n' % model)\n",
    "    for i in range(0,3):\n",
    "        label = \"{}-Most Similar\".format(i+1)\n",
    "        print(\"{} {} {}\".format(label, sims[i], serv_nodes[sims[i][0]]['name']))\n",
    "    print()\n",
    "\n"
   ]
  },
  {
   "cell_type": "code",
   "execution_count": 27,
   "metadata": {},
   "outputs": [
    {
     "data": {
      "text/plain": [
       "0"
      ]
     },
     "execution_count": 27,
     "metadata": {},
     "output_type": "execute_result"
    }
   ],
   "source": [
    "counter[0]"
   ]
  },
  {
   "cell_type": "code",
   "execution_count": 1,
   "metadata": {},
   "outputs": [
    {
     "ename": "NameError",
     "evalue": "name 'model' is not defined",
     "output_type": "error",
     "traceback": [
      "\u001b[0;31m---------------------------------------------------------------------------\u001b[0m",
      "\u001b[0;31mNameError\u001b[0m                                 Traceback (most recent call last)",
      "\u001b[0;32m<ipython-input-1-3ba5ffef71fb>\u001b[0m in \u001b[0;36m<module>\u001b[0;34m\u001b[0m\n\u001b[0;32m----> 1\u001b[0;31m \u001b[0mmodel\u001b[0m\u001b[0;34m.\u001b[0m\u001b[0msimilarity\u001b[0m\u001b[0;34m(\u001b[0m\u001b[0;34m'Police'\u001b[0m\u001b[0;34m,\u001b[0m \u001b[0;34m'Law'\u001b[0m\u001b[0;34m)\u001b[0m\u001b[0;34m\u001b[0m\u001b[0;34m\u001b[0m\u001b[0m\n\u001b[0m",
      "\u001b[0;31mNameError\u001b[0m: name 'model' is not defined"
     ]
    }
   ],
   "source": [
    "model.similarity('Police', 'Law')"
   ]
  },
  {
   "cell_type": "code",
   "execution_count": null,
   "metadata": {},
   "outputs": [],
   "source": []
  }
 ],
 "metadata": {
  "kernelspec": {
   "display_name": "Python 3",
   "language": "python",
   "name": "python3"
  },
  "language_info": {
   "codemirror_mode": {
    "name": "ipython",
    "version": 3
   },
   "file_extension": ".py",
   "mimetype": "text/x-python",
   "name": "python",
   "nbconvert_exporter": "python",
   "pygments_lexer": "ipython3",
   "version": "3.6.9"
  }
 },
 "nbformat": 4,
 "nbformat_minor": 4
}
