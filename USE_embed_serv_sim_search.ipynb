{
  "nbformat": 4,
  "nbformat_minor": 0,
  "metadata": {
    "kernelspec": {
      "name": "python3",
      "display_name": "Python 3"
    },
    "language_info": {
      "codemirror_mode": {
        "name": "ipython",
        "version": 3
      },
      "file_extension": ".py",
      "mimetype": "text/x-python",
      "name": "python",
      "nbconvert_exporter": "python",
      "pygments_lexer": "ipython3",
      "version": "3.6.9"
    },
    "colab": {
      "name": "USE_embed_serv_sim_search.ipynb",
      "provenance": [],
      "collapsed_sections": [],
      "include_colab_link": true
    },
    "accelerator": "GPU"
  },
  "cells": [
    {
      "cell_type": "markdown",
      "metadata": {
        "id": "view-in-github",
        "colab_type": "text"
      },
      "source": [
        "<a href=\"https://colab.research.google.com/github/asvnpr/ND_Care_Net/blob/master/USE_embed_serv_sim_search.ipynb\" target=\"_parent\"><img src=\"https://colab.research.google.com/assets/colab-badge.svg\" alt=\"Open In Colab\"/></a>"
      ]
    },
    {
      "cell_type": "markdown",
      "metadata": {
        "id": "wehaECjm8Z4t",
        "colab_type": "text"
      },
      "source": [
        "# Graph Nodes (Content) Embedding\n",
        "\n",
        "- use Universal Sentence Encoder to embed nodes from our graph, then embed queries and find most similar services\n"
      ]
    },
    {
      "cell_type": "markdown",
      "metadata": {
        "id": "2WzZlAQ6O3B9",
        "colab_type": "text"
      },
      "source": [
        "## Colab Setup\n",
        "Setup our drive, dependencies, etc. so they're accesible in this notebook.\n",
        "\n",
        "**Ignore this block if you're not running this in a Colab notebook**\n",
        "\n",
        "You can get most of this block to work by changing some paths and commands"
      ]
    },
    {
      "cell_type": "code",
      "metadata": {
        "id": "AbDIMaiqej88",
        "colab_type": "code",
        "outputId": "455e786c-d327-4555-d8e4-1b81647025b8",
        "colab": {
          "base_uri": "https://localhost:8080/",
          "height": 301
        }
      },
      "source": [
        "from google.colab import drive\n",
        "drive.mount('/content/drive/')\n",
        "prefix = './drive/My Drive/ND_CSE/Year_1/Research:Care-Net/code_and_data'\n",
        "!echo \"Project dir contents:\" && ls \"$prefix\"\n",
        "!echo -e \"\\nColab Notebook home dir:\" && ls"
      ],
      "execution_count": 0,
      "outputs": [
        {
          "output_type": "stream",
          "text": [
            "Drive already mounted at /content/drive/; to attempt to forcibly remount, call drive.mount(\"/content/drive/\", force_remount=True).\n",
            "Project dir contents:\n",
            "211_IN_Data_Parsing.ipynb    nd_care-net.tar.gz\n",
            "BANE\t\t\t     Node_Text_Embedding_Doc2Vec.ipynb\n",
            "BANE_embeddings.ipynb\t     Node_Text_Embedding_GPT-2-Copy1.ipynb\n",
            "binder\t\t\t     Node_Text_Embedding_sBERT.ipynb\n",
            "CX_DB8\t\t\t     README.md\n",
            "data\t\t\t     semantic_embeddings_cluster_plot.ipynb\n",
            "embeddings\t\t     service_embeddings_UMAP.ipynb\n",
            "embed_serv_sim_search.ipynb  TENE\n",
            "figures\t\t\t     TENE_embeddings.ipynb\n",
            "Graph_Data_Extraction.ipynb  USE_multi_lang_embed_serv_sim_search.ipynb\n",
            "models\n",
            "\n",
            "Colab Notebook home dir:\n",
            "drive  sample_data\n"
          ],
          "name": "stdout"
        }
      ]
    },
    {
      "cell_type": "code",
      "metadata": {
        "id": "mE2OEjtu9Tl9",
        "colab_type": "code",
        "colab": {}
      },
      "source": [
        "# # install conda\n",
        "# install_conda = ''\n",
        "# while install_conda not in ('Y', 'N'):\n",
        "#   install_conda = input(\"Do you want to install conda?\").upper()\n",
        "# install_conda = True if install_conda == 'Y' else False \n",
        "# if install_conda:\n",
        "#   !if [ ! -f Miniconda3-latest-Linux-x86_64.sh ]; then wget https://repo.anaconda.com/miniconda/Miniconda3-latest-Linux-x86_64.sh; fi\n",
        "#   !bash Miniconda3-latest-Linux-x86_64.sh -bfp /usr/local"
      ],
      "execution_count": 0,
      "outputs": []
    },
    {
      "cell_type": "code",
      "metadata": {
        "colab_type": "code",
        "id": "wrvif9i2tbf5",
        "colab": {}
      },
      "source": [
        "# env_file = prefix + '/binder/environment.yml'\n",
        "# !source activate && conda activate && conda env update --file \"$env_file\""
      ],
      "execution_count": 0,
      "outputs": []
    },
    {
      "cell_type": "code",
      "metadata": {
        "id": "sJNXKWrlJQVZ",
        "colab_type": "code",
        "colab": {}
      },
      "source": [
        "# load_env = ''\n",
        "# while load_env not in ('Y', 'N'):\n",
        "#   load_env = input(\"Do you want to load the project conda env?\").upper()\n",
        "# load_env = True if load_env == 'Y' else False \n",
        "# if load_env:\n",
        "#   !source activate && conda activate && conda install -c conda-forge -y conda-pack\n",
        "#   !rm -rf /usr/local/envs/nd_care-net && mkdir -p /usr/local/envs/nd_care-net\n",
        "#   !tar -xzf './drive/My Drive/ND_CSE/Year_1/Research:Care-Net/code_and_data/nd_care-net.tar.gz' -C /usr/local/envs/nd_care-net/\n",
        "#   # Cleanup prefixes from in the active environment.\n",
        "#   # Note that this command can also be run without activating the environment\n",
        "#   # as long as some version of python is already installed on the machine.\n",
        "#   !source activate && conda activate nd_care-net && conda-unpack"
      ],
      "execution_count": 0,
      "outputs": []
    },
    {
      "cell_type": "markdown",
      "metadata": {
        "id": "k7aPQSzCj9jr",
        "colab_type": "text"
      },
      "source": [
        "## Imports, Global Config, and Data"
      ]
    },
    {
      "cell_type": "code",
      "metadata": {
        "id": "a73qer_zPJLy",
        "colab_type": "code",
        "colab": {}
      },
      "source": [
        "# !pip3 uninstall -y tensorflow-gpu deepdish seaborn tensorflow_text\n",
        "# !pip3 install tensorflow-gpu==2.0rc0  tf-sentencepiece==0.1.83\n",
        "!pip3 install annoy h2o4gpu tqdm tabulate nltk tensorflow_text==2.0rc0 umap-learn"
      ],
      "execution_count": 0,
      "outputs": []
    },
    {
      "cell_type": "code",
      "metadata": {
        "id": "fidU1Ta38Z45",
        "colab_type": "code",
        "outputId": "95842a12-6727-4862-89fc-c9e0c886314b",
        "colab": {
          "base_uri": "https://localhost:8080/",
          "height": 70
        }
      },
      "source": [
        "#following this guide: https://colab.research.google.com/drive/1t4bi7X7zRzwIjdxUrU2hUs7LneqgYLVK#scrollTo=a73qer_zPJLy\n",
        "# and: https://github.com/tensorflow/hub/blob/master/examples/colab/tf2_semantic_approximate_nearest_neighbors.ipynb\n",
        "\n",
        "try:\n",
        "  # %tensorflow_version only exists in Colab.\n",
        "  %tensorflow_version 2.x\n",
        "except Exception:\n",
        "  pass\n",
        "  \n",
        "import tensorflow as tf\n",
        "import tensorflow_text\n",
        "import tensorflow_hub as hub\n",
        "from h2o4gpu.manifold import TSNE\n",
        "# import matplotlib.pyplot as plt\n",
        "import numpy as np\n",
        "from h2o4gpu.metrics.pairwise import cosine_similarity\n",
        "import seaborn as sns\n",
        "import annoy\n",
        "import umap\n",
        "\n",
        "import json\n",
        "import os\n",
        "import csv\n",
        "import pickle\n",
        "import pandas as pd\n",
        "\n",
        "import random\n",
        "import typing\n",
        "from itertools import chain\n",
        "import string\n",
        "\n",
        "from tqdm import tqdm, trange\n",
        "from tabulate import tabulate\n",
        "import logging\n",
        "\n",
        "import nltk\n",
        "from nltk import sent_tokenize\n",
        "from nltk import word_tokenize\n",
        "from nltk.corpus import stopwords\n",
        "from nltk import download as nltk_dl\n",
        "from nltk.stem import WordNetLemmatizer\n",
        "nltk_dl('wordnet')"
      ],
      "execution_count": 0,
      "outputs": [
        {
          "output_type": "stream",
          "text": [
            "[nltk_data] Downloading package wordnet to /root/nltk_data...\n",
            "[nltk_data]   Package wordnet is already up-to-date!\n"
          ],
          "name": "stdout"
        },
        {
          "output_type": "execute_result",
          "data": {
            "text/plain": [
              "True"
            ]
          },
          "metadata": {
            "tags": []
          },
          "execution_count": 49
        }
      ]
    },
    {
      "cell_type": "code",
      "metadata": {
        "id": "EgvycbQTG7Lj",
        "colab_type": "code",
        "outputId": "add9b55f-a9a4-420b-e37d-9b3f30df4fb7",
        "colab": {
          "base_uri": "https://localhost:8080/",
          "height": 35
        }
      },
      "source": [
        "# make sure we're using a gpu or hw acceleration before we start embedding!!\n",
        "# NOTE: not working. clearly connected to GPU\n",
        "if not tf.test.is_gpu_available() and 'COLAB_TPU_ADDR' not in os.environ:\n",
        "  print(\"WARNING!: This notebook is not connected to a GPU nor TPU runtime.\")\n",
        "else:\n",
        "  print(\"HW Acceleration should work :)\")"
      ],
      "execution_count": 0,
      "outputs": [
        {
          "output_type": "stream",
          "text": [
            "HW Acceleration should work :)\n"
          ],
          "name": "stdout"
        }
      ]
    },
    {
      "cell_type": "code",
      "metadata": {
        "id": "A4spVCrY8Z5W",
        "colab_type": "code",
        "colab": {}
      },
      "source": [
        "# open our datasets\n",
        "with open(prefix + '/data/services_nodes.json') as sn:\n",
        "    serv_nodes = json.loads(sn.read())\n",
        "    \n",
        "with open(prefix + '/data/services_edgelist.csv') as se:\n",
        "    serv_edges = csv.reader(se)\n",
        "\n",
        "# TODO: refacto var name to something more accurate and general\n",
        "with open(prefix + '/data/HIN_nodes.json') as taxo:\n",
        "    taxo_nodes = json.loads(taxo.read())\n",
        "\n",
        "with open(prefix + '/data/code_to_node_num.json') as cn:\n",
        "    code_trans = json.loads(cn.read())"
      ],
      "execution_count": 0,
      "outputs": []
    },
    {
      "cell_type": "code",
      "metadata": {
        "id": "W_32VQBkkQWP",
        "colab_type": "code",
        "outputId": "7d8b7747-d7f2-4646-e8ba-1d93783ca55a",
        "colab": {
          "base_uri": "https://localhost:8080/",
          "height": 35
        }
      },
      "source": [
        "NODE_TYPE = 'services'\n",
        "BATCH_SIZE = 256\n",
        "NUM_NODES = len(serv_nodes)\n",
        "NUM_BATCHES =  NUM_NODES // BATCH_SIZE\n",
        "\n",
        "MODEL = 'USE'\n",
        "# MODEL_URL = 'https://tfhub.dev/google/universal-sentence-encoder-multilingual-large/3'\n",
        "# MODEL_URL = 'https://tfhub.dev/google/universal-sentence-encoder-multilingual/2'\n",
        "# MODEL_URL = 'https://tfhub.dev/google/universal-sentence-encoder-large/5'\n",
        "MODEL_URL = 'https://tfhub.dev/google/universal-sentence-encoder/4'\n",
        "MODEL_TYPE = MODEL_URL.split('/')[-2]\n",
        "MODEL_VER = MODEL_URL.split('/')[-1]\n",
        "\n",
        "!mkdir -p \"$prefix/embeddings/$MODEL/\"\n",
        "print(\"Using Model {}_{}_v{}\".format(MODEL, MODEL_TYPE, MODEL_VER))"
      ],
      "execution_count": 0,
      "outputs": [
        {
          "output_type": "stream",
          "text": [
            "Using Model USE_universal-sentence-encoder_v4\n"
          ],
          "name": "stdout"
        }
      ]
    },
    {
      "cell_type": "markdown",
      "metadata": {
        "id": "gO_C9bg409Fq",
        "colab_type": "text"
      },
      "source": [
        "## Pre-process our text data"
      ]
    },
    {
      "cell_type": "code",
      "metadata": {
        "id": "65ovgp9i8Z5m",
        "colab_type": "code",
        "colab": {}
      },
      "source": [
        "# adapted from: https://towardsdatascience.com/machine-learning-text-processing-1d5a2d638958\n",
        "# and: https://medium.com/@datamonsters/text-preprocessing-in-python-steps-tools-and-examples-bf025f872908\n",
        "# and TF2.0 example: https://tfhub.dev/google/universal-sentence-encoder-large/5\n",
        "\n",
        "# some of the other models I use process texts as a list of sentences\n",
        "# preprocess for all cases since combining inro full text is trivial\n",
        "def preprocess_text(text: str) -> typing.List :\n",
        "    # normalize: convert to lower, remove \n",
        "    # numbers, remove punctuation\n",
        "    text = text.lower()\n",
        "    \n",
        "    # tokenize into sentences\n",
        "    text_sents = nltk.sent_tokenize(text)\n",
        "    # proc_sents = text_sents\n",
        "    proc_sents = []\n",
        "\n",
        "    for sent in text_sents:\n",
        "\n",
        "      words = []\n",
        "      # remove digits \n",
        "      sent = sent.translate(str.maketrans('','', string.digits))\n",
        "      # remove punctuation\n",
        "      sent = sent.translate(str.maketrans('','',string.punctuation))\n",
        "      # split into word tokens\n",
        "      sent_words = nltk.word_tokenize(sent)\n",
        "\n",
        "      # print(sent_words)\n",
        "      stop_words = set(stopwords.words('english'))\n",
        "      # remove stopwords like 'the', 'is', 'a', etc\n",
        "      words = [w for w in sent_words if w not in stop_words]\n",
        "      # get base form of words\n",
        "      lemmer = WordNetLemmatizer()\n",
        "      words = [lemmer.lemmatize(w) for w in words]\n",
        "      # join words back into sentence\n",
        "      proc_sents.append(' '.join(words))\n",
        "      \n",
        "\n",
        "    return proc_sents"
      ],
      "execution_count": 0,
      "outputs": []
    },
    {
      "cell_type": "code",
      "metadata": {
        "id": "6wOvHprC8Z50",
        "colab_type": "code",
        "colab": {}
      },
      "source": [
        "# service features to be embedded as text or tags\n",
        "text_feats = [\n",
        "    'name', \n",
        "    'akas', \n",
        "    'description', \n",
        "    'codes',\n",
        "    'eligibility'\n",
        "]\n",
        "\n",
        "docs = []\n",
        "tagged_texts = {}\n",
        "\n",
        "if os.path.exists(os.path.join(prefix, 'data', 'tagged_texts.json')):\n",
        "  with open(os.path.join(prefix, 'data', 'tagged_texts.json')) as ttf:\n",
        "    tagged_texts = json.load(ttf)\n",
        "\n",
        "else:\n",
        "  # for each service node\n",
        "  with tqdm(total=NUM_NODES, desc='Pre-processing Text') as pbar:\n",
        "    \n",
        "      for node_num in serv_nodes:\n",
        "\n",
        "        node = serv_nodes[node_num]\n",
        "        node_sents = []\n",
        "        node_text = ''\n",
        "        # preprocess the text content of the node and it's taxonomy code nodes\n",
        "\n",
        "        for feat in text_feats:\n",
        "\n",
        "            text = node[feat]\n",
        "            if feat in ('akas', 'eligibility') and text:\n",
        "                if len(text) > 1:\n",
        "                  if isinstance(text, str):\n",
        "                    print(text)\n",
        "                  text = '. '.join(text)\n",
        "                else:\n",
        "                  text = text[0]\n",
        "                # node_sents.extend(preprocess_text(text))\n",
        "                node_text += text + '. '\n",
        "\n",
        "\n",
        "            elif feat == 'codes':\n",
        "                for cn in node[feat]:\n",
        "                    code = taxo_nodes[str(code_trans[cn])]\n",
        "                    # node_sents.extend(preprocess_text(code['name']))\n",
        "                    node_text += code['name'] + '. '\n",
        "                    # node_sents.extend(preprocess_text(code['description']))\n",
        "                    node_text += code['description'] + '. '\n",
        "                    if 'keywords' in code:\n",
        "                      keywords = code['keywords']\n",
        "                      if isinstance(keywords, str):\n",
        "                        keywords = [keywords]\n",
        "                      if len(keywords) > 1:\n",
        "                        keywords = '. '.join(keywords)\n",
        "                      else:\n",
        "                        keywords = keywords[0]\n",
        "                      # node_sents.extend(preprocess_text(keywords))\n",
        "                      node_text += keywords + '. '\n",
        "\n",
        "            # some node features are empty\n",
        "            elif text:\n",
        "                # node_sents.extend(preprocess_text(text))\n",
        "                node_text += text + '. '\n",
        "\n",
        "        node_sents = preprocess_text(node_text)\n",
        "        # print(np.array(node_sents).shape)\n",
        "        pbar.update(1)\n",
        "        tagged_texts[node_num] = node_sents"
      ],
      "execution_count": 0,
      "outputs": []
    },
    {
      "cell_type": "code",
      "metadata": {
        "id": "tb3hRbWgJf8l",
        "colab_type": "code",
        "colab": {}
      },
      "source": [
        "def save_to_json(data, name):\n",
        "  path = os.path.join(prefix, 'data', name)\n",
        "  data_json = json.dumps(data)\n",
        "  with open(path, 'w') as djf:\n",
        "    djf.write(data_json)"
      ],
      "execution_count": 0,
      "outputs": []
    },
    {
      "cell_type": "code",
      "metadata": {
        "id": "k1fY-WPvkEVk",
        "colab_type": "code",
        "outputId": "77722dd5-8de1-4000-8cb4-bd96d400e6a4",
        "colab": {
          "base_uri": "https://localhost:8080/",
          "height": 499
        }
      },
      "source": [
        "sample = random.choices(list(tagged_texts.items()), k=2)\n",
        "sample = list(map(lambda t: (t[0], '\\n'.join(t[1])), sample))\n",
        "print(tabulate(sample))"
      ],
      "execution_count": 0,
      "outputs": [
        {
          "output_type": "stream",
          "text": [
            "-----  ----------------------------------------------------------------------------------------------------------------------------------------------------------------------------------------------------------\n",
            "31188  domestic violence shelter\n",
            "       offer temporary shelter support service woman men fleeing domestic violence sexual assult situation child\n",
            "       maximum stay day\n",
            "       crisis intake available hour per day\n",
            "       longterm transitional housing may available passage way completed stay better way domestic violence shelter\n",
            "       program provide temporary emergency shelter individual primarily woman experienced domestic violenceabuse child\n",
            "       facility usually provide inhouse individual group family counseling full range secondary service related domestic violence including referral appropriate resource\n",
            "       also included similar facility battered men accommodate men woman available abused woman shelter\n",
            "       assaulted woman shelter\n",
            "       battered men shelter\n",
            "       battered men shelter\n",
            "       battered woman shelter\n",
            "       battered woman shelter\n",
            "       domestic abuse shelter\n",
            "       domestic violence shelter\n",
            "       intimate partner abuse shelter\n",
            "       intimate partner violence shelter\n",
            "       female male victim domestic violence without child age\n",
            "33874  adult protective service\n",
            "       investigates allegation abuse neglect selfneglect exploitation endangered adult adult unable care manage property due physical mental incapacity indiana\n",
            "       indiana law requires citizen report case suspected abuse neglect exploitation endangered adult nearest adult protective service office law enforcement agent\n",
            "       report confidential adult protective service\n",
            "       program provide assistance adult unable act behalf manage affair immediate danger due physical emotional abuse unsafe hazardous living condition exploitation neglect abandonment adult protection program\n",
            "       person suspect abuse neglect selfneglect exploitation endangered adult indiana\n",
            "-----  ----------------------------------------------------------------------------------------------------------------------------------------------------------------------------------------------------------\n"
          ],
          "name": "stdout"
        }
      ]
    },
    {
      "cell_type": "code",
      "metadata": {
        "id": "WkMzeq5lOe8b",
        "colab_type": "code",
        "colab": {}
      },
      "source": [
        "save_to_json(data=tagged_texts, name='tagged_texts.json')"
      ],
      "execution_count": 0,
      "outputs": []
    },
    {
      "cell_type": "markdown",
      "metadata": {
        "id": "UcHy7er_1P3Z",
        "colab_type": "text"
      },
      "source": [
        "## Get embeddings from our text data "
      ]
    },
    {
      "cell_type": "code",
      "metadata": {
        "id": "Xqa9U3oQlph6",
        "colab_type": "code",
        "colab": {}
      },
      "source": [
        "tagged_embeds = {}\n",
        "\n",
        "# generates embedding from model loaded from tf hub\n",
        "def generate_embeds(text, embed_fn=None):\n",
        "  if embed_fn is None:\n",
        "    embed_fn = hub.load(MODULE_URL)\n",
        "  \n",
        "  # older versions return a dict with a Tensor\n",
        "  # newer versions return the Tensor directly\n",
        "  # on either we need to extract the numpy array\n",
        "  embedding = embed_fn(text).numpy()\n",
        "#   embedding = embed_fn(text)['outputs'].numpy()\n",
        "  return embedding\n",
        "\n",
        "# processes text to embed in batches\n",
        "def process_embed_batches(tagged_texts, module_url=MODEL_URL):\n",
        "\n",
        "  #load tensorflow hub module (weights)\n",
        "  embedder = hub.load(module_url)\n",
        "  print(\"Successfully Loaded Model...\")\n",
        "\n",
        "  # setup progress bar\n",
        "  descr = 'Embedding node text content'\n",
        "  with tqdm(total=NUM_NODES, dynamic_ncols=True, desc=descr) as pbar:\n",
        "    \n",
        "    text_nodes = list(tagged_texts.items())\n",
        "    # for each node, embed it's text content. save in tagged dict\n",
        "    y = 0\n",
        "    for i in range(0, NUM_NODES, BATCH_SIZE):\n",
        "\n",
        "        text_embeds = []\n",
        "        # grab BATCH_SIZE number of samples\n",
        "        # separate list of tuples into separate lists\n",
        "        batch_ids, batch_sents = list(zip(*text_nodes[i:i+BATCH_SIZE]))\n",
        "        # USE embeddings expects the full text instead of separate sentences\n",
        "        # flatten our list of lists of sentences into a list of full text\n",
        "        batch_texts = ['\\n'.join(sents) for sents in batch_sents]\n",
        "\n",
        "        text_embeds = generate_embeds(text=batch_texts, embed_fn=embedder)\n",
        "        # sent_embeds = np.concatenate(sent_embeds, axis=0)\n",
        "        for idx, embed in zip(batch_ids, text_embeds):\n",
        "          # save the node id and it's text embedding\n",
        "          tagged_embeds[idx] = {'embed': embed}\n",
        "\n",
        "        y += 1\n",
        "        pbar.update(BATCH_SIZE)\n",
        "        if y % 1000 == 0 or (NUM_BATCHES - y) < 1000:\n",
        "          print(\"Processed Batch {}/{}\".format(y, NUM_BATCHES))\n",
        "          \n",
        "  return tagged_embeds\n",
        "\n"
      ],
      "execution_count": 0,
      "outputs": []
    },
    {
      "cell_type": "code",
      "metadata": {
        "id": "9xIh1ODGBUVT",
        "colab_type": "code",
        "outputId": "5d30dbc4-9524-40b1-c5e7-01894d3fc686",
        "colab": {
          "base_uri": "https://localhost:8080/",
          "height": 1000
        }
      },
      "source": [
        "embed_path = os.path.join(prefix, 'embedding', MODEL, \"{}_{}_v{}.pkl\".format(\n",
        "    NODE_TYPE, MODEL_TYPE, MODEL_VER\n",
        "    ))\n",
        "if os.path.exists(embed_path):\n",
        "  print(\"Loading embeddings from {}\".format(embed_path))\n",
        "  with open(embed_path, 'rb') as f:\n",
        "        tagged_embeds = pickle.load(f)\n",
        "else:\n",
        "  tagged_embeds = process_embed_batches(tagged_texts=tagged_texts, module_url=MODEL_URL)"
      ],
      "execution_count": 0,
      "outputs": [
        {
          "output_type": "stream",
          "text": [
            "\rEmbedding node text content:   0%|          | 0/16547 [00:00<?, ?it/s]"
          ],
          "name": "stderr"
        },
        {
          "output_type": "stream",
          "text": [
            "Successfully Loaded Model...\n"
          ],
          "name": "stdout"
        },
        {
          "output_type": "stream",
          "text": [
            "Embedding node text content:   5%|▍         | 768/16547 [00:00<00:16, 950.91it/s]"
          ],
          "name": "stderr"
        },
        {
          "output_type": "stream",
          "text": [
            "Processed Batch 1/64\n",
            "Processed Batch 2/64\n",
            "Processed Batch 3/64\n"
          ],
          "name": "stdout"
        },
        {
          "output_type": "stream",
          "text": [
            "Embedding node text content:   9%|▉         | 1536/16547 [00:00<00:10, 1416.64it/s]"
          ],
          "name": "stderr"
        },
        {
          "output_type": "stream",
          "text": [
            "Processed Batch 4/64\n",
            "Processed Batch 5/64\n",
            "Processed Batch 6/64\n"
          ],
          "name": "stdout"
        },
        {
          "output_type": "stream",
          "text": [
            "\rEmbedding node text content:  12%|█▏        | 2048/16547 [00:00<00:08, 1673.41it/s]"
          ],
          "name": "stderr"
        },
        {
          "output_type": "stream",
          "text": [
            "Processed Batch 7/64\n",
            "Processed Batch 8/64\n",
            "Processed Batch 9/64\n"
          ],
          "name": "stdout"
        },
        {
          "output_type": "stream",
          "text": [
            "Embedding node text content:  19%|█▊        | 3072/16547 [00:01<00:06, 2116.79it/s]"
          ],
          "name": "stderr"
        },
        {
          "output_type": "stream",
          "text": [
            "Processed Batch 10/64\n",
            "Processed Batch 11/64\n",
            "Processed Batch 12/64\n"
          ],
          "name": "stdout"
        },
        {
          "output_type": "stream",
          "text": [
            "Embedding node text content:  22%|██▏       | 3584/16547 [00:01<00:05, 2242.07it/s]"
          ],
          "name": "stderr"
        },
        {
          "output_type": "stream",
          "text": [
            "Processed Batch 13/64\n",
            "Processed Batch 14/64\n"
          ],
          "name": "stdout"
        },
        {
          "output_type": "stream",
          "text": [
            "Embedding node text content:  26%|██▋       | 4352/16547 [00:01<00:05, 2348.66it/s]"
          ],
          "name": "stderr"
        },
        {
          "output_type": "stream",
          "text": [
            "Processed Batch 15/64\n",
            "Processed Batch 16/64\n",
            "Processed Batch 17/64\n"
          ],
          "name": "stdout"
        },
        {
          "output_type": "stream",
          "text": [
            "Embedding node text content:  29%|██▉       | 4864/16547 [00:02<00:04, 2381.55it/s]"
          ],
          "name": "stderr"
        },
        {
          "output_type": "stream",
          "text": [
            "Processed Batch 18/64\n",
            "Processed Batch 19/64\n"
          ],
          "name": "stdout"
        },
        {
          "output_type": "stream",
          "text": [
            "Embedding node text content:  32%|███▏      | 5376/16547 [00:02<00:04, 2400.70it/s]"
          ],
          "name": "stderr"
        },
        {
          "output_type": "stream",
          "text": [
            "Processed Batch 20/64\n",
            "Processed Batch 21/64\n"
          ],
          "name": "stdout"
        },
        {
          "output_type": "stream",
          "text": [
            "Embedding node text content:  36%|███▌      | 5888/16547 [00:02<00:04, 2453.70it/s]"
          ],
          "name": "stderr"
        },
        {
          "output_type": "stream",
          "text": [
            "Processed Batch 22/64\n",
            "Processed Batch 23/64\n"
          ],
          "name": "stdout"
        },
        {
          "output_type": "stream",
          "text": [
            "Embedding node text content:  39%|███▊      | 6400/16547 [00:02<00:04, 2413.38it/s]"
          ],
          "name": "stderr"
        },
        {
          "output_type": "stream",
          "text": [
            "Processed Batch 24/64\n",
            "Processed Batch 25/64\n"
          ],
          "name": "stdout"
        },
        {
          "output_type": "stream",
          "text": [
            "Embedding node text content:  42%|████▏     | 6912/16547 [00:02<00:04, 2407.56it/s]"
          ],
          "name": "stderr"
        },
        {
          "output_type": "stream",
          "text": [
            "Processed Batch 26/64\n",
            "Processed Batch 27/64\n",
            "Processed Batch 28/64\n"
          ],
          "name": "stdout"
        },
        {
          "output_type": "stream",
          "text": [
            "Embedding node text content:  46%|████▋     | 7680/16547 [00:03<00:03, 2435.47it/s]"
          ],
          "name": "stderr"
        },
        {
          "output_type": "stream",
          "text": [
            "Processed Batch 29/64\n",
            "Processed Batch 30/64\n",
            "Processed Batch 31/64\n"
          ],
          "name": "stdout"
        },
        {
          "output_type": "stream",
          "text": [
            "Embedding node text content:  53%|█████▎    | 8704/16547 [00:03<00:02, 2654.13it/s]"
          ],
          "name": "stderr"
        },
        {
          "output_type": "stream",
          "text": [
            "Processed Batch 32/64\n",
            "Processed Batch 33/64\n",
            "Processed Batch 34/64\n"
          ],
          "name": "stdout"
        },
        {
          "output_type": "stream",
          "text": [
            "\rEmbedding node text content:  56%|█████▌    | 9216/16547 [00:03<00:02, 2638.21it/s]"
          ],
          "name": "stderr"
        },
        {
          "output_type": "stream",
          "text": [
            "Processed Batch 35/64\n",
            "Processed Batch 36/64\n",
            "Processed Batch 37/64\n"
          ],
          "name": "stdout"
        },
        {
          "output_type": "stream",
          "text": [
            "Embedding node text content:  62%|██████▏   | 10240/16547 [00:04<00:02, 2718.83it/s]"
          ],
          "name": "stderr"
        },
        {
          "output_type": "stream",
          "text": [
            "Processed Batch 38/64\n",
            "Processed Batch 39/64\n",
            "Processed Batch 40/64\n"
          ],
          "name": "stdout"
        },
        {
          "output_type": "stream",
          "text": [
            "\rEmbedding node text content:  65%|██████▍   | 10752/16547 [00:04<00:02, 2735.69it/s]"
          ],
          "name": "stderr"
        },
        {
          "output_type": "stream",
          "text": [
            "Processed Batch 41/64\n",
            "Processed Batch 42/64\n",
            "Processed Batch 43/64\n"
          ],
          "name": "stdout"
        },
        {
          "output_type": "stream",
          "text": [
            "Embedding node text content:  71%|███████   | 11776/16547 [00:04<00:01, 2689.71it/s]"
          ],
          "name": "stderr"
        },
        {
          "output_type": "stream",
          "text": [
            "Processed Batch 44/64\n",
            "Processed Batch 45/64\n",
            "Processed Batch 46/64\n"
          ],
          "name": "stdout"
        },
        {
          "output_type": "stream",
          "text": [
            "\rEmbedding node text content:  74%|███████▍  | 12288/16547 [00:04<00:01, 2702.01it/s]"
          ],
          "name": "stderr"
        },
        {
          "output_type": "stream",
          "text": [
            "Processed Batch 47/64\n",
            "Processed Batch 48/64\n"
          ],
          "name": "stdout"
        },
        {
          "output_type": "stream",
          "text": [
            "\rEmbedding node text content:  77%|███████▋  | 12800/16547 [00:05<00:01, 2631.14it/s]"
          ],
          "name": "stderr"
        },
        {
          "output_type": "stream",
          "text": [
            "Processed Batch 49/64\n",
            "Processed Batch 50/64\n",
            "Processed Batch 51/64\n"
          ],
          "name": "stdout"
        },
        {
          "output_type": "stream",
          "text": [
            "Embedding node text content:  84%|████████▎ | 13824/16547 [00:05<00:00, 2745.38it/s]"
          ],
          "name": "stderr"
        },
        {
          "output_type": "stream",
          "text": [
            "Processed Batch 52/64\n",
            "Processed Batch 53/64\n",
            "Processed Batch 54/64\n"
          ],
          "name": "stdout"
        },
        {
          "output_type": "stream",
          "text": [
            "\rEmbedding node text content:  87%|████████▋ | 14336/16547 [00:05<00:00, 2718.22it/s]"
          ],
          "name": "stderr"
        },
        {
          "output_type": "stream",
          "text": [
            "Processed Batch 55/64\n",
            "Processed Batch 56/64\n",
            "Processed Batch 57/64\n"
          ],
          "name": "stdout"
        },
        {
          "output_type": "stream",
          "text": [
            "Embedding node text content:  93%|█████████▎| 15360/16547 [00:06<00:00, 2839.99it/s]"
          ],
          "name": "stderr"
        },
        {
          "output_type": "stream",
          "text": [
            "Processed Batch 58/64\n",
            "Processed Batch 59/64\n",
            "Processed Batch 60/64\n"
          ],
          "name": "stdout"
        },
        {
          "output_type": "stream",
          "text": [
            "\rEmbedding node text content:  96%|█████████▌| 15872/16547 [00:06<00:00, 2840.57it/s]"
          ],
          "name": "stderr"
        },
        {
          "output_type": "stream",
          "text": [
            "Processed Batch 61/64\n",
            "Processed Batch 62/64\n",
            "Processed Batch 63/64\n"
          ],
          "name": "stdout"
        },
        {
          "output_type": "stream",
          "text": [
            "Embedding node text content: 16640it [00:06, 2582.24it/s]                           "
          ],
          "name": "stderr"
        },
        {
          "output_type": "stream",
          "text": [
            "Processed Batch 64/64\n",
            "Processed Batch 65/64\n"
          ],
          "name": "stdout"
        },
        {
          "output_type": "stream",
          "text": [
            "\n"
          ],
          "name": "stderr"
        }
      ]
    },
    {
      "cell_type": "code",
      "metadata": {
        "id": "wRm8oly6SINj",
        "colab_type": "code",
        "colab": {}
      },
      "source": [
        "def save_to_pickle(data, path=None):\n",
        "  if path is not None:\n",
        "    path = os.path.join(prefix, path)\n",
        "  else:  \n",
        "    path = os.path.join(prefix, 'embeddings', MODEL, \"{}_{}_v{}.pkl\".format(\n",
        "      NODE_TYPE, MODEL_TYPE, MODEL_VER\n",
        "    ))\n",
        "  with open(path, 'ab') as f:\n",
        "        pickle.dump(data, f)"
      ],
      "execution_count": 0,
      "outputs": []
    },
    {
      "cell_type": "code",
      "metadata": {
        "id": "Cl0I_Apga6ig",
        "colab_type": "code",
        "colab": {}
      },
      "source": [
        "save_to_pickle(tagged_embeds)"
      ],
      "execution_count": 0,
      "outputs": []
    },
    {
      "cell_type": "markdown",
      "metadata": {
        "id": "5IZW6NhuP7D7",
        "colab_type": "text"
      },
      "source": [
        "## Sanity Check\n",
        "Make sure our embeddings make sense by comparing them all against each other. The most similar one should be itself (ie the matrix diagonal). "
      ]
    },
    {
      "cell_type": "code",
      "metadata": {
        "id": "RRI31tOtcZBO",
        "colab_type": "code",
        "colab": {}
      },
      "source": [
        "# adapted from: https://colab.research.google.com/github/tensorflow/hub/blob/master/examples/colab/semantic_similarity_with_tf_hub_universal_encoder.ipynb#scrollTo=h1FFCTKm7ba4\n",
        "\n",
        "def plot_similarity(names, features, rotation):\n",
        "  # pair wise cosine similarity between all elements in the matrix\n",
        "  corr = cosine_similarity(features)\n",
        "  sns.set(font_scale=1.2)\n",
        "  g = sns.heatmap(\n",
        "      corr,\n",
        "      xticklabels=names,\n",
        "      yticklabels=names,\n",
        "      vmin=0,\n",
        "      vmax=1,\n",
        "      cmap=\"YlOrRd\")\n",
        "  g.set_xticklabels(names, rotation=rotation)\n",
        "  g.set_title(\"Semantic Textual Similarity: Self-Comparison\")\n",
        "\n",
        "def run_and_plot(names, embeds):\n",
        "  plot_similarity(names, embeds, rotation=90)"
      ],
      "execution_count": 0,
      "outputs": []
    },
    {
      "cell_type": "code",
      "metadata": {
        "id": "iL7pK4HfRIwD",
        "colab_type": "code",
        "outputId": "fdd3fa81-614d-4e8c-c16c-0dc3e26ff854",
        "colab": {
          "base_uri": "https://localhost:8080/",
          "height": 685
        }
      },
      "source": [
        "node_names = [taxo_nodes[idx]['name'] for idx in tagged_texts]\n",
        "node_embeds = [tagged_embeds[idx]['embed'] for idx in tagged_embeds]\n",
        "node_texts = ['\\n'.join(tagged_texts[idx]) for idx in tagged_embeds]\n",
        "node_ids = list(tagged_embeds.keys())\n",
        "\n",
        "paired = list(zip(node_names, node_embeds))\n",
        "paired = random.sample(paired, 10)\n",
        "name_smpls, embed_smpls = zip(*paired)\n",
        "run_and_plot(names=name_smpls, embeds=embed_smpls)"
      ],
      "execution_count": 0,
      "outputs": [
        {
          "output_type": "display_data",
          "data": {
            "image/png": "[encoded data removed]",
            "text/plain": [
              "<Figure size 432x288 with 2 Axes>"
            ]
          },
          "metadata": {
            "tags": []
          }
        }
      ]
    },
    {
      "cell_type": "code",
      "metadata": {
        "id": "g8kiM-PMJa7r",
        "colab_type": "code",
        "colab": {}
      },
      "source": [
        ""
      ],
      "execution_count": 0,
      "outputs": []
    }
  ]
}