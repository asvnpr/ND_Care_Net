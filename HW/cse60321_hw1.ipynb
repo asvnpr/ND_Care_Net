{
 "cells": [
  {
   "cell_type": "markdown",
   "metadata": {},
   "source": [
    "Alejandro Vega-Nogales  \n",
    "\n",
    "## CSE60321 HW1"
   ]
  },
  {
   "cell_type": "markdown",
   "metadata": {},
   "source": [
    "### Problem 1\n",
    "\n",
    "![](./hw1_table1.jpeg)\n",
    "\n",
    "*Note: Manufactoring size is mm not nm*"
   ]
  },
  {
   "cell_type": "markdown",
   "metadata": {},
   "source": [
    "**1.A)** What is the yield of the BlueDragon Chip?\n",
    "\n",
    "Assuming the best case scenario where the wafer yield is 100%: \n",
    "\\begin{align}\n",
    "\\text{Yield} & = \\frac{\\text{Wafer yield}}{(1 + \\text{Defects/area} * \\text{Die area})^{N}} \\\\\n",
    "\\text{Yield} & = \\frac{fda}{(1 + 3 * 4)^{12}} \\\\\n",
    "\\end{align}\n",
    "\n",
    "**1.B)** Why does RedDragon have a higher defect rate than BlueDragon?\n",
    "\n",
    "**1.C)** Assume that BlueDragon makes a profit of \\$10 per defect-free chip and each wafer has a 450mm diameter. **How much profit do you make on each wafer of BlueDragon chip? (Hint: Refer to the formula for computing the dies per wafer on p. 31)**\n",
    "\n",
    "**1.D)** The RedDragon chup is fabricated with a newer technology but has the same architecture as the BlueDragon. Assume the same size wafer is used. **What is the minimum profit per defect-free RedDragon chip that should be set in order to make it worthwhile to move to this new architecture?**"
   ]
  },
  {
   "cell_type": "markdown",
   "metadata": {},
   "source": []
  },
  {
   "cell_type": "code",
   "execution_count": null,
   "metadata": {},
   "outputs": [],
   "source": []
  },
  {
   "cell_type": "markdown",
   "metadata": {},
   "source": [
    "### Problem 2\n",
    "\n",
    "Consider a cluster like the ones supported by CRC at Notre Dame. Assume this cluster has 500 computers, each with a MTTF of 25 days. Assume failures follow an exponential distribution and are independent.\n",
    "\n",
    "**2.A)** f 1/5 of the computers fail, the cluster is considered to fail. What is the MTTF of the cluster? **Under this failure mode, does adding more computers increase the MTTF of the cluster and why? Show your work.***\n",
    "\n",
    "**2.B)** Now for the same amount of money, one could also buy 800 computers, each with a MTTF of 20 days. Assume that the cluster (implemented with either the 800 less reliable computers or the 500 original computers) is considered to fail if a single computer fails. Repairing the less reliable cluster configuration is 10% less expensive. **Which cluster would you recommend? Show your work.**\n",
    "\n",
    "**2.C)** If the cluster is considered to fail if a single computer fails, it can be readily shown that adding more computers does not improve MTTF. **List at least 3 reasons (related to reliability and performance) of why we still want to have clusters with a large number of computers.**"
   ]
  },
  {
   "cell_type": "markdown",
   "metadata": {},
   "source": [
    "### Problem 3\n",
    "\n",
    "You are asked to design the power management (PM) policy for a processor used to run a real- time application. The application (e.g., streaming a movie on your mobile device) needs to finish processing one set of data every 30 milliseconds (ms). The processor contains four identical cores. If all four cores run at the full speed, the processor consumes 2 Watts (W) (0.5 W for each core). If a core is put into sleep, the leakage power of the core is 10% of its dynamic power. If the entire processor is put to sleep, the leakage is 15% of the total dynamic power. Assume that the application is fully parallelizable.\n",
    "Consider three PM policies. **Policy 1** uses all four cores and runs at the full speed. Under this policy, the application finishes in 20 ms. **Policy 2** uses all four cores and runs the application by setting the voltage and frequency to 3/4 of what are used at the full speed and then sleep if there is slack time till the deadline. **Policy 3** uses 3 cores while letting the 4th core sleep.\n",
    "\n",
    "**3.A) Can Policy 2 and 3 meet the deadline requirement of the application? Show your work **\n",
    "\n",
    "**3.B) Which option is more energy efficient and why? Which one requires higher peak power (i.e., the maximum power)?**\n",
    "\n",
    "**3.C) Find a policy that leads to the minimum total energy, assuming that no dynamic voltage scaling (i.e., changing the voltage supply level during run time) is allowed. Show your work.**\n"
   ]
  },
  {
   "cell_type": "markdown",
   "metadata": {},
   "source": [
    "### Problem 4\n",
    "\n",
    "This problem asks you to evaluate the performance of a computer of your choice. You will use one program (Matrix multiply) provided to you with this assignment and another program of your choice. (I recommend that you choose a program from your research work or your past programming projects.\n",
    "\n",
    "**4.A)** You are asked to collect the following execution time data:\n",
    "1. Compile both programs first on your computer and then on one of the student machines (e.g., student00.cse.nd.edu) without using any compiler optimization options. Execute both programs and record the execution time and code size of each program.\n",
    "2. For the same programs and computers as the above, recompile the programs with the highest optimization level. Execute the programs and record the execution time and code size of each program.\n",
    "\n",
    "**Compute the SPECRatios of the two programs using the student machine as the reference machine. Determine the geometric mean and geometric standard deviation of the SPECRatios. Please provide the processor specification of your own computer.**\n",
    "\n",
    "**4.B)** With the above sets of data, **discuss the effects of the following factors on assessing computer performance:**\n",
    "- Compiler\n",
    "- Instruction set architecture\n",
    "- Benchmark programs"
   ]
  },
  {
   "cell_type": "markdown",
   "metadata": {},
   "source": [
    "### Problem 5\n",
    "\n",
    "Let's compare two different multi-core processors:\n",
    "\n",
    "**5.A)** For a given benchmark, specifications for the two processors are provided below: \n",
    "\n",
    "- Processor 1:\n",
    "    - Contains 16 cores, each core having a clock rate of 1 GHz\n",
    "    - The benchmark runs on all 16 cores but is not distributed evenly since it cannot be perfectly parallelized\n",
    "    - For the core with the longest run time:\n",
    "        - A total of 5 million instructions are executed; this includes instructions for communication\n",
    "        - Each instruction on average takes 1.5 clock cycle (CC). However, for every 1000 instructions executed, an average of 110 CCs are spent on communication overhead. \n",
    "- Processor 2:\n",
    "    - Contains 8 cores, each core having a clock rate of 1.2 GHz\n",
    "    - The benchmark runs on all 8 cores but is not distributed evenly since it cannot be perfectly parallelized\n",
    "    - For the core with the longest run time:\n",
    "        - A total of 6 million instructions are executed; this includes instructions for communication\n",
    "        - Each instruction on average takes 1.25 CC. However, for every 1000 instructions executed, an average of 50 CCs are spent on communication overhead. (Note that more cores usually lead to higher communication cost.)\n",
    "\n",
    "**Which machine will provide the fastest overall execution time for the benchmark?**\n",
    "\n",
    "**5.B)** Now consider a different benchmark program. The program consists of three segments. The first segment contains 80% of the code and can be totally parallelized (i.e., can launch as many parallel threads as the number of cores). The second segment contains 15% of the code and can run on at most 10 cores (i.e., can launch maximum of 10 parallel threads). The third segment cannot be parallelized at all. The CPIs and clock frequencies of the 16-core and 8-core processors are the same as what’s given in Question A and communication overhead can be ignored. Assume each processor uses the shortest time possible to complete the program. **Compute the speedup of the 16-core processor over the 8-core processor.**"
   ]
  },
  {
   "cell_type": "markdown",
   "metadata": {},
   "source": [
    "### Problem 6\n",
    "\n",
    "In this exercise, assume that we are considering enhanc- ing a quad-core machine by adding encryption hardware to it. When computing encryption operations, it is 20 times faster than the normal mode of execution. We will define percentage of encryption as the percentage of time in the original execution that is spent performing encryption operations. The specialized hard- ware increases power consumption by 2%.\n",
    "\n",
    "**6.A)** If a company has 10,000 computers, each with an MTTF of 35 days, and it experiences catastrophic failure only if 1/3 of the computers fail, what is the MTTF for the system?\n",
    "\n",
    "**6.B)** With what percent of encryption will adding encryption hardware result in a speedup of 2?\n",
    "\n",
    "**6.C)** What percentage of time in the new execution will be spent on encryption operations if a speedup of 2 is achieved?\n",
    "\n",
    "**6.D)** Suppose you have measured the percentage of encryption to be 50%. The hardware design group estimates it can speed up the encryption hardware even more with significant additional investment. You wonder whether adding a second unit in order to support parallel encryption operations would be more useful. Imagine that in the original program 90% of the encryption operations could be performed in parallel. What is the speedup of providing two or four encryption units, assuming that the parallelization allowed is limited to the number of encryption units?\n",
    "\n",
    "**6.E)** Algorithm and hardware co-design is being practiced in many system design companies. Assume that the algorithm and hardware experts have got together to redesign the encryption algorithm and hardware. The new encryption engine achieves a total of 2X improvement over the original encryption engine. However, in the redesigned implementation, the new encryption engine can only be used 80% of the time, while the rest of the computation is unchanged. What is the percentage of the encryption execution time in the original implementation?"
   ]
  },
  {
   "cell_type": "code",
   "execution_count": null,
   "metadata": {},
   "outputs": [],
   "source": []
  }
 ],
 "metadata": {
  "kernelspec": {
   "display_name": "Python 3",
   "language": "python",
   "name": "python3"
  },
  "language_info": {
   "codemirror_mode": {
    "name": "ipython",
    "version": 3
   },
   "file_extension": ".py",
   "mimetype": "text/x-python",
   "name": "python",
   "nbconvert_exporter": "python",
   "pygments_lexer": "ipython3",
   "version": "3.6.9"
  },
  "latex_envs": {
   "LaTeX_envs_menu_present": true,
   "autoclose": false,
   "autocomplete": true,
   "bibliofile": "biblio.bib",
   "cite_by": "apalike",
   "current_citInitial": 1,
   "eqLabelWithNumbers": true,
   "eqNumInitial": 1,
   "hotkeys": {
    "equation": "Ctrl-E",
    "itemize": "Ctrl-I"
   },
   "labels_anchors": false,
   "latex_user_defs": false,
   "report_style_numbering": false,
   "user_envs_cfg": false
  }
 },
 "nbformat": 4,
 "nbformat_minor": 4
}
