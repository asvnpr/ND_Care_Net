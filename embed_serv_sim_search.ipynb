{
  "nbformat": 4,
  "nbformat_minor": 0,
  "metadata": {
    "kernelspec": {
      "name": "python3",
      "display_name": "Python 3"
    },
    "language_info": {
      "codemirror_mode": {
        "name": "ipython",
        "version": 3
      },
      "file_extension": ".py",
      "mimetype": "text/x-python",
      "name": "python",
      "nbconvert_exporter": "python",
      "pygments_lexer": "ipython3",
      "version": "3.6.9"
    },
    "colab": {
      "name": "embed_serv_sim_search.ipynb",
      "provenance": [],
      "collapsed_sections": [],
      "include_colab_link": true
    },
    "accelerator": "GPU"
  },
  "cells": [
    {
      "cell_type": "markdown",
      "metadata": {
        "id": "view-in-github",
        "colab_type": "text"
      },
      "source": [
        "<a href=\"https://colab.research.google.com/github/asvnpr/ND_Care_Net/blob/master/embed_serv_sim_search.ipynb\" target=\"_parent\"><img src=\"https://colab.research.google.com/assets/colab-badge.svg\" alt=\"Open In Colab\"/></a>"
      ]
    },
    {
      "cell_type": "markdown",
      "metadata": {
        "id": "wehaECjm8Z4t",
        "colab_type": "text"
      },
      "source": [
        "# Graph Nodes (Content) Embedding\n",
        "\n",
        "- use Universal Sentence Encoder to embed nodes from our graph, then embed queries and find most similar services\n"
      ]
    },
    {
      "cell_type": "markdown",
      "metadata": {
        "id": "2WzZlAQ6O3B9",
        "colab_type": "text"
      },
      "source": [
        "## Colab Setup\n",
        "Setup our drive, dependencies, etc. so they're accesible in this notebook.\n",
        "\n",
        "**Ignore this block if you're not running this in a Colab notebook**\n",
        "\n",
        "You can get most of this block to work by changing some paths and commands"
      ]
    },
    {
      "cell_type": "markdown",
      "metadata": {
        "id": "c_S7WKSVAnNe",
        "colab_type": "text"
      },
      "source": [
        ""
      ]
    },
    {
      "cell_type": "code",
      "metadata": {
        "id": "AbDIMaiqej88",
        "colab_type": "code",
        "outputId": "d5241c05-07cc-412d-aca5-ea7f2fbd8eca",
        "colab": {
          "base_uri": "https://localhost:8080/",
          "height": 321
        }
      },
      "source": [
        "from google.colab import drive\n",
        "drive.mount('/content/drive/')\n",
        "prefix = './drive/My Drive/ND_CSE/Year_1/Research:Care-Net/code_and_data'\n",
        "!echo \"Project dir contents:\" && ls \"$prefix\"\n",
        "!echo -e \"\\nColab Notebook home dir:\" && ls"
      ],
      "execution_count": 0,
      "outputs": [
        {
          "output_type": "stream",
          "text": [
            "Drive already mounted at /content/drive/; to attempt to forcibly remount, call drive.mount(\"/content/drive/\", force_remount=True).\n",
            "Project dir contents:\n",
            "211_IN_Data_Parsing.ipynb    nd_care-net.tar.gz\n",
            "BANE\t\t\t     Node_Text_Embedding_Doc2Vec.ipynb\n",
            "BANE_embeddings.ipynb\t     Node_Text_Embedding_GPT-2-Copy1.ipynb\n",
            "binder\t\t\t     Node_Text_Embedding_sBERT.ipynb\n",
            "CX_DB8\t\t\t     README.md\n",
            "data\t\t\t     semantic_embeddings_cluster_plot.ipynb\n",
            "embeddings\t\t     service_embeddings_UMAP.ipynb\n",
            "embed_serv_sim_search.ipynb  TENE\n",
            "figures\t\t\t     TENE_embeddings.ipynb\n",
            "Graph_Data_Extraction.ipynb  USE_multi_lang_embed_serv_sim_search.ipynb\n",
            "models\n",
            "\n",
            "Colab Notebook home dir:\n",
            "drive  sample_data\n"
          ],
          "name": "stdout"
        }
      ]
    },
    {
      "cell_type": "code",
      "metadata": {
        "id": "mE2OEjtu9Tl9",
        "colab_type": "code",
        "colab": {}
      },
      "source": [
        "# # install conda\n",
        "# install_conda = ''\n",
        "# while install_conda not in ('Y', 'N'):\n",
        "#   install_conda = input(\"Do you want to install conda?\").upper()\n",
        "# install_conda = True if install_conda == 'Y' else False \n",
        "# if install_conda:\n",
        "#   !if [ ! -f Miniconda3-latest-Linux-x86_64.sh ]; then wget https://repo.anaconda.com/miniconda/Miniconda3-latest-Linux-x86_64.sh; fi\n",
        "#   !bash Miniconda3-latest-Linux-x86_64.sh -bfp /usr/local"
      ],
      "execution_count": 0,
      "outputs": []
    },
    {
      "cell_type": "code",
      "metadata": {
        "colab_type": "code",
        "id": "wrvif9i2tbf5",
        "colab": {}
      },
      "source": [
        "# env_file = prefix + '/binder/environment.yml'\n",
        "# !source activate && conda activate && conda env update --file \"$env_file\""
      ],
      "execution_count": 0,
      "outputs": []
    },
    {
      "cell_type": "markdown",
      "metadata": {
        "id": "k7aPQSzCj9jr",
        "colab_type": "text"
      },
      "source": [
        "## Imports, Global Config, and Data"
      ]
    },
    {
      "cell_type": "code",
      "metadata": {
        "id": "a73qer_zPJLy",
        "colab_type": "code",
        "outputId": "d162a796-58e8-48be-a260-bfa5b4269542",
        "colab": {
          "base_uri": "https://localhost:8080/",
          "height": 1000
        }
      },
      "source": [
        "# !pip3 uninstall -y tensorflow-gpu tensorflow_text\n",
        "# !pip3 install tensorflow-gpu==2.0rc0  tf-sentencepiece==0.1.83\n",
        "!pip3 install annoy h2o4gpu tqdm tabulate nltk tensorflow_text==2.0rc0 umap-learn\n"
      ],
      "execution_count": 0,
      "outputs": [
        {
          "output_type": "stream",
          "text": [
            "Requirement already satisfied: annoy in /usr/local/lib/python3.6/dist-packages (1.16.3)\n",
            "Requirement already satisfied: h2o4gpu in /usr/local/lib/python3.6/dist-packages (0.3.2)\n",
            "Requirement already satisfied: tqdm in /usr/local/lib/python3.6/dist-packages (4.28.1)\n",
            "Requirement already satisfied: tabulate in /usr/local/lib/python3.6/dist-packages (0.8.6)\n",
            "Requirement already satisfied: nltk in /usr/local/lib/python3.6/dist-packages (3.2.5)\n",
            "Requirement already satisfied: tensorflow_text==2.0rc0 in /usr/local/lib/python3.6/dist-packages (2.0.0rc0)\n",
            "Requirement already satisfied: umap-learn in /usr/local/lib/python3.6/dist-packages (0.3.10)\n",
            "Requirement already satisfied: future==0.16.0 in /usr/local/lib/python3.6/dist-packages (from h2o4gpu) (0.16.0)\n",
            "Requirement already satisfied: numpy==1.16.1 in /usr/local/lib/python3.6/dist-packages (from h2o4gpu) (1.16.1)\n",
            "Requirement already satisfied: pylint==1.8.4 in /usr/local/lib/python3.6/dist-packages (from h2o4gpu) (1.8.4)\n",
            "Requirement already satisfied: python-dateutil==2.7.2 in /usr/local/lib/python3.6/dist-packages (from h2o4gpu) (2.7.2)\n",
            "Requirement already satisfied: psutil==5.4.5 in /usr/local/lib/python3.6/dist-packages (from h2o4gpu) (5.4.5)\n",
            "Requirement already satisfied: pytz==2018.4 in /usr/local/lib/python3.6/dist-packages (from h2o4gpu) (2018.4)\n",
            "Requirement already satisfied: pandas==0.24.1 in /usr/local/lib/python3.6/dist-packages (from h2o4gpu) (0.24.1)\n",
            "Requirement already satisfied: pytest==3.10.1 in /usr/local/lib/python3.6/dist-packages (from h2o4gpu) (3.10.1)\n",
            "Requirement already satisfied: pytest-forked==0.2 in /usr/local/lib/python3.6/dist-packages (from h2o4gpu) (0.2)\n",
            "Requirement already satisfied: pytest-cov==2.5.1 in /usr/local/lib/python3.6/dist-packages (from h2o4gpu) (2.5.1)\n",
            "Requirement already satisfied: pytest-xdist==1.22.2 in /usr/local/lib/python3.6/dist-packages (from h2o4gpu) (1.22.2)\n",
            "Requirement already satisfied: scipy==1.2.1 in /usr/local/lib/python3.6/dist-packages (from h2o4gpu) (1.2.1)\n",
            "Requirement already satisfied: scikit-learn==0.20.2 in /usr/local/lib/python3.6/dist-packages (from h2o4gpu) (0.20.2)\n",
            "Requirement already satisfied: six in /usr/local/lib/python3.6/dist-packages (from nltk) (1.12.0)\n",
            "Requirement already satisfied: tensorflow<2.1,>=2.0.0 in /usr/local/lib/python3.6/dist-packages (from tensorflow_text==2.0rc0) (2.0.1)\n",
            "Requirement already satisfied: numba>=0.37 in /usr/local/lib/python3.6/dist-packages (from umap-learn) (0.47.0)\n",
            "Requirement already satisfied: astroid<2.0,>=1.6 in /usr/local/lib/python3.6/dist-packages (from pylint==1.8.4->h2o4gpu) (1.6.6)\n",
            "Requirement already satisfied: isort>=4.2.5 in /usr/local/lib/python3.6/dist-packages (from pylint==1.8.4->h2o4gpu) (4.3.21)\n",
            "Requirement already satisfied: mccabe in /usr/local/lib/python3.6/dist-packages (from pylint==1.8.4->h2o4gpu) (0.6.1)\n",
            "Requirement already satisfied: attrs>=17.4.0 in /usr/local/lib/python3.6/dist-packages (from pytest==3.10.1->h2o4gpu) (19.3.0)\n",
            "Requirement already satisfied: more-itertools>=4.0.0 in /usr/local/lib/python3.6/dist-packages (from pytest==3.10.1->h2o4gpu) (8.2.0)\n",
            "Requirement already satisfied: py>=1.5.0 in /usr/local/lib/python3.6/dist-packages (from pytest==3.10.1->h2o4gpu) (1.8.1)\n",
            "Requirement already satisfied: pluggy>=0.7 in /usr/local/lib/python3.6/dist-packages (from pytest==3.10.1->h2o4gpu) (0.7.1)\n",
            "Requirement already satisfied: atomicwrites>=1.0 in /usr/local/lib/python3.6/dist-packages (from pytest==3.10.1->h2o4gpu) (1.3.0)\n",
            "Requirement already satisfied: setuptools in /usr/local/lib/python3.6/dist-packages (from pytest==3.10.1->h2o4gpu) (45.1.0)\n",
            "Requirement already satisfied: coverage>=3.7.1 in /usr/local/lib/python3.6/dist-packages (from pytest-cov==2.5.1->h2o4gpu) (3.7.1)\n",
            "Requirement already satisfied: execnet>=1.1 in /usr/local/lib/python3.6/dist-packages (from pytest-xdist==1.22.2->h2o4gpu) (1.7.1)\n",
            "Requirement already satisfied: keras-applications>=1.0.8 in /usr/local/lib/python3.6/dist-packages (from tensorflow<2.1,>=2.0.0->tensorflow_text==2.0rc0) (1.0.8)\n",
            "Requirement already satisfied: protobuf>=3.6.1 in /usr/local/lib/python3.6/dist-packages (from tensorflow<2.1,>=2.0.0->tensorflow_text==2.0rc0) (3.10.0)\n",
            "Requirement already satisfied: tensorboard<2.1.0,>=2.0.0 in /usr/local/lib/python3.6/dist-packages (from tensorflow<2.1,>=2.0.0->tensorflow_text==2.0rc0) (2.0.2)\n",
            "Requirement already satisfied: wheel>=0.26; python_version >= \"3\" in /usr/local/lib/python3.6/dist-packages (from tensorflow<2.1,>=2.0.0->tensorflow_text==2.0rc0) (0.34.2)\n",
            "Requirement already satisfied: termcolor>=1.1.0 in /usr/local/lib/python3.6/dist-packages (from tensorflow<2.1,>=2.0.0->tensorflow_text==2.0rc0) (1.1.0)\n",
            "Requirement already satisfied: keras-preprocessing>=1.0.5 in /usr/local/lib/python3.6/dist-packages (from tensorflow<2.1,>=2.0.0->tensorflow_text==2.0rc0) (1.1.0)\n",
            "Requirement already satisfied: wrapt>=1.11.1 in /usr/local/lib/python3.6/dist-packages (from tensorflow<2.1,>=2.0.0->tensorflow_text==2.0rc0) (1.11.2)\n",
            "Requirement already satisfied: google-pasta>=0.1.6 in /usr/local/lib/python3.6/dist-packages (from tensorflow<2.1,>=2.0.0->tensorflow_text==2.0rc0) (0.1.8)\n",
            "Requirement already satisfied: astor>=0.6.0 in /usr/local/lib/python3.6/dist-packages (from tensorflow<2.1,>=2.0.0->tensorflow_text==2.0rc0) (0.8.1)\n",
            "Requirement already satisfied: absl-py>=0.7.0 in /usr/local/lib/python3.6/dist-packages (from tensorflow<2.1,>=2.0.0->tensorflow_text==2.0rc0) (0.9.0)\n",
            "Requirement already satisfied: gast==0.2.2 in /usr/local/lib/python3.6/dist-packages (from tensorflow<2.1,>=2.0.0->tensorflow_text==2.0rc0) (0.2.2)\n",
            "Requirement already satisfied: tensorflow-estimator<2.1.0,>=2.0.0 in /usr/local/lib/python3.6/dist-packages (from tensorflow<2.1,>=2.0.0->tensorflow_text==2.0rc0) (2.0.1)\n",
            "Requirement already satisfied: grpcio>=1.8.6 in /usr/local/lib/python3.6/dist-packages (from tensorflow<2.1,>=2.0.0->tensorflow_text==2.0rc0) (1.15.0)\n",
            "Requirement already satisfied: opt-einsum>=2.3.2 in /usr/local/lib/python3.6/dist-packages (from tensorflow<2.1,>=2.0.0->tensorflow_text==2.0rc0) (3.1.0)\n",
            "Requirement already satisfied: llvmlite>=0.31.0dev0 in /usr/local/lib/python3.6/dist-packages (from numba>=0.37->umap-learn) (0.31.0)\n",
            "Requirement already satisfied: lazy-object-proxy in /usr/local/lib/python3.6/dist-packages (from astroid<2.0,>=1.6->pylint==1.8.4->h2o4gpu) (1.4.3)\n",
            "Requirement already satisfied: apipkg>=1.4 in /usr/local/lib/python3.6/dist-packages (from execnet>=1.1->pytest-xdist==1.22.2->h2o4gpu) (1.5)\n",
            "Requirement already satisfied: h5py in /usr/local/lib/python3.6/dist-packages (from keras-applications>=1.0.8->tensorflow<2.1,>=2.0.0->tensorflow_text==2.0rc0) (2.8.0)\n",
            "Requirement already satisfied: werkzeug>=0.11.15 in /usr/local/lib/python3.6/dist-packages (from tensorboard<2.1.0,>=2.0.0->tensorflow<2.1,>=2.0.0->tensorflow_text==2.0rc0) (0.16.1)\n",
            "Requirement already satisfied: markdown>=2.6.8 in /usr/local/lib/python3.6/dist-packages (from tensorboard<2.1.0,>=2.0.0->tensorflow<2.1,>=2.0.0->tensorflow_text==2.0rc0) (3.1.1)\n",
            "Requirement already satisfied: google-auth-oauthlib<0.5,>=0.4.1 in /usr/local/lib/python3.6/dist-packages (from tensorboard<2.1.0,>=2.0.0->tensorflow<2.1,>=2.0.0->tensorflow_text==2.0rc0) (0.4.1)\n",
            "Requirement already satisfied: google-auth<2,>=1.6.3 in /usr/local/lib/python3.6/dist-packages (from tensorboard<2.1.0,>=2.0.0->tensorflow<2.1,>=2.0.0->tensorflow_text==2.0rc0) (1.11.0)\n",
            "Requirement already satisfied: requests<3,>=2.21.0 in /usr/local/lib/python3.6/dist-packages (from tensorboard<2.1.0,>=2.0.0->tensorflow<2.1,>=2.0.0->tensorflow_text==2.0rc0) (2.21.0)\n",
            "Requirement already satisfied: requests-oauthlib>=0.7.0 in /usr/local/lib/python3.6/dist-packages (from google-auth-oauthlib<0.5,>=0.4.1->tensorboard<2.1.0,>=2.0.0->tensorflow<2.1,>=2.0.0->tensorflow_text==2.0rc0) (1.3.0)\n",
            "Requirement already satisfied: pyasn1-modules>=0.2.1 in /usr/local/lib/python3.6/dist-packages (from google-auth<2,>=1.6.3->tensorboard<2.1.0,>=2.0.0->tensorflow<2.1,>=2.0.0->tensorflow_text==2.0rc0) (0.2.8)\n",
            "Requirement already satisfied: cachetools<5.0,>=2.0.0 in /usr/local/lib/python3.6/dist-packages (from google-auth<2,>=1.6.3->tensorboard<2.1.0,>=2.0.0->tensorflow<2.1,>=2.0.0->tensorflow_text==2.0rc0) (4.0.0)\n",
            "Requirement already satisfied: rsa<4.1,>=3.1.4 in /usr/local/lib/python3.6/dist-packages (from google-auth<2,>=1.6.3->tensorboard<2.1.0,>=2.0.0->tensorflow<2.1,>=2.0.0->tensorflow_text==2.0rc0) (4.0)\n",
            "Requirement already satisfied: urllib3<1.25,>=1.21.1 in /usr/local/lib/python3.6/dist-packages (from requests<3,>=2.21.0->tensorboard<2.1.0,>=2.0.0->tensorflow<2.1,>=2.0.0->tensorflow_text==2.0rc0) (1.24.3)\n",
            "Requirement already satisfied: certifi>=2017.4.17 in /usr/local/lib/python3.6/dist-packages (from requests<3,>=2.21.0->tensorboard<2.1.0,>=2.0.0->tensorflow<2.1,>=2.0.0->tensorflow_text==2.0rc0) (2019.11.28)\n",
            "Requirement already satisfied: idna<2.9,>=2.5 in /usr/local/lib/python3.6/dist-packages (from requests<3,>=2.21.0->tensorboard<2.1.0,>=2.0.0->tensorflow<2.1,>=2.0.0->tensorflow_text==2.0rc0) (2.8)\n",
            "Requirement already satisfied: chardet<3.1.0,>=3.0.2 in /usr/local/lib/python3.6/dist-packages (from requests<3,>=2.21.0->tensorboard<2.1.0,>=2.0.0->tensorflow<2.1,>=2.0.0->tensorflow_text==2.0rc0) (3.0.4)\n",
            "Requirement already satisfied: oauthlib>=3.0.0 in /usr/local/lib/python3.6/dist-packages (from requests-oauthlib>=0.7.0->google-auth-oauthlib<0.5,>=0.4.1->tensorboard<2.1.0,>=2.0.0->tensorflow<2.1,>=2.0.0->tensorflow_text==2.0rc0) (3.1.0)\n",
            "Requirement already satisfied: pyasn1<0.5.0,>=0.4.6 in /usr/local/lib/python3.6/dist-packages (from pyasn1-modules>=0.2.1->google-auth<2,>=1.6.3->tensorboard<2.1.0,>=2.0.0->tensorflow<2.1,>=2.0.0->tensorflow_text==2.0rc0) (0.4.8)\n"
          ],
          "name": "stdout"
        }
      ]
    },
    {
      "cell_type": "code",
      "metadata": {
        "id": "fidU1Ta38Z45",
        "colab_type": "code",
        "outputId": "6ee73270-5ef2-4a29-a140-bcc38977e97c",
        "colab": {
          "base_uri": "https://localhost:8080/",
          "height": 35
        }
      },
      "source": [
        "#following this guide: https://colab.research.google.com/drive/1t4bi7X7zRzwIjdxUrU2hUs7LneqgYLVK#scrollTo=a73qer_zPJLy\n",
        "# and: https://github.com/tensorflow/hub/blob/master/examples/colab/tf2_semantic_approximate_nearest_neighbors.ipynb\n",
        "\n",
        "try:\n",
        "  # %tensorflow_version only exists in Colab.\n",
        "  %tensorflow_version 2.x\n",
        "except Exception:\n",
        "  pass\n",
        "  \n",
        "import tensorflow as tf\n",
        "import tensorflow_text\n",
        "import tensorflow_hub as hub\n",
        "from h2o4gpu.manifold import TSNE\n",
        "# import matplotlib.pyplot as plt\n",
        "import numpy as np\n",
        "from h2o4gpu.metrics.pairwise import cosine_similarity\n",
        "import seaborn as sns\n",
        "import annoy\n",
        "import umap\n",
        "\n",
        "import json\n",
        "import os\n",
        "import csv\n",
        "import pickle\n",
        "import pandas as pd\n",
        "\n",
        "import random\n",
        "import typing\n",
        "from itertools import chain\n",
        "import string\n",
        "\n",
        "from tqdm import tqdm, trange\n",
        "from tabulate import tabulate\n",
        "import logging\n",
        "\n",
        "# import nltk\n",
        "# from nltk import sent_tokenize\n",
        "# from nltk import word_tokenize\n",
        "# from nltk.corpus import stopwords\n",
        "# from nltk import download as nltk_dl\n",
        "# from nltk.stem import WordNetLemmatizer\n",
        "# nltk_dl('wordnet')"
      ],
      "execution_count": 0,
      "outputs": [
        {
          "output_type": "stream",
          "text": [
            "TensorFlow 2.x selected.\n"
          ],
          "name": "stdout"
        }
      ]
    },
    {
      "cell_type": "code",
      "metadata": {
        "id": "EgvycbQTG7Lj",
        "colab_type": "code",
        "outputId": "3b10b58b-4558-4ac5-985a-8e0d14347e5a",
        "colab": {
          "base_uri": "https://localhost:8080/",
          "height": 108
        }
      },
      "source": [
        "# make sure we're using a gpu or hw acceleration before we start embedding!!\n",
        "# NOTE: not working. clearly connected to GPU\n",
        "if not tf.test.is_gpu_available() and 'COLAB_TPU_ADDR' not in os.environ:\n",
        "  print(\"WARNING!: This notebook is not connected to a GPU nor TPU runtime.\")\n",
        "else:\n",
        "  print(\"HW Acceleration should work :)\")"
      ],
      "execution_count": 0,
      "outputs": [
        {
          "output_type": "stream",
          "text": [
            "WARNING:tensorflow:From <ipython-input-6-d6bac8f179d3>:1: is_gpu_available (from tensorflow.python.framework.test_util) is deprecated and will be removed in a future version.\n",
            "Instructions for updating:\n",
            "Use `tf.config.list_physical_devices('GPU')` instead.\n",
            "HW Acceleration should work :)\n"
          ],
          "name": "stdout"
        }
      ]
    },
    {
      "cell_type": "code",
      "metadata": {
        "id": "A4spVCrY8Z5W",
        "colab_type": "code",
        "colab": {}
      },
      "source": [
        "# open our datasets\n",
        "with open(prefix + '/data/services_nodes.json') as sn:\n",
        "    serv_nodes = json.loads(sn.read())\n",
        "    \n",
        "with open(prefix + '/data/services_edgelist.csv') as se:\n",
        "    serv_edges = csv.reader(se)\n",
        "\n",
        "# TODO: refacto var name to something more accurate and general\n",
        "with open(prefix + '/data/HIN_nodes.json') as taxo:\n",
        "    taxo_nodes = json.loads(taxo.read())\n",
        "\n",
        "with open(prefix + '/data/code_to_node_num.json') as cn:\n",
        "    code_trans = json.loads(cn.read())\n",
        "\n",
        "# load queries file\n",
        "queries_path = os.path.join(prefix, 'data', 'HIN_references.csv')\n",
        "with open(queries_path) as qf:\n",
        "  queries = qf.read()\n",
        "  queries = queries.split(',')\n",
        "  # cleanup some bad data. TODO: Fix in notebook that generates the data\n",
        "  queries = [q for q in queries if q != '']"
      ],
      "execution_count": 0,
      "outputs": []
    },
    {
      "cell_type": "code",
      "metadata": {
        "id": "W_32VQBkkQWP",
        "colab_type": "code",
        "outputId": "1e4671de-55d1-4113-feb8-a4c757c0df14",
        "colab": {
          "base_uri": "https://localhost:8080/",
          "height": 35
        }
      },
      "source": [
        "NODE_TYPE = 'services'\n",
        "BATCH_SIZE = 256\n",
        "NUM_NODES = len(queries)\n",
        "NUM_BATCHES =  NUM_NODES // BATCH_SIZE\n",
        "\n",
        "MODEL = 'USE'\n",
        "# MODEL_URL = 'https://tfhub.dev/google/universal-sentence-encoder-multilingual-large/3'\n",
        "# MODEL_URL = 'https://tfhub.dev/google/universal-sentence-encoder-multilingual/2'\n",
        "MODEL_URL = 'https://tfhub.dev/google/universal-sentence-encoder/4'\n",
        "MODEL_TYPE = MODEL_URL.split('/')[-2]\n",
        "MODEL_VER = MODEL_URL.split('/')[-1]\n",
        "\n",
        "!mkdir -p \"$prefix/embeddings/$MODEL/\"\n",
        "print(\"Using Model {}_{}_v{}\".format(MODEL, MODEL_TYPE, MODEL_VER))"
      ],
      "execution_count": 0,
      "outputs": [
        {
          "output_type": "stream",
          "text": [
            "Using Model USE_universal-sentence-encoder_v4\n"
          ],
          "name": "stdout"
        }
      ]
    },
    {
      "cell_type": "code",
      "metadata": {
        "colab_type": "code",
        "id": "PJloCDXP2oI1",
        "colab": {}
      },
      "source": [
        "\n",
        "tagged_texts = {}\n",
        "\n",
        "if os.path.exists(os.path.join(prefix, 'data', 'tagged_texts.json')):\n",
        "  with open(os.path.join(prefix, 'data', 'tagged_texts.json')) as ttf:\n",
        "    tagged_texts = json.load(ttf)"
      ],
      "execution_count": 0,
      "outputs": []
    },
    {
      "cell_type": "code",
      "metadata": {
        "id": "tb3hRbWgJf8l",
        "colab_type": "code",
        "colab": {}
      },
      "source": [
        "def save_to_json(data, name):\n",
        "  path = os.path.join(prefix, 'data', name)\n",
        "  data_json = json.dumps(data)\n",
        "  with open(path, 'w') as djf:\n",
        "    djf.write(data_json)"
      ],
      "execution_count": 0,
      "outputs": []
    },
    {
      "cell_type": "code",
      "metadata": {
        "id": "WkMzeq5lOe8b",
        "colab_type": "code",
        "colab": {}
      },
      "source": [
        "save_to_json(data=tagged_texts, name='tagged_texts.json')"
      ],
      "execution_count": 0,
      "outputs": []
    },
    {
      "cell_type": "markdown",
      "metadata": {
        "id": "UcHy7er_1P3Z",
        "colab_type": "text"
      },
      "source": [
        "## Get embeddings from our text data "
      ]
    },
    {
      "cell_type": "code",
      "metadata": {
        "id": "9xIh1ODGBUVT",
        "colab_type": "code",
        "outputId": "315ad96f-f310-46c5-8a32-b39342214aa3",
        "colab": {
          "base_uri": "https://localhost:8080/",
          "height": 55
        }
      },
      "source": [
        "embed_path = os.path.join(prefix, 'embeddings', MODEL, \"{}_{}_v{}.pkl\".format(\n",
        "    NODE_TYPE, MODEL_TYPE, MODEL_VER\n",
        "    ))\n",
        "if os.path.exists(embed_path):\n",
        "  print(\"Loading embeddings from {}\".format(embed_path))\n",
        "  with open(embed_path, 'rb') as f:\n",
        "        tagged_embeds = pickle.load(f)"
      ],
      "execution_count": 0,
      "outputs": [
        {
          "output_type": "stream",
          "text": [
            "Loading embeddings from ./drive/My Drive/ND_CSE/Year_1/Research:Care-Net/code_and_data/embeddings/USE/services_universal-sentence-encoder_v4.pkl\n"
          ],
          "name": "stdout"
        }
      ]
    },
    {
      "cell_type": "code",
      "metadata": {
        "id": "wRm8oly6SINj",
        "colab_type": "code",
        "colab": {}
      },
      "source": [
        "def save_to_pickle(data, path=None):\n",
        "  if path is not None:\n",
        "    path = os.path.join(prefix, path)\n",
        "  else:  \n",
        "    path = os.path.join(prefix, 'embeddings', MODEL, \"{}_{}_v{}.pkl\".format(\n",
        "      NODE_TYPE, MODEL_TYPE, MODEL_VER\n",
        "    ))\n",
        "  with open(path, 'ab') as f:\n",
        "        pickle.dump(data, f, pickle.HIGHEST_PROTOCOL)"
      ],
      "execution_count": 0,
      "outputs": []
    },
    {
      "cell_type": "code",
      "metadata": {
        "id": "Cl0I_Apga6ig",
        "colab_type": "code",
        "colab": {}
      },
      "source": [
        "# for tag in tagged_embeds:\n",
        "    # save_to_pickle(tag)"
      ],
      "execution_count": 0,
      "outputs": []
    },
    {
      "cell_type": "code",
      "metadata": {
        "id": "XkxKDM_AKVsN",
        "colab_type": "code",
        "colab": {}
      },
      "source": [
        "node_names = [taxo_nodes[idx]['name'] for idx in tagged_texts]\n",
        "node_embeds = [tagged_embeds[idx]['embed'] for idx in tagged_embeds]\n",
        "node_texts = ['\\n'.join(tagged_texts[idx]) for idx in tagged_embeds]\n",
        "node_ids = list(tagged_embeds.keys())"
      ],
      "execution_count": 0,
      "outputs": []
    },
    {
      "cell_type": "code",
      "metadata": {
        "id": "T509f9tWUCqo",
        "colab_type": "code",
        "colab": {}
      },
      "source": [
        "def node_to_n_degree_code(node_num, code_names, n=2):\n",
        "    node = taxo_nodes[node_num]\n",
        "    codes = node['codes']\n",
        "    main_code = None\n",
        "    if len(codes) >= 1:\n",
        "        main_code = codes[0]\n",
        "        main_code = main_code[:n]\n",
        "    else:\n",
        "        main_code = None\n",
        "\n",
        "    return main_code"
      ],
      "execution_count": 0,
      "outputs": []
    },
    {
      "cell_type": "code",
      "metadata": {
        "id": "znRTnkk3WDJW",
        "colab_type": "code",
        "colab": {}
      },
      "source": [
        "with open(prefix + '/data/code_to_name.json') as ctn:\n",
        "    code_names = json.loads(ctn.read())\n",
        "\n",
        "def getLabelEmbeds(code_len='1'):\n",
        "    tagged_lbl_emb = {}\n",
        "    lbl_to_avg_emb = {'No Label': []}\n",
        "    lbl_cnt = {'No Label': 0}\n",
        "    # TODO change how code_names is saved so it only has the lbls from 2 char codes\n",
        "\n",
        "    for lbl in code_names[code_len].values():\n",
        "        # print(lbl)\n",
        "        lbl_to_avg_emb[lbl] = []\n",
        "        lbl_cnt[lbl] = 0\n",
        "\n",
        "    for node_num in tagged_embeds:\n",
        "\n",
        "        node_codes = taxo_nodes[node_num]['codes']\n",
        "        main_code = node_to_n_degree_code(node_num, node_codes, n=int(code_len))\n",
        "        if main_code == None:\n",
        "            lbl = 'No Label'\n",
        "        # pseudo label according to 2 first chars of taxonomy code\n",
        "        else:\n",
        "            lbl = code_names[code_len][main_code]\n",
        "        tagged_lbl_emb[node_num] = {'embed': tagged_embeds[node_num]['embed'], 'label': lbl}\n",
        "        lbl_to_avg_emb[lbl].append(tagged_embeds[node_num]['embed'])\n",
        "        # print(len(lbl_to_avg_emb[lbl]))\n",
        "        lbl_cnt[lbl] += 1\n",
        "    \n",
        "    # get the mean of each collected label embeddings\n",
        "    keys_to_del = []\n",
        "    for lbl in lbl_to_avg_emb:\n",
        "        if lbl_to_avg_emb[lbl] == []:\n",
        "            keys_to_del.append(lbl)\n",
        "            \n",
        "        else:   \n",
        "            avg_embed = np.mean(lbl_to_avg_emb[lbl], axis=0)\n",
        "            lbl_to_avg_emb[lbl] = avg_embed\n",
        "            # print(avg_embed.shape)\n",
        "    for lbl in keys_to_del:\n",
        "        try:\n",
        "            lbl_to_avg_emb.pop(lbl)    \n",
        "            lbl_cnt.pop(lbl)   \n",
        "        except KeyError:\n",
        "            print(\"Key not found\")    \n",
        "    # for lbl in lbl_cnt:\n",
        "    #     print(\"Label {} has {} elements\".format(lbl, lbl_cnt[lbl]))\n",
        "    print(\"Nodes have {} labels\".format(len(lbl_to_avg_emb)))\n",
        "    return tagged_lbl_emb, lbl_to_avg_emb, lbl_cnt"
      ],
      "execution_count": 0,
      "outputs": []
    },
    {
      "cell_type": "code",
      "metadata": {
        "id": "7XF-nLI0ZJBp",
        "colab_type": "code",
        "outputId": "7db02078-f5cb-4cb3-9045-192a7ef092eb",
        "colab": {
          "base_uri": "https://localhost:8080/",
          "height": 53
        }
      },
      "source": [
        "lvl1_tagged_embs, lvl1_avg_embeds, lvl1_cnt = getLabelEmbeds(code_len='1')\n",
        "lvl2_tagged_embs, lvl2_avg_embeds, lvl2_cnt = getLabelEmbeds(code_len='2')"
      ],
      "execution_count": 0,
      "outputs": [
        {
          "output_type": "stream",
          "text": [
            "Nodes have 12 labels\n",
            "Nodes have 73 labels\n"
          ],
          "name": "stdout"
        }
      ]
    },
    {
      "cell_type": "code",
      "metadata": {
        "id": "l6UVblcRlRWX",
        "colab_type": "code",
        "outputId": "3bd41973-32ee-4206-aa48-88ced39a1ef7",
        "colab": {
          "base_uri": "https://localhost:8080/",
          "height": 90
        }
      },
      "source": [
        "# lvl1_avg\n",
        "# lvl2_embeds = [lvl2_avg_embeds[lbl] for lbl in lvl2_avg_embeds]\n",
        "# lvl2_embed_sim = cosine_similarity(lvl2_embeds)\n",
        "\n",
        "label_hierarchy = {}\n",
        "for lbl in lvl1_avg_embeds:\n",
        "    label_hierarchy[lbl] = set()\n",
        "\n",
        "# get order of nodes to display their names when hovering\n",
        "lbl_node_nums = {}\n",
        "for lbl in lvl1_avg_embeds:\n",
        "    lbl_node_nums[lbl] = []\n",
        "\n",
        "for n_idx in lvl1_tagged_embs:\n",
        "    lvl1_lbl = lvl1_tagged_embs[n_idx]['label']\n",
        "\n",
        "    label_hierarchy[lvl1_lbl].add(lvl2_tagged_embs[n_idx]['label'])\n",
        "    # lbl_node_nums[lvl1_lbl].append(n_idx)\n",
        "\n",
        "# get the embeddings grouped according to lvl1 labels\n",
        "reordered_embeds = []\n",
        "reordered_lbls = []\n",
        "for lbl in label_hierarchy:\n",
        "\n",
        "    sub_lbls = label_hierarchy[lbl]\n",
        "    for sub in sub_lbls:\n",
        "        reordered_embeds.append(lvl2_avg_embeds[sub])\n",
        "        reordered_lbls.append(sub)\n",
        "\n",
        "# reordered_names = [taxo_nodes[n_idx]['name'] for n_idx in reordered_node_ids]\n",
        "embed_sims = cosine_similarity(reordered_embeds)\n",
        "tick_vals = []\n",
        "tick_total = 0\n",
        "for lbl in lvl1_cnt:\n",
        "    val = lvl1_cnt[lbl]\n",
        "    tick_vals.append(val // 2)\n",
        "    tick_total += val\n",
        "\n",
        "print(\"Have {} names for x,y axis\".format(len(reordered_lbls)))\n",
        "# print(reordered_embeds)\n",
        "print(\"Have {}x{} similarity matrix\".format(len(embed_sims), len(embed_sims[0])))\n",
        "\n",
        "print(list(lvl1_avg_embeds.keys()))"
      ],
      "execution_count": 0,
      "outputs": [
        {
          "output_type": "stream",
          "text": [
            "Have 73 names for x,y axis\n",
            "Have 73x73 similarity matrix\n",
            "['No Label', 'Basic Needs', 'Consumer Services', 'Criminal Justice and Legal Services', 'Education', 'Environment and Public Health/Safety', 'Health Care', 'Income Support and Employment', 'Individual and Family Life', 'Mental Health and Substance Use Disorder Services', 'Organizational/Community/International Services', 'Target Populations']\n"
          ],
          "name": "stdout"
        }
      ]
    },
    {
      "cell_type": "code",
      "metadata": {
        "id": "H7zLziWE9rad",
        "colab_type": "code",
        "outputId": "29902f33-eedb-4a30-a363-4f6611483073",
        "colab": {
          "base_uri": "https://localhost:8080/",
          "height": 855
        }
      },
      "source": [
        "import plotly.graph_objects as go\n",
        "import datetime\n",
        "import numpy as np\n",
        "np.random.seed(1)\n",
        "\n",
        "ticks = list(label_hierarchy.keys())\n",
        "sim_threshold = 0.6\n",
        "threshold_sims = [list(map(lambda x: x if x >= sim_threshold else 0.0, row)) for row in embed_sims]\n",
        "\n",
        "y = reordered_lbls\n",
        "x = reordered_lbls\n",
        "z = threshold_sims\n",
        "\n",
        "def split_text(text, delim=' '):\n",
        "    txt = ''\n",
        "    for j, word in enumerate(text.split(delim)):\n",
        "        if j % 2 == 0:\n",
        "            txt += word + ' <br>'\n",
        "        else:\n",
        "            txt += word + ''\n",
        "    tick_text[i] = txt\n",
        "\n",
        "tick_text = list(lvl1_avg_embeds.keys())\n",
        "for i, text in enumerate(tick_text):\n",
        "    if '/' in text:\n",
        "        split_text(text, delim='/')\n",
        "    else:\n",
        "        split_text(text)\n",
        "\n",
        "\n",
        "dx_dy = 6\n",
        "\n",
        "x_axis = dict(\n",
        "        tickmode = 'array',\n",
        "        tickvals = list(range(0, len(tick_text)*dx_dy, dx_dy)),\n",
        "        ticktext = tick_text\n",
        ")\n",
        "\n",
        "y_axis = dict(\n",
        "        tickmode = 'array',\n",
        "        tickvals = list(range(0, len(tick_text)*dx_dy, dx_dy)),\n",
        "        ticktext = tick_text\n",
        ")\n",
        "\n",
        "color_scales = ['aggrnyl', 'agsunset', 'algae', 'amp', 'armyrose', 'balance',\n",
        "    'blackbody', 'bluered', 'blues', 'blugrn', 'bluyl', 'brbg',\n",
        "    'brwnyl', 'bugn', 'bupu', 'burg', 'burgyl', 'cividis', 'curl',\n",
        "    'darkmint', 'deep', 'delta', 'dense', 'earth', 'edge', 'electric',\n",
        "    'emrld', 'fall', 'geyser', 'gnbu', 'gray', 'greens', 'greys',\n",
        "    'haline', 'hot', 'hsv', 'ice', 'icefire', 'inferno', 'jet',\n",
        "    'magenta', 'magma', 'matter', 'mint', 'mrybm', 'mygbm', 'oranges',\n",
        "    'orrd', 'oryel', 'peach', 'phase', 'picnic', 'pinkyl', 'piyg',\n",
        "    'plasma', 'plotly3', 'portland', 'prgn', 'pubu', 'pubugn', 'puor',\n",
        "    'purd', 'purp', 'purples', 'purpor', 'rainbow', 'rdbu', 'rdgy',\n",
        "    'rdpu', 'rdylbu', 'rdylgn', 'redor', 'reds', 'solar', 'spectral',\n",
        "    'speed', 'sunset', 'sunsetdark', 'teal', 'tealgrn', 'tealrose',\n",
        "    'tempo', 'temps', 'thermal', 'tropic', 'turbid', 'twilight',\n",
        "    'viridis', 'ylgn', 'ylgnbu', 'ylorbr', 'ylorrd']\n",
        "\n",
        "color_scale = random.choice(color_scales)\n",
        "print(\"Using color scale: {}\".format(color_scale))\n",
        "\n",
        "\n",
        "fig = go.Figure(data=go.Heatmap(\n",
        "        z=z,\n",
        "        x=x,\n",
        "        y=y,\n",
        "        colorscale = color_scale))\n",
        "\n",
        "fig.update_layout(\n",
        "    title='Service-to-Service Similarity',\n",
        "    xaxis_nticks=len(tick_text),\n",
        "    yaxis_nticks=len(tick_text),\n",
        "    width = 1000,\n",
        "    height = 800,\n",
        "    xaxis_type = 'category',\n",
        "    yaxis_type = 'category',\n",
        "    xaxis = x_axis,\n",
        "    yaxis = y_axis,\n",
        "    margin=dict(l=20, r=30, t=50, b=40),\n",
        "    paper_bgcolor=\"LightSteelBlue\",\n",
        "    font=dict(\n",
        "        family=\"Courier New, monospace\",\n",
        "        size=12,\n",
        "        # color=\"#7f7f7f\"\n",
        "        )\n",
        "    )\n",
        "    \n",
        "\n",
        "fig.show()"
      ],
      "execution_count": 0,
      "outputs": [
        {
          "output_type": "stream",
          "text": [
            "Using color scale: dense\n"
          ],
          "name": "stdout"
        },
        {
          "output_type": "display_data",
          "data": {
            "text/html": [
              "<html>\n",
              "<head><meta charset=\"utf-8\" /></head>\n",
              "<body>\n",
              "    <div>\n",
              "            <script src=\"https://cdnjs.cloudflare.com/ajax/libs/mathjax/2.7.5/MathJax.js?config=TeX-AMS-MML_SVG\"></script><script type=\"text/javascript\">if (window.MathJax) {MathJax.Hub.Config({SVG: {font: \"STIX-Web\"}});}</script>\n",
              "                <script type=\"text/javascript\">window.PlotlyConfig = {MathJaxConfig: 'local'};</script>\n",
              "        <script src=\"https://cdn.plot.ly/plotly-latest.min.js\"></script>    \n",
              "            <div id=\"1d90992f-0ab6-4f4e-8f46-9e9e3f55f14a\" class=\"plotly-graph-div\" style=\"height:800px; width:1000px;\"></div>\n",
              "            <script type=\"text/javascript\">\n",
              "                \n",
              "                    window.PLOTLYENV=window.PLOTLYENV || {};\n",
              "                    \n",
              "                if (document.getElementById(\"1d90992f-0ab6-4f4e-8f46-9e9e3f55f14a\")) {\n",
              "                    Plotly.newPlot(\n",
              "                        '1d90992f-0ab6-4f4e-8f46-9e9e3f55f14a',\n",
              "                        [{\"colorscale\": [[0.0, \"rgb(230, 240, 240)\"], [0.09090909090909091, \"rgb(191, 221, 229)\"], [0.18181818181818182, \"rgb(156, 201, 226)\"], [0.2727272727272727, \"rgb(129, 180, 227)\"], [0.36363636363636365, \"rgb(115, 154, 228)\"], [0.45454545454545453, \"rgb(117, 127, 221)\"], [0.5454545454545454, \"rgb(120, 100, 202)\"], [0.6363636363636364, \"rgb(119, 74, 175)\"], [0.7272727272727273, \"rgb(113, 50, 141)\"], [0.8181818181818182, \"rgb(100, 31, 104)\"], [0.9090909090909091, \"rgb(80, 20, 66)\"], [1.0, \"rgb(54, 14, 36)\"]], \"type\": \"heatmap\", \"x\": [\"No Label\", \"Food\", \"Transportation\", \"Housing/Shelter\", \"Material Goods\", \"Utilities\", \"Consumer Assistance and Protection\", \"Tax Organizations and Services\", \"Money Management\", \"Consumer Regulation\", \"Courts\", \"Criminal Correctional System\", \"Legal Services\", \"Law Enforcement Agencies\", \"Legal Assistance Modalities\", \"Law Enforcement Services\", \"Judicial Services\", \"Educational Programs\", \"Educational Institutions/Schools\", \"Educational Support Services\", \"Environmental Protection and Improvement\", \"Public Health\", \"Public Safety\", \"Health Screening/Diagnostic Services\", \"Inpatient Health Facilities\", \"Rehabilitation/Habilitation Services\", \"Outpatient Health Facilities\", \"Health Supportive Services\", \"General Medical Care\", \"Specialized Treatment and Prevention\", \"Emergency Medical Care\", \"Human Reproduction\", \"Specialty Medicine\", \"Temporary Financial Assistance\", \"Social Insurance Programs\", \"Employment\", \"Public Assistance Programs\", \"Domestic Animal Services\", \"Volunteer Development\", \"Individual and Family Support Services\", \"Leisure Activities/Recreation\", \"Volunteer Opportunities\", \"Death Certification/Burial Arrangements\", \"Mutual Support\", \"Social Development and Enrichment\", \"Mental Health Assessment and Treatment\", \"Substance Use Disorder Services\", \"Mental Health Care Facilities\", \"Counseling Approaches\", \"Mental Health Support Services\", \"Political Organization and Participation\", \"Community Facilities/Centers\", \"Community Groups and Government/Administrative Offices\", \"Research\", \"Arts and Culture\", \"Organizational Development and Management Services\", \"Military Service\", \"Community Planning and Public Works\", \"Donor Services\", \"Community Economic Development and Finance\", \"Occupational/Professional Associations\", \"Information Services\", \"International Affairs\", \"Disaster Services\", \"Occupations\", \"Families and Individuals Needing Support\", \"Citizenship\", \"Living Situation/Housing Status\", \"Military Personnel/Contractors\", \"Transients\", \"Disabilities and Health Conditions\", \"Topical Identifiers/Issues\", \"Benefits Recipients\"], \"y\": [\"No Label\", \"Food\", \"Transportation\", \"Housing/Shelter\", \"Material Goods\", \"Utilities\", \"Consumer Assistance and Protection\", \"Tax Organizations and Services\", \"Money Management\", \"Consumer Regulation\", \"Courts\", \"Criminal Correctional System\", \"Legal Services\", \"Law Enforcement Agencies\", \"Legal Assistance Modalities\", \"Law Enforcement Services\", \"Judicial Services\", \"Educational Programs\", \"Educational Institutions/Schools\", \"Educational Support Services\", \"Environmental Protection and Improvement\", \"Public Health\", \"Public Safety\", \"Health Screening/Diagnostic Services\", \"Inpatient Health Facilities\", \"Rehabilitation/Habilitation Services\", \"Outpatient Health Facilities\", \"Health Supportive Services\", \"General Medical Care\", \"Specialized Treatment and Prevention\", \"Emergency Medical Care\", \"Human Reproduction\", \"Specialty Medicine\", \"Temporary Financial Assistance\", \"Social Insurance Programs\", \"Employment\", \"Public Assistance Programs\", \"Domestic Animal Services\", \"Volunteer Development\", \"Individual and Family Support Services\", \"Leisure Activities/Recreation\", \"Volunteer Opportunities\", \"Death Certification/Burial Arrangements\", \"Mutual Support\", \"Social Development and Enrichment\", \"Mental Health Assessment and Treatment\", \"Substance Use Disorder Services\", \"Mental Health Care Facilities\", \"Counseling Approaches\", \"Mental Health Support Services\", \"Political Organization and Participation\", \"Community Facilities/Centers\", \"Community Groups and Government/Administrative Offices\", \"Research\", \"Arts and Culture\", \"Organizational Development and Management Services\", \"Military Service\", \"Community Planning and Public Works\", \"Donor Services\", \"Community Economic Development and Finance\", \"Occupational/Professional Associations\", \"Information Services\", \"International Affairs\", \"Disaster Services\", \"Occupations\", \"Families and Individuals Needing Support\", \"Citizenship\", \"Living Situation/Housing Status\", \"Military Personnel/Contractors\", \"Transients\", \"Disabilities and Health Conditions\", \"Topical Identifiers/Issues\", \"Benefits Recipients\"], \"z\": [[1.000000238418579, 0.0, 0.0, 0.0, 0.0, 0.0, 0.0, 0.0, 0.0, 0.0, 0.0, 0.0, 0.0, 0.0, 0.0, 0.0, 0.0, 0.0, 0.0, 0.0, 0.0, 0.0, 0.0, 0.0, 0.0, 0.0, 0.0, 0.0, 0.0, 0.7443649768829346, 0.0, 0.0, 0.0, 0.0, 0.0, 0.0, 0.0, 0.0, 0.0, 0.0, 0.0, 0.0, 0.0, 0.0, 0.0, 0.0, 0.0, 0.0, 0.0, 0.0, 0.0, 0.0, 0.0, 0.0, 0.0, 0.0, 0.0, 0.0, 0.0, 0.0, 0.0, 0.0, 0.0, 0.0, 0.0, 0.0, 0.0, 0.0, 0.0, 0.0, 0.0, 0.0, 0.0], [0.0, 1.0000001192092896, 0.0, 0.6339133977890015, 0.6382141709327698, 0.0, 0.0, 0.0, 0.0, 0.0, 0.0, 0.0, 0.0, 0.0, 0.0, 0.0, 0.0, 0.0, 0.0, 0.0, 0.0, 0.0, 0.0, 0.0, 0.0, 0.0, 0.0, 0.611182689666748, 0.0, 0.0, 0.0, 0.0, 0.0, 0.0, 0.0, 0.0, 0.0, 0.0, 0.0, 0.6314238905906677, 0.0, 0.0, 0.0, 0.0, 0.0, 0.0, 0.0, 0.0, 0.0, 0.0, 0.0, 0.0, 0.0, 0.0, 0.0, 0.0, 0.0, 0.0, 0.7401227951049805, 0.0, 0.0, 0.0, 0.0, 0.0, 0.0, 0.0, 0.0, 0.0, 0.0, 0.0, 0.0, 0.0, 0.6918752193450928], [0.0, 0.0, 1.000000238418579, 0.7156076431274414, 0.0, 0.6104699969291687, 0.0, 0.0, 0.0, 0.0, 0.0, 0.0, 0.0, 0.0, 0.0, 0.0, 0.0, 0.0, 0.0, 0.7037581205368042, 0.0, 0.0, 0.0, 0.0, 0.0, 0.6264697313308716, 0.0, 0.7134867906570435, 0.0, 0.0, 0.0, 0.0, 0.0, 0.0, 0.0, 0.0, 0.6748866438865662, 0.0, 0.0, 0.6346842050552368, 0.0, 0.0, 0.0, 0.0, 0.0, 0.0, 0.0, 0.0, 0.0, 0.0, 0.0, 0.0, 0.0, 0.0, 0.0, 0.0, 0.0, 0.0, 0.0, 0.0, 0.0, 0.6089223623275757, 0.0, 0.0, 0.0, 0.0, 0.0, 0.0, 0.0, 0.0, 0.0, 0.0, 0.0], [0.0, 0.6339133977890015, 0.7156076431274414, 1.000000238418579, 0.6466797590255737, 0.7031586170196533, 0.6248162984848022, 0.0, 0.6447056531906128, 0.0, 0.0, 0.0, 0.6554057598114014, 0.0, 0.0, 0.6349886655807495, 0.0, 0.0, 0.0, 0.0, 0.0, 0.0, 0.0, 0.0, 0.0, 0.6367663145065308, 0.0, 0.7479488849639893, 0.0, 0.0, 0.0, 0.0, 0.0, 0.6993612051010132, 0.6690611243247986, 0.6505552530288696, 0.7858299016952515, 0.0, 0.0, 0.7417103052139282, 0.0, 0.638601541519165, 0.0, 0.0, 0.0, 0.6060411930084229, 0.0, 0.0, 0.0, 0.0, 0.0, 0.0, 0.0, 0.0, 0.0, 0.0, 0.0, 0.0, 0.0, 0.6709784865379333, 0.0, 0.6250964403152466, 0.0, 0.0, 0.0, 0.0, 0.0, 0.6214122772216797, 0.0, 0.6016767024993896, 0.0, 0.6117435693740845, 0.0], [0.0, 0.6382141709327698, 0.0, 0.6466797590255737, 1.0000001192092896, 0.0, 0.0, 0.0, 0.0, 0.0, 0.0, 0.0, 0.0, 0.0, 0.0, 0.0, 0.0, 0.0, 0.0, 0.0, 0.0, 0.0, 0.0, 0.0, 0.0, 0.0, 0.0, 0.6055617332458496, 0.0, 0.0, 0.0, 0.0, 0.0, 0.0, 0.0, 0.0, 0.0, 0.0, 0.0, 0.6473233699798584, 0.0, 0.0, 0.0, 0.0, 0.0, 0.0, 0.0, 0.0, 0.0, 0.0, 0.0, 0.0, 0.0, 0.0, 0.0, 0.0, 0.0, 0.0, 0.6880741119384766, 0.0, 0.0, 0.0, 0.0, 0.0, 0.0, 0.0, 0.0, 0.0, 0.0, 0.0, 0.0, 0.0, 0.0], [0.0, 0.0, 0.6104699969291687, 0.7031586170196533, 0.0, 1.0, 0.6070508360862732, 0.0, 0.6007647514343262, 0.0, 0.0, 0.0, 0.6239908933639526, 0.0, 0.0, 0.0, 0.0, 0.0, 0.0, 0.0, 0.0, 0.0, 0.0, 0.0, 0.0, 0.0, 0.0, 0.7335927486419678, 0.0, 0.0, 0.0, 0.0, 0.0, 0.0, 0.0, 0.0, 0.6802372932434082, 0.0, 0.0, 0.0, 0.0, 0.0, 0.0, 0.0, 0.0, 0.0, 0.0, 0.0, 0.0, 0.0, 0.0, 0.0, 0.0, 0.0, 0.0, 0.0, 0.0, 0.0, 0.0, 0.0, 0.0, 0.0, 0.0, 0.0, 0.0, 0.0, 0.0, 0.0, 0.0, 0.0, 0.0, 0.0, 0.0], [0.0, 0.0, 0.0, 0.6248162984848022, 0.0, 0.6070508360862732, 1.0, 0.0, 0.0, 0.0, 0.0, 0.0, 0.6091964244842529, 0.0, 0.6088578104972839, 0.6707984805107117, 0.0, 0.0, 0.0, 0.0, 0.6846656799316406, 0.6809931397438049, 0.0, 0.0, 0.0, 0.0, 0.0, 0.6594134569168091, 0.0, 0.0, 0.0, 0.0, 0.0, 0.0, 0.0, 0.0, 0.6394888162612915, 0.0, 0.0, 0.0, 0.0, 0.0, 0.0, 0.0, 0.0, 0.0, 0.0, 0.0, 0.0, 0.0, 0.0, 0.0, 0.6328567862510681, 0.0, 0.0, 0.0, 0.0, 0.6795243620872498, 0.0, 0.0, 0.0, 0.0, 0.0, 0.0, 0.0, 0.0, 0.0, 0.0, 0.0, 0.0, 0.0, 0.0, 0.0], [0.0, 0.0, 0.0, 0.0, 0.0, 0.0, 0.0, 1.000000238418579, 0.0, 0.0, 0.0, 0.0, 0.0, 0.0, 0.0, 0.0, 0.0, 0.0, 0.0, 0.0, 0.0, 0.0, 0.0, 0.0, 0.0, 0.0, 0.0, 0.0, 0.0, 0.0, 0.0, 0.0, 0.0, 0.0, 0.0, 0.0, 0.0, 0.0, 0.0, 0.0, 0.0, 0.0, 0.0, 0.0, 0.0, 0.0, 0.0, 0.0, 0.0, 0.0, 0.0, 0.0, 0.0, 0.0, 0.0, 0.0, 0.0, 0.0, 0.0, 0.0, 0.0, 0.0, 0.0, 0.0, 0.0, 0.0, 0.0, 0.0, 0.0, 0.0, 0.0, 0.0, 0.0], [0.0, 0.0, 0.0, 0.6447056531906128, 0.0, 0.6007647514343262, 0.0, 0.0, 0.9999998807907104, 0.0, 0.0, 0.0, 0.680044412612915, 0.0, 0.0, 0.6196528673171997, 0.0, 0.0, 0.0, 0.0, 0.0, 0.0, 0.0, 0.0, 0.0, 0.0, 0.0, 0.6464025974273682, 0.0, 0.0, 0.0, 0.0, 0.0, 0.6309628486633301, 0.0, 0.0, 0.6164237260818481, 0.0, 0.0, 0.0, 0.0, 0.0, 0.0, 0.0, 0.0, 0.0, 0.0, 0.0, 0.0, 0.0, 0.0, 0.0, 0.0, 0.0, 0.0, 0.0, 0.0, 0.0, 0.0, 0.6842367649078369, 0.0, 0.0, 0.0, 0.0, 0.0, 0.0, 0.0, 0.0, 0.0, 0.0, 0.0, 0.0, 0.0], [0.0, 0.0, 0.0, 0.0, 0.0, 0.0, 0.0, 0.0, 0.0, 1.0000001192092896, 0.0, 0.0, 0.0, 0.0, 0.0, 0.0, 0.0, 0.0, 0.0, 0.0, 0.0, 0.0, 0.0, 0.0, 0.0, 0.0, 0.0, 0.0, 0.0, 0.0, 0.0, 0.0, 0.0, 0.0, 0.0, 0.0, 0.0, 0.0, 0.0, 0.0, 0.0, 0.0, 0.0, 0.0, 0.0, 0.0, 0.0, 0.0, 0.0, 0.0, 0.0, 0.0, 0.0, 0.0, 0.0, 0.0, 0.0, 0.0, 0.0, 0.0, 0.0, 0.0, 0.0, 0.0, 0.0, 0.0, 0.0, 0.0, 0.0, 0.0, 0.0, 0.0, 0.0], [0.0, 0.0, 0.0, 0.0, 0.0, 0.0, 0.0, 0.0, 0.0, 0.0, 1.0, 0.6149372458457947, 0.6257447004318237, 0.0, 0.0, 0.0, 0.6991631984710693, 0.0, 0.0, 0.0, 0.0, 0.0, 0.0, 0.0, 0.0, 0.0, 0.0, 0.0, 0.0, 0.0, 0.0, 0.0, 0.0, 0.0, 0.0, 0.0, 0.0, 0.0, 0.0, 0.0, 0.0, 0.0, 0.0, 0.0, 0.0, 0.0, 0.0, 0.0, 0.0, 0.0, 0.0, 0.0, 0.0, 0.0, 0.0, 0.0, 0.0, 0.0, 0.0, 0.0, 0.0, 0.0, 0.0, 0.0, 0.0, 0.0, 0.0, 0.0, 0.0, 0.0, 0.0, 0.0, 0.0], [0.0, 0.0, 0.0, 0.0, 0.0, 0.0, 0.0, 0.0, 0.0, 0.0, 0.6149372458457947, 0.9999999403953552, 0.0, 0.0, 0.0, 0.6323803067207336, 0.6780930757522583, 0.0, 0.0, 0.0, 0.0, 0.0, 0.0, 0.0, 0.0, 0.0, 0.0, 0.0, 0.0, 0.0, 0.0, 0.0, 0.0, 0.0, 0.0, 0.0, 0.0, 0.0, 0.0, 0.0, 0.0, 0.0, 0.0, 0.0, 0.0, 0.0, 0.0, 0.0, 0.0, 0.0, 0.0, 0.0, 0.0, 0.0, 0.0, 0.0, 0.0, 0.0, 0.0, 0.0, 0.0, 0.0, 0.0, 0.0, 0.0, 0.0, 0.0, 0.0, 0.0, 0.0, 0.0, 0.0, 0.0], [0.0, 0.0, 0.0, 0.6554057598114014, 0.0, 0.6239908933639526, 0.6091964244842529, 0.0, 0.680044412612915, 0.0, 0.6257447004318237, 0.0, 1.0000003576278687, 0.0, 0.6981386542320251, 0.7489150166511536, 0.7124729156494141, 0.0, 0.0, 0.0, 0.0, 0.0, 0.0, 0.0, 0.0, 0.6004487872123718, 0.0, 0.7019758224487305, 0.0, 0.0, 0.0, 0.0, 0.0, 0.0, 0.6820714473724365, 0.0, 0.7388288974761963, 0.0, 0.0, 0.6346786022186279, 0.0, 0.0, 0.0, 0.0, 0.0, 0.0, 0.0, 0.0, 0.0, 0.0, 0.0, 0.0, 0.0, 0.0, 0.0, 0.0, 0.667739748954773, 0.0, 0.0, 0.6360267996788025, 0.0, 0.0, 0.0, 0.0, 0.0, 0.0, 0.0, 0.0, 0.0, 0.0, 0.0, 0.0, 0.0], [0.0, 0.0, 0.0, 0.0, 0.0, 0.0, 0.0, 0.0, 0.0, 0.0, 0.0, 0.0, 0.0, 0.9999998807907104, 0.0, 0.7185090780258179, 0.0, 0.0, 0.0, 0.0, 0.0, 0.0, 0.0, 0.0, 0.0, 0.0, 0.0, 0.0, 0.0, 0.0, 0.0, 0.0, 0.0, 0.0, 0.0, 0.0, 0.0, 0.0, 0.0, 0.0, 0.0, 0.0, 0.0, 0.0, 0.0, 0.0, 0.0, 0.0, 0.0, 0.0, 0.0, 0.0, 0.0, 0.0, 0.0, 0.0, 0.0, 0.0, 0.0, 0.0, 0.0, 0.0, 0.0, 0.0, 0.0, 0.0, 0.0, 0.0, 0.0, 0.0, 0.0, 0.0, 0.0], [0.0, 0.0, 0.0, 0.0, 0.0, 0.0, 0.6088578104972839, 0.0, 0.0, 0.0, 0.0, 0.0, 0.6981386542320251, 0.0, 1.0000001192092896, 0.6516274213790894, 0.6101061105728149, 0.0, 0.0, 0.0, 0.0, 0.0, 0.0, 0.0, 0.0, 0.0, 0.0, 0.6370207667350769, 0.0, 0.0, 0.0, 0.0, 0.0, 0.0, 0.0, 0.0, 0.6368325352668762, 0.0, 0.0, 0.6188064813613892, 0.0, 0.0, 0.0, 0.0, 0.0, 0.0, 0.0, 0.0, 0.0, 0.0, 0.0, 0.0, 0.0, 0.0, 0.0, 0.0, 0.0, 0.0, 0.0, 0.0, 0.0, 0.0, 0.0, 0.0, 0.0, 0.0, 0.0, 0.0, 0.0, 0.0, 0.0, 0.0, 0.0], [0.0, 0.0, 0.0, 0.6349886655807495, 0.0, 0.0, 0.6707984805107117, 0.0, 0.6196528673171997, 0.0, 0.0, 0.6323803067207336, 0.7489150166511536, 0.7185090780258179, 0.6516274213790894, 1.0, 0.6848160028457642, 0.0, 0.0, 0.0, 0.0, 0.0, 0.6100165247917175, 0.0, 0.0, 0.6109282970428467, 0.0, 0.6705695390701294, 0.0, 0.0, 0.0, 0.0, 0.0, 0.0, 0.0, 0.0, 0.6655427813529968, 0.0, 0.0, 0.6648226976394653, 0.0, 0.0, 0.0, 0.6100696325302124, 0.0, 0.7071127891540527, 0.6119599342346191, 0.0, 0.0, 0.0, 0.0, 0.0, 0.0, 0.0, 0.0, 0.0, 0.0, 0.0, 0.0, 0.6093084216117859, 0.0, 0.0, 0.0, 0.6338945627212524, 0.6215258240699768, 0.0, 0.0, 0.0, 0.0, 0.0, 0.0, 0.6780595779418945, 0.0], [0.0, 0.0, 0.0, 0.0, 0.0, 0.0, 0.0, 0.0, 0.0, 0.0, 0.6991631984710693, 0.6780930757522583, 0.7124729156494141, 0.0, 0.6101061105728149, 0.6848160028457642, 0.9999999403953552, 0.0, 0.0, 0.0, 0.0, 0.0, 0.0, 0.0, 0.0, 0.0, 0.0, 0.0, 0.0, 0.0, 0.0, 0.0, 0.0, 0.0, 0.0, 0.0, 0.0, 0.0, 0.0, 0.0, 0.0, 0.0, 0.0, 0.0, 0.0, 0.0, 0.0, 0.0, 0.0, 0.0, 0.0, 0.0, 0.0, 0.0, 0.0, 0.0, 0.0, 0.0, 0.0, 0.0, 0.0, 0.0, 0.0, 0.0, 0.0, 0.0, 0.0, 0.0, 0.0, 0.0, 0.0, 0.0, 0.0], [0.0, 0.0, 0.0, 0.0, 0.0, 0.0, 0.0, 0.0, 0.0, 0.0, 0.0, 0.0, 0.0, 0.0, 0.0, 0.0, 0.0, 1.0, 0.8370388746261597, 0.7303600311279297, 0.0, 0.0, 0.0, 0.0, 0.0, 0.7020306587219238, 0.0, 0.0, 0.0, 0.0, 0.0, 0.0, 0.0, 0.0, 0.0, 0.7030519247055054, 0.0, 0.0, 0.0, 0.665674090385437, 0.0, 0.0, 0.0, 0.0, 0.0, 0.0, 0.0, 0.0, 0.0, 0.0, 0.0, 0.0, 0.0, 0.0, 0.0, 0.0, 0.0, 0.0, 0.0, 0.0, 0.0, 0.0, 0.0, 0.0, 0.0, 0.0, 0.0, 0.0, 0.0, 0.0, 0.0, 0.0, 0.0], [0.0, 0.0, 0.0, 0.0, 0.0, 0.0, 0.0, 0.0, 0.0, 0.0, 0.0, 0.0, 0.0, 0.0, 0.0, 0.0, 0.0, 0.8370388746261597, 0.9999997615814209, 0.8256450295448303, 0.0, 0.0, 0.0, 0.0, 0.0, 0.6534010171890259, 0.0, 0.6270124912261963, 0.0, 0.0, 0.0, 0.0, 0.0, 0.0, 0.0, 0.6778513193130493, 0.0, 0.0, 0.0, 0.7161288261413574, 0.6057490110397339, 0.0, 0.0, 0.0, 0.6172270774841309, 0.0, 0.0, 0.0, 0.0, 0.0, 0.0, 0.0, 0.0, 0.0, 0.0, 0.0, 0.0, 0.0, 0.0, 0.6512067317962646, 0.0, 0.0, 0.0, 0.0, 0.0, 0.0, 0.0, 0.0, 0.0, 0.0, 0.0, 0.0, 0.0], [0.0, 0.0, 0.7037581205368042, 0.0, 0.0, 0.0, 0.0, 0.0, 0.0, 0.0, 0.0, 0.0, 0.0, 0.0, 0.0, 0.0, 0.0, 0.7303600311279297, 0.8256450295448303, 0.9999995231628418, 0.0, 0.0, 0.0, 0.0, 0.0, 0.0, 0.0, 0.0, 0.0, 0.0, 0.0, 0.0, 0.0, 0.0, 0.0, 0.6259903907775879, 0.0, 0.0, 0.0, 0.6216292381286621, 0.0, 0.0, 0.0, 0.0, 0.0, 0.0, 0.0, 0.0, 0.0, 0.0, 0.0, 0.0, 0.0, 0.0, 0.0, 0.0, 0.0, 0.0, 0.0, 0.6008522510528564, 0.0, 0.0, 0.0, 0.0, 0.0, 0.0, 0.0, 0.0, 0.0, 0.0, 0.0, 0.0, 0.0], [0.0, 0.0, 0.0, 0.0, 0.0, 0.0, 0.6846656799316406, 0.0, 0.0, 0.0, 0.0, 0.0, 0.0, 0.0, 0.0, 0.0, 0.0, 0.0, 0.0, 0.0, 0.9999997615814209, 0.7315373420715332, 0.0, 0.0, 0.0, 0.0, 0.0, 0.0, 0.0, 0.0, 0.0, 0.0, 0.0, 0.0, 0.0, 0.0, 0.0, 0.0, 0.0, 0.0, 0.0, 0.0, 0.0, 0.0, 0.0, 0.0, 0.0, 0.0, 0.0, 0.0, 0.0, 0.0, 0.0, 0.0, 0.0, 0.0, 0.0, 0.76495361328125, 0.0, 0.0, 0.0, 0.0, 0.0, 0.0, 0.0, 0.0, 0.0, 0.0, 0.0, 0.0, 0.0, 0.0, 0.0], [0.0, 0.0, 0.0, 0.0, 0.0, 0.0, 0.6809931397438049, 0.0, 0.0, 0.0, 0.0, 0.0, 0.0, 0.0, 0.0, 0.0, 0.0, 0.0, 0.0, 0.0, 0.7315373420715332, 1.000000238418579, 0.0, 0.6597093343734741, 0.0, 0.0, 0.0, 0.0, 0.0, 0.6456313133239746, 0.0, 0.0, 0.0, 0.0, 0.0, 0.0, 0.0, 0.0, 0.0, 0.0, 0.0, 0.0, 0.0, 0.0, 0.0, 0.0, 0.0, 0.0, 0.0, 0.0, 0.0, 0.0, 0.0, 0.0, 0.0, 0.0, 0.0, 0.6592577695846558, 0.0, 0.0, 0.0, 0.0, 0.0, 0.0, 0.0, 0.0, 0.0, 0.0, 0.0, 0.0, 0.0, 0.0, 0.0], [0.0, 0.0, 0.0, 0.0, 0.0, 0.0, 0.0, 0.0, 0.0, 0.0, 0.0, 0.0, 0.0, 0.0, 0.0, 0.6100165247917175, 0.0, 0.0, 0.0, 0.0, 0.0, 0.0, 1.0, 0.0, 0.0, 0.0, 0.0, 0.0, 0.0, 0.0, 0.0, 0.0, 0.0, 0.0, 0.0, 0.0, 0.0, 0.0, 0.0, 0.0, 0.0, 0.0, 0.0, 0.0, 0.0, 0.0, 0.0, 0.0, 0.0, 0.0, 0.0, 0.0, 0.0, 0.0, 0.0, 0.0, 0.0, 0.0, 0.0, 0.0, 0.0, 0.0, 0.0, 0.7392169237136841, 0.7261674404144287, 0.0, 0.0, 0.0, 0.0, 0.0, 0.0, 0.0, 0.0], [0.0, 0.0, 0.0, 0.0, 0.0, 0.0, 0.0, 0.0, 0.0, 0.0, 0.0, 0.0, 0.0, 0.0, 0.0, 0.0, 0.0, 0.0, 0.0, 0.0, 0.0, 0.6597093343734741, 0.0, 0.9999996423721313, 0.0, 0.0, 0.0, 0.6145968437194824, 0.0, 0.6723506450653076, 0.0, 0.0, 0.0, 0.0, 0.0, 0.0, 0.0, 0.0, 0.0, 0.0, 0.0, 0.0, 0.0, 0.0, 0.0, 0.0, 0.0, 0.0, 0.0, 0.0, 0.0, 0.0, 0.0, 0.0, 0.0, 0.0, 0.0, 0.0, 0.0, 0.0, 0.0, 0.0, 0.0, 0.0, 0.0, 0.0, 0.0, 0.0, 0.0, 0.0, 0.0, 0.0, 0.0], [0.0, 0.0, 0.0, 0.0, 0.0, 0.0, 0.0, 0.0, 0.0, 0.0, 0.0, 0.0, 0.0, 0.0, 0.0, 0.0, 0.0, 0.0, 0.0, 0.0, 0.0, 0.0, 0.0, 0.0, 0.9999997019767761, 0.660180926322937, 0.7330788373947144, 0.6725249290466309, 0.6118647456169128, 0.6137547492980957, 0.7483813166618347, 0.0, 0.0, 0.0, 0.0, 0.0, 0.0, 0.0, 0.0, 0.6445513963699341, 0.0, 0.0, 0.0, 0.0, 0.0, 0.0, 0.0, 0.6488124132156372, 0.0, 0.0, 0.0, 0.0, 0.0, 0.0, 0.0, 0.0, 0.0, 0.0, 0.0, 0.0, 0.0, 0.0, 0.0, 0.0, 0.6997369527816772, 0.0, 0.0, 0.0, 0.0, 0.0, 0.6159242391586304, 0.0, 0.0], [0.0, 0.0, 0.6264697313308716, 0.6367663145065308, 0.0, 0.0, 0.0, 0.0, 0.0, 0.0, 0.0, 0.0, 0.6004487872123718, 0.0, 0.0, 0.6109282970428467, 0.0, 0.7020306587219238, 0.6534010171890259, 0.0, 0.0, 0.0, 0.0, 0.0, 0.660180926322937, 0.9999998807907104, 0.6604287624359131, 0.7366744875907898, 0.0, 0.6425454616546631, 0.0, 0.0, 0.0, 0.0, 0.6041059494018555, 0.6766172647476196, 0.6339586973190308, 0.0, 0.0, 0.7933101654052734, 0.0, 0.6052196025848389, 0.0, 0.6715757846832275, 0.0, 0.7223221063613892, 0.6554779410362244, 0.650693953037262, 0.0, 0.6146279573440552, 0.0, 0.0, 0.0, 0.0, 0.0, 0.0, 0.0, 0.0, 0.0, 0.0, 0.0, 0.0, 0.0, 0.0, 0.6282776594161987, 0.0, 0.0, 0.0, 0.0, 0.0, 0.7058107852935791, 0.643342137336731, 0.0], [0.0, 0.0, 0.0, 0.0, 0.0, 0.0, 0.0, 0.0, 0.0, 0.0, 0.0, 0.0, 0.0, 0.0, 0.0, 0.0, 0.0, 0.0, 0.0, 0.0, 0.0, 0.0, 0.0, 0.0, 0.7330788373947144, 0.6604287624359131, 0.9999998807907104, 0.7931410670280457, 0.749961256980896, 0.7186623811721802, 0.6915022134780884, 0.0, 0.6483474969863892, 0.0, 0.0, 0.0, 0.6493462324142456, 0.0, 0.0, 0.6334189772605896, 0.0, 0.0, 0.0, 0.0, 0.0, 0.6093354225158691, 0.0, 0.633708119392395, 0.0, 0.0, 0.0, 0.0, 0.0, 0.0, 0.0, 0.0, 0.0, 0.0, 0.0, 0.0, 0.0, 0.0, 0.0, 0.0, 0.7095572352409363, 0.0, 0.0, 0.0, 0.0, 0.0, 0.0, 0.0, 0.0], [0.0, 0.611182689666748, 0.7134867906570435, 0.7479488849639893, 0.6055617332458496, 0.7335927486419678, 0.6594134569168091, 0.0, 0.6464025974273682, 0.0, 0.0, 0.0, 0.7019758224487305, 0.0, 0.6370207667350769, 0.6705695390701294, 0.0, 0.0, 0.6270124912261963, 0.0, 0.0, 0.0, 0.0, 0.6145968437194824, 0.6725249290466309, 0.7366744875907898, 0.7931410670280457, 0.9999997615814209, 0.6275316476821899, 0.7041250467300415, 0.609958827495575, 0.0, 0.6451109647750854, 0.654232382774353, 0.6792736053466797, 0.6313703060150146, 0.8422167301177979, 0.0, 0.0, 0.7339383363723755, 0.0, 0.6102684736251831, 0.0, 0.6477348804473877, 0.0, 0.6777273416519165, 0.6300997734069824, 0.6180095076560974, 0.0, 0.0, 0.0, 0.0, 0.0, 0.0, 0.0, 0.0, 0.6582375764846802, 0.0, 0.0, 0.6668760776519775, 0.0, 0.0, 0.0, 0.0, 0.7323901653289795, 0.0, 0.0, 0.0, 0.0, 0.0, 0.6001142859458923, 0.6623704433441162, 0.0], [0.0, 0.0, 0.0, 0.0, 0.0, 0.0, 0.0, 0.0, 0.0, 0.0, 0.0, 0.0, 0.0, 0.0, 0.0, 0.0, 0.0, 0.0, 0.0, 0.0, 0.0, 0.0, 0.0, 0.0, 0.6118647456169128, 0.0, 0.749961256980896, 0.6275316476821899, 1.0, 0.0, 0.0, 0.0, 0.0, 0.0, 0.0, 0.0, 0.0, 0.0, 0.0, 0.0, 0.0, 0.0, 0.0, 0.0, 0.0, 0.0, 0.0, 0.0, 0.0, 0.0, 0.0, 0.0, 0.0, 0.0, 0.0, 0.0, 0.0, 0.0, 0.0, 0.0, 0.0, 0.0, 0.0, 0.0, 0.0, 0.0, 0.0, 0.0, 0.0, 0.0, 0.0, 0.0, 0.0], [0.7443649768829346, 0.0, 0.0, 0.0, 0.0, 0.0, 0.0, 0.0, 0.0, 0.0, 0.0, 0.0, 0.0, 0.0, 0.0, 0.0, 0.0, 0.0, 0.0, 0.0, 0.0, 0.6456313133239746, 0.0, 0.6723506450653076, 0.6137547492980957, 0.6425454616546631, 0.7186623811721802, 0.7041250467300415, 0.0, 1.0, 0.0, 0.0, 0.6060441136360168, 0.0, 0.0, 0.0, 0.0, 0.0, 0.0, 0.633179783821106, 0.0, 0.0, 0.0, 0.0, 0.0, 0.0, 0.0, 0.0, 0.0, 0.0, 0.0, 0.0, 0.0, 0.0, 0.0, 0.0, 0.0, 0.0, 0.0, 0.0, 0.0, 0.0, 0.0, 0.0, 0.6475552320480347, 0.0, 0.0, 0.0, 0.0, 0.0, 0.0, 0.0, 0.0], [0.0, 0.0, 0.0, 0.0, 0.0, 0.0, 0.0, 0.0, 0.0, 0.0, 0.0, 0.0, 0.0, 0.0, 0.0, 0.0, 0.0, 0.0, 0.0, 0.0, 0.0, 0.0, 0.0, 0.0, 0.7483813166618347, 0.0, 0.6915022134780884, 0.609958827495575, 0.0, 0.0, 1.0000001192092896, 0.0, 0.0, 0.0, 0.0, 0.0, 0.0, 0.0, 0.0, 0.0, 0.0, 0.0, 0.0, 0.0, 0.0, 0.0, 0.0, 0.0, 0.0, 0.0, 0.0, 0.0, 0.0, 0.0, 0.0, 0.0, 0.0, 0.0, 0.0, 0.0, 0.0, 0.0, 0.0, 0.0, 0.6801741123199463, 0.0, 0.0, 0.0, 0.0, 0.0, 0.0, 0.0, 0.0], [0.0, 0.0, 0.0, 0.0, 0.0, 0.0, 0.0, 0.0, 0.0, 0.0, 0.0, 0.0, 0.0, 0.0, 0.0, 0.0, 0.0, 0.0, 0.0, 0.0, 0.0, 0.0, 0.0, 0.0, 0.0, 0.0, 0.0, 0.0, 0.0, 0.0, 0.0, 1.0, 0.0, 0.0, 0.0, 0.0, 0.0, 0.0, 0.0, 0.6189209222793579, 0.0, 0.0, 0.0, 0.0, 0.0, 0.0, 0.0, 0.0, 0.0, 0.0, 0.0, 0.0, 0.0, 0.0, 0.0, 0.0, 0.0, 0.0, 0.0, 0.0, 0.0, 0.0, 0.0, 0.0, 0.0, 0.0, 0.0, 0.0, 0.0, 0.0, 0.0, 0.0, 0.0], [0.0, 0.0, 0.0, 0.0, 0.0, 0.0, 0.0, 0.0, 0.0, 0.0, 0.0, 0.0, 0.0, 0.0, 0.0, 0.0, 0.0, 0.0, 0.0, 0.0, 0.0, 0.0, 0.0, 0.0, 0.0, 0.0, 0.6483474969863892, 0.6451109647750854, 0.0, 0.6060441136360168, 0.0, 0.0, 0.9999997615814209, 0.0, 0.0, 0.0, 0.0, 0.0, 0.0, 0.0, 0.0, 0.0, 0.0, 0.0, 0.0, 0.0, 0.0, 0.0, 0.0, 0.0, 0.0, 0.0, 0.0, 0.0, 0.0, 0.0, 0.0, 0.0, 0.0, 0.0, 0.0, 0.0, 0.0, 0.0, 0.0, 0.0, 0.0, 0.0, 0.0, 0.0, 0.0, 0.0, 0.0], [0.0, 0.0, 0.0, 0.6993612051010132, 0.0, 0.0, 0.0, 0.0, 0.6309628486633301, 0.0, 0.0, 0.0, 0.0, 0.0, 0.0, 0.0, 0.0, 0.0, 0.0, 0.0, 0.0, 0.0, 0.0, 0.0, 0.0, 0.0, 0.0, 0.654232382774353, 0.0, 0.0, 0.0, 0.0, 0.0, 1.000000238418579, 0.0, 0.0, 0.7256050109863281, 0.0, 0.0, 0.0, 0.0, 0.0, 0.6465334892272949, 0.0, 0.0, 0.0, 0.0, 0.0, 0.0, 0.0, 0.0, 0.0, 0.0, 0.0, 0.0, 0.0, 0.0, 0.0, 0.0, 0.0, 0.0, 0.0, 0.0, 0.0, 0.0, 0.0, 0.0, 0.0, 0.0, 0.0, 0.0, 0.0, 0.0], [0.0, 0.0, 0.0, 0.6690611243247986, 0.0, 0.0, 0.0, 0.0, 0.0, 0.0, 0.0, 0.0, 0.6820714473724365, 0.0, 0.0, 0.0, 0.0, 0.0, 0.0, 0.0, 0.0, 0.0, 0.0, 0.0, 0.0, 0.6041059494018555, 0.0, 0.6792736053466797, 0.0, 0.0, 0.0, 0.0, 0.0, 0.0, 1.0000001192092896, 0.7588080167770386, 0.7418036460876465, 0.0, 0.0, 0.6043675541877747, 0.0, 0.0, 0.0, 0.0, 0.0, 0.0, 0.0, 0.0, 0.0, 0.0, 0.0, 0.0, 0.0, 0.0, 0.0, 0.0, 0.6663508415222168, 0.0, 0.0, 0.0, 0.0, 0.0, 0.0, 0.0, 0.0, 0.0, 0.0, 0.0, 0.0, 0.0, 0.0, 0.0, 0.0], [0.0, 0.0, 0.0, 0.6505552530288696, 0.0, 0.0, 0.0, 0.0, 0.0, 0.0, 0.0, 0.0, 0.0, 0.0, 0.0, 0.0, 0.0, 0.7030519247055054, 0.6778513193130493, 0.6259903907775879, 0.0, 0.0, 0.0, 0.0, 0.0, 0.6766172647476196, 0.0, 0.6313703060150146, 0.0, 0.0, 0.0, 0.0, 0.0, 0.0, 0.7588080167770386, 1.0000001192092896, 0.644657552242279, 0.0, 0.0, 0.7089787721633911, 0.0, 0.72929847240448, 0.0, 0.0, 0.0, 0.0, 0.0, 0.0, 0.0, 0.0, 0.0, 0.0, 0.0, 0.0, 0.0, 0.6525042653083801, 0.6602073907852173, 0.0, 0.0, 0.6769184470176697, 0.0, 0.0, 0.0, 0.0, 0.0, 0.0, 0.0, 0.0, 0.0, 0.0, 0.0, 0.0, 0.0], [0.0, 0.0, 0.6748866438865662, 0.7858299016952515, 0.0, 0.6802372932434082, 0.6394888162612915, 0.0, 0.6164237260818481, 0.0, 0.0, 0.0, 0.7388288974761963, 0.0, 0.6368325352668762, 0.6655427813529968, 0.0, 0.0, 0.0, 0.0, 0.0, 0.0, 0.0, 0.0, 0.0, 0.6339586973190308, 0.6493462324142456, 0.8422167301177979, 0.0, 0.0, 0.0, 0.0, 0.0, 0.7256050109863281, 0.7418036460876465, 0.644657552242279, 1.000000238418579, 0.0, 0.0, 0.6961820721626282, 0.0, 0.6258655190467834, 0.0, 0.0, 0.0, 0.0, 0.0, 0.0, 0.0, 0.0, 0.0, 0.0, 0.6668773889541626, 0.0, 0.0, 0.0, 0.6930597424507141, 0.0, 0.0, 0.6864151358604431, 0.0, 0.0, 0.0, 0.0, 0.6021198034286499, 0.0, 0.0, 0.0, 0.0, 0.0, 0.0, 0.0, 0.0], [0.0, 0.0, 0.0, 0.0, 0.0, 0.0, 0.0, 0.0, 0.0, 0.0, 0.0, 0.0, 0.0, 0.0, 0.0, 0.0, 0.0, 0.0, 0.0, 0.0, 0.0, 0.0, 0.0, 0.0, 0.0, 0.0, 0.0, 0.0, 0.0, 0.0, 0.0, 0.0, 0.0, 0.0, 0.0, 0.0, 0.0, 1.000000238418579, 0.0, 0.0, 0.0, 0.0, 0.0, 0.0, 0.0, 0.0, 0.0, 0.0, 0.0, 0.0, 0.0, 0.0, 0.0, 0.0, 0.0, 0.0, 0.0, 0.0, 0.0, 0.0, 0.0, 0.0, 0.0, 0.0, 0.0, 0.0, 0.0, 0.0, 0.0, 0.0, 0.0, 0.0, 0.0], [0.0, 0.0, 0.0, 0.0, 0.0, 0.0, 0.0, 0.0, 0.0, 0.0, 0.0, 0.0, 0.0, 0.0, 0.0, 0.0, 0.0, 0.0, 0.0, 0.0, 0.0, 0.0, 0.0, 0.0, 0.0, 0.0, 0.0, 0.0, 0.0, 0.0, 0.0, 0.0, 0.0, 0.0, 0.0, 0.0, 0.0, 0.0, 1.0, 0.0, 0.0, 0.8577085137367249, 0.0, 0.0, 0.0, 0.0, 0.0, 0.0, 0.0, 0.0, 0.0, 0.0, 0.0, 0.0, 0.0, 0.0, 0.0, 0.0, 0.0, 0.0, 0.0, 0.0, 0.0, 0.0, 0.0, 0.0, 0.0, 0.0, 0.0, 0.0, 0.0, 0.0, 0.0], [0.0, 0.6314238905906677, 0.6346842050552368, 0.7417103052139282, 0.6473233699798584, 0.0, 0.0, 0.0, 0.0, 0.0, 0.0, 0.0, 0.6346786022186279, 0.0, 0.6188064813613892, 0.6648226976394653, 0.0, 0.665674090385437, 0.7161288261413574, 0.6216292381286621, 0.0, 0.0, 0.0, 0.0, 0.6445513963699341, 0.7933101654052734, 0.6334189772605896, 0.7339383363723755, 0.0, 0.633179783821106, 0.0, 0.6189209222793579, 0.0, 0.0, 0.6043675541877747, 0.7089787721633911, 0.6961820721626282, 0.0, 0.0, 0.9999998211860657, 0.0, 0.7191202044487, 0.0, 0.7179857492446899, 0.6242868304252625, 0.7309186458587646, 0.6108679175376892, 0.6445521116256714, 0.0, 0.0, 0.0, 0.0, 0.0, 0.0, 0.0, 0.6284860968589783, 0.6304749250411987, 0.0, 0.0, 0.6713159680366516, 0.0, 0.0, 0.0, 0.0, 0.6092259883880615, 0.0, 0.0, 0.0, 0.0, 0.0, 0.6685254573822021, 0.7559632062911987, 0.0], [0.0, 0.0, 0.0, 0.0, 0.0, 0.0, 0.0, 0.0, 0.0, 0.0, 0.0, 0.0, 0.0, 0.0, 0.0, 0.0, 0.0, 0.0, 0.6057490110397339, 0.0, 0.0, 0.0, 0.0, 0.0, 0.0, 0.0, 0.0, 0.0, 0.0, 0.0, 0.0, 0.0, 0.0, 0.0, 0.0, 0.0, 0.0, 0.0, 0.0, 0.0, 0.9999998807907104, 0.0, 0.0, 0.0, 0.6988217830657959, 0.0, 0.0, 0.0, 0.0, 0.0, 0.0, 0.0, 0.0, 0.0, 0.0, 0.0, 0.0, 0.0, 0.0, 0.0, 0.0, 0.0, 0.0, 0.0, 0.0, 0.0, 0.0, 0.0, 0.0, 0.0, 0.0, 0.0, 0.0], [0.0, 0.0, 0.0, 0.638601541519165, 0.0, 0.0, 0.0, 0.0, 0.0, 0.0, 0.0, 0.0, 0.0, 0.0, 0.0, 0.0, 0.0, 0.0, 0.0, 0.0, 0.0, 0.0, 0.0, 0.0, 0.0, 0.6052196025848389, 0.0, 0.6102684736251831, 0.0, 0.0, 0.0, 0.0, 0.0, 0.0, 0.0, 0.72929847240448, 0.6258655190467834, 0.0, 0.8577085137367249, 0.7191202044487, 0.0, 1.0000001192092896, 0.0, 0.0, 0.6256738901138306, 0.0, 0.0, 0.0, 0.0, 0.0, 0.0, 0.0, 0.0, 0.0, 0.0, 0.0, 0.0, 0.0, 0.6066315174102783, 0.6336986422538757, 0.0, 0.0, 0.0, 0.0, 0.0, 0.0, 0.0, 0.0, 0.0, 0.0, 0.0, 0.0, 0.0], [0.0, 0.0, 0.0, 0.0, 0.0, 0.0, 0.0, 0.0, 0.0, 0.0, 0.0, 0.0, 0.0, 0.0, 0.0, 0.0, 0.0, 0.0, 0.0, 0.0, 0.0, 0.0, 0.0, 0.0, 0.0, 0.0, 0.0, 0.0, 0.0, 0.0, 0.0, 0.0, 0.0, 0.6465334892272949, 0.0, 0.0, 0.0, 0.0, 0.0, 0.0, 0.0, 0.0, 1.0000001192092896, 0.0, 0.0, 0.0, 0.0, 0.0, 0.0, 0.0, 0.0, 0.0, 0.0, 0.0, 0.0, 0.0, 0.0, 0.0, 0.0, 0.0, 0.0, 0.0, 0.0, 0.0, 0.0, 0.0, 0.0, 0.0, 0.0, 0.0, 0.0, 0.0, 0.0], [0.0, 0.0, 0.0, 0.0, 0.0, 0.0, 0.0, 0.0, 0.0, 0.0, 0.0, 0.0, 0.0, 0.0, 0.0, 0.6100696325302124, 0.0, 0.0, 0.0, 0.0, 0.0, 0.0, 0.0, 0.0, 0.0, 0.6715757846832275, 0.0, 0.6477348804473877, 0.0, 0.0, 0.0, 0.0, 0.0, 0.0, 0.0, 0.0, 0.0, 0.0, 0.0, 0.7179857492446899, 0.0, 0.0, 0.0, 1.000000238418579, 0.0, 0.7686047554016113, 0.6512587666511536, 0.6200189590454102, 0.0, 0.0, 0.0, 0.0, 0.0, 0.0, 0.0, 0.0, 0.0, 0.0, 0.0, 0.0, 0.0, 0.0, 0.0, 0.0, 0.0, 0.6852790117263794, 0.0, 0.0, 0.0, 0.0, 0.6872739791870117, 0.691421627998352, 0.0], [0.0, 0.0, 0.0, 0.0, 0.0, 0.0, 0.0, 0.0, 0.0, 0.0, 0.0, 0.0, 0.0, 0.0, 0.0, 0.0, 0.0, 0.0, 0.6172270774841309, 0.0, 0.0, 0.0, 0.0, 0.0, 0.0, 0.0, 0.0, 0.0, 0.0, 0.0, 0.0, 0.0, 0.0, 0.0, 0.0, 0.0, 0.0, 0.0, 0.0, 0.6242868304252625, 0.6988217830657959, 0.6256738901138306, 0.0, 0.0, 1.0000003576278687, 0.0, 0.0, 0.0, 0.0, 0.0, 0.0, 0.6137855052947998, 0.0, 0.0, 0.0, 0.0, 0.0, 0.0, 0.0, 0.0, 0.0, 0.0, 0.0, 0.0, 0.0, 0.0, 0.0, 0.0, 0.0, 0.0, 0.0, 0.0, 0.0], [0.0, 0.0, 0.0, 0.6060411930084229, 0.0, 0.0, 0.0, 0.0, 0.0, 0.0, 0.0, 0.0, 0.0, 0.0, 0.0, 0.7071127891540527, 0.0, 0.0, 0.0, 0.0, 0.0, 0.0, 0.0, 0.0, 0.0, 0.7223221063613892, 0.6093354225158691, 0.6777273416519165, 0.0, 0.0, 0.0, 0.0, 0.0, 0.0, 0.0, 0.0, 0.0, 0.0, 0.0, 0.7309186458587646, 0.0, 0.0, 0.0, 0.7686047554016113, 0.0, 1.0000003576278687, 0.7612398862838745, 0.8740464448928833, 0.6870290040969849, 0.7769051790237427, 0.0, 0.0, 0.0, 0.0, 0.0, 0.0, 0.0, 0.0, 0.0, 0.0, 0.0, 0.0, 0.0, 0.0, 0.6032543778419495, 0.0, 0.0, 0.0, 0.0, 0.0, 0.7103312015533447, 0.711778998374939, 0.0], [0.0, 0.0, 0.0, 0.0, 0.0, 0.0, 0.0, 0.0, 0.0, 0.0, 0.0, 0.0, 0.0, 0.0, 0.0, 0.6119599342346191, 0.0, 0.0, 0.0, 0.0, 0.0, 0.0, 0.0, 0.0, 0.0, 0.6554779410362244, 0.0, 0.6300997734069824, 0.0, 0.0, 0.0, 0.0, 0.0, 0.0, 0.0, 0.0, 0.0, 0.0, 0.0, 0.6108679175376892, 0.0, 0.0, 0.0, 0.6512587666511536, 0.0, 0.7612398862838745, 0.9999999403953552, 0.7377125024795532, 0.0, 0.6047364473342896, 0.0, 0.0, 0.0, 0.0, 0.0, 0.0, 0.0, 0.0, 0.0, 0.0, 0.0, 0.0, 0.0, 0.0, 0.0, 0.6706910133361816, 0.0, 0.0, 0.0, 0.0, 0.0, 0.0, 0.0], [0.0, 0.0, 0.0, 0.0, 0.0, 0.0, 0.0, 0.0, 0.0, 0.0, 0.0, 0.0, 0.0, 0.0, 0.0, 0.0, 0.0, 0.0, 0.0, 0.0, 0.0, 0.0, 0.0, 0.0, 0.6488124132156372, 0.650693953037262, 0.633708119392395, 0.6180095076560974, 0.0, 0.0, 0.0, 0.0, 0.0, 0.0, 0.0, 0.0, 0.0, 0.0, 0.0, 0.6445521116256714, 0.0, 0.0, 0.0, 0.6200189590454102, 0.0, 0.8740464448928833, 0.7377125024795532, 1.000000238418579, 0.0, 0.779358983039856, 0.0, 0.0, 0.0, 0.0, 0.0, 0.0, 0.0, 0.0, 0.0, 0.0, 0.0, 0.0, 0.0, 0.0, 0.0, 0.0, 0.0, 0.0, 0.0, 0.0, 0.6197920441627502, 0.0, 0.0], [0.0, 0.0, 0.0, 0.0, 0.0, 0.0, 0.0, 0.0, 0.0, 0.0, 0.0, 0.0, 0.0, 0.0, 0.0, 0.0, 0.0, 0.0, 0.0, 0.0, 0.0, 0.0, 0.0, 0.0, 0.0, 0.0, 0.0, 0.0, 0.0, 0.0, 0.0, 0.0, 0.0, 0.0, 0.0, 0.0, 0.0, 0.0, 0.0, 0.0, 0.0, 0.0, 0.0, 0.0, 0.0, 0.6870290040969849, 0.0, 0.0, 1.000000238418579, 0.0, 0.0, 0.0, 0.0, 0.0, 0.0, 0.0, 0.0, 0.0, 0.0, 0.0, 0.0, 0.0, 0.0, 0.0, 0.0, 0.0, 0.0, 0.0, 0.0, 0.0, 0.0, 0.0, 0.0], [0.0, 0.0, 0.0, 0.0, 0.0, 0.0, 0.0, 0.0, 0.0, 0.0, 0.0, 0.0, 0.0, 0.0, 0.0, 0.0, 0.0, 0.0, 0.0, 0.0, 0.0, 0.0, 0.0, 0.0, 0.0, 0.6146279573440552, 0.0, 0.0, 0.0, 0.0, 0.0, 0.0, 0.0, 0.0, 0.0, 0.0, 0.0, 0.0, 0.0, 0.0, 0.0, 0.0, 0.0, 0.0, 0.0, 0.7769051790237427, 0.6047364473342896, 0.779358983039856, 0.0, 1.0, 0.0, 0.0, 0.0, 0.0, 0.0, 0.0, 0.0, 0.0, 0.0, 0.0, 0.0, 0.0, 0.0, 0.0, 0.0, 0.0, 0.0, 0.0, 0.0, 0.0, 0.6268080472946167, 0.0, 0.0], [0.0, 0.0, 0.0, 0.0, 0.0, 0.0, 0.0, 0.0, 0.0, 0.0, 0.0, 0.0, 0.0, 0.0, 0.0, 0.0, 0.0, 0.0, 0.0, 0.0, 0.0, 0.0, 0.0, 0.0, 0.0, 0.0, 0.0, 0.0, 0.0, 0.0, 0.0, 0.0, 0.0, 0.0, 0.0, 0.0, 0.0, 0.0, 0.0, 0.0, 0.0, 0.0, 0.0, 0.0, 0.0, 0.0, 0.0, 0.0, 0.0, 0.0, 1.0, 0.0, 0.0, 0.0, 0.0, 0.0, 0.0, 0.0, 0.0, 0.0, 0.0, 0.0, 0.0, 0.0, 0.0, 0.0, 0.0, 0.0, 0.0, 0.0, 0.0, 0.0, 0.0], [0.0, 0.0, 0.0, 0.0, 0.0, 0.0, 0.0, 0.0, 0.0, 0.0, 0.0, 0.0, 0.0, 0.0, 0.0, 0.0, 0.0, 0.0, 0.0, 0.0, 0.0, 0.0, 0.0, 0.0, 0.0, 0.0, 0.0, 0.0, 0.0, 0.0, 0.0, 0.0, 0.0, 0.0, 0.0, 0.0, 0.0, 0.0, 0.0, 0.0, 0.0, 0.0, 0.0, 0.0, 0.6137855052947998, 0.0, 0.0, 0.0, 0.0, 0.0, 0.0, 1.000000238418579, 0.0, 0.0, 0.0, 0.0, 0.0, 0.0, 0.0, 0.0, 0.0, 0.0, 0.0, 0.0, 0.0, 0.0, 0.0, 0.0, 0.0, 0.0, 0.0, 0.0, 0.0], [0.0, 0.0, 0.0, 0.0, 0.0, 0.0, 0.6328567862510681, 0.0, 0.0, 0.0, 0.0, 0.0, 0.0, 0.0, 0.0, 0.0, 0.0, 0.0, 0.0, 0.0, 0.0, 0.0, 0.0, 0.0, 0.0, 0.0, 0.0, 0.0, 0.0, 0.0, 0.0, 0.0, 0.0, 0.0, 0.0, 0.0, 0.6668773889541626, 0.0, 0.0, 0.0, 0.0, 0.0, 0.0, 0.0, 0.0, 0.0, 0.0, 0.0, 0.0, 0.0, 0.0, 0.0, 1.000000238418579, 0.0, 0.0, 0.0, 0.0, 0.0, 0.0, 0.6351537704467773, 0.6065800189971924, 0.6343157291412354, 0.0, 0.0, 0.0, 0.0, 0.0, 0.0, 0.0, 0.0, 0.0, 0.0, 0.0], [0.0, 0.0, 0.0, 0.0, 0.0, 0.0, 0.0, 0.0, 0.0, 0.0, 0.0, 0.0, 0.0, 0.0, 0.0, 0.0, 0.0, 0.0, 0.0, 0.0, 0.0, 0.0, 0.0, 0.0, 0.0, 0.0, 0.0, 0.0, 0.0, 0.0, 0.0, 0.0, 0.0, 0.0, 0.0, 0.0, 0.0, 0.0, 0.0, 0.0, 0.0, 0.0, 0.0, 0.0, 0.0, 0.0, 0.0, 0.0, 0.0, 0.0, 0.0, 0.0, 0.0, 1.000000238418579, 0.0, 0.0, 0.0, 0.0, 0.0, 0.0, 0.0, 0.0, 0.0, 0.0, 0.0, 0.0, 0.0, 0.0, 0.0, 0.0, 0.0, 0.0, 0.0], [0.0, 0.0, 0.0, 0.0, 0.0, 0.0, 0.0, 0.0, 0.0, 0.0, 0.0, 0.0, 0.0, 0.0, 0.0, 0.0, 0.0, 0.0, 0.0, 0.0, 0.0, 0.0, 0.0, 0.0, 0.0, 0.0, 0.0, 0.0, 0.0, 0.0, 0.0, 0.0, 0.0, 0.0, 0.0, 0.0, 0.0, 0.0, 0.0, 0.0, 0.0, 0.0, 0.0, 0.0, 0.0, 0.0, 0.0, 0.0, 0.0, 0.0, 0.0, 0.0, 0.0, 0.0, 0.9999998807907104, 0.0, 0.0, 0.0, 0.0, 0.0, 0.0, 0.0, 0.0, 0.0, 0.0, 0.0, 0.0, 0.0, 0.0, 0.0, 0.0, 0.0, 0.0], [0.0, 0.0, 0.0, 0.0, 0.0, 0.0, 0.0, 0.0, 0.0, 0.0, 0.0, 0.0, 0.0, 0.0, 0.0, 0.0, 0.0, 0.0, 0.0, 0.0, 0.0, 0.0, 0.0, 0.0, 0.0, 0.0, 0.0, 0.0, 0.0, 0.0, 0.0, 0.0, 0.0, 0.0, 0.0, 0.6525042653083801, 0.0, 0.0, 0.0, 0.6284860968589783, 0.0, 0.0, 0.0, 0.0, 0.0, 0.0, 0.0, 0.0, 0.0, 0.0, 0.0, 0.0, 0.0, 0.0, 0.0, 1.0000001192092896, 0.0, 0.0, 0.0, 0.71590256690979, 0.6465165615081787, 0.0, 0.0, 0.0, 0.0, 0.0, 0.0, 0.0, 0.0, 0.0, 0.0, 0.0, 0.0], [0.0, 0.0, 0.0, 0.0, 0.0, 0.0, 0.0, 0.0, 0.0, 0.0, 0.0, 0.0, 0.667739748954773, 0.0, 0.0, 0.0, 0.0, 0.0, 0.0, 0.0, 0.0, 0.0, 0.0, 0.0, 0.0, 0.0, 0.0, 0.6582375764846802, 0.0, 0.0, 0.0, 0.0, 0.0, 0.0, 0.6663508415222168, 0.6602073907852173, 0.6930597424507141, 0.0, 0.0, 0.6304749250411987, 0.0, 0.0, 0.0, 0.0, 0.0, 0.0, 0.0, 0.0, 0.0, 0.0, 0.0, 0.0, 0.0, 0.0, 0.0, 0.0, 0.9999998807907104, 0.0, 0.0, 0.0, 0.0, 0.0, 0.0, 0.0, 0.0, 0.0, 0.0, 0.0, 0.6276395916938782, 0.0, 0.0, 0.617817223072052, 0.0], [0.0, 0.0, 0.0, 0.0, 0.0, 0.0, 0.6795243620872498, 0.0, 0.0, 0.0, 0.0, 0.0, 0.0, 0.0, 0.0, 0.0, 0.0, 0.0, 0.0, 0.0, 0.76495361328125, 0.6592577695846558, 0.0, 0.0, 0.0, 0.0, 0.0, 0.0, 0.0, 0.0, 0.0, 0.0, 0.0, 0.0, 0.0, 0.0, 0.0, 0.0, 0.0, 0.0, 0.0, 0.0, 0.0, 0.0, 0.0, 0.0, 0.0, 0.0, 0.0, 0.0, 0.0, 0.0, 0.0, 0.0, 0.0, 0.0, 0.0, 1.000000238418579, 0.0, 0.0, 0.0, 0.0, 0.0, 0.0, 0.0, 0.0, 0.0, 0.0, 0.0, 0.0, 0.0, 0.0, 0.0], [0.0, 0.7401227951049805, 0.0, 0.0, 0.6880741119384766, 0.0, 0.0, 0.0, 0.0, 0.0, 0.0, 0.0, 0.0, 0.0, 0.0, 0.0, 0.0, 0.0, 0.0, 0.0, 0.0, 0.0, 0.0, 0.0, 0.0, 0.0, 0.0, 0.0, 0.0, 0.0, 0.0, 0.0, 0.0, 0.0, 0.0, 0.0, 0.0, 0.0, 0.0, 0.0, 0.0, 0.6066315174102783, 0.0, 0.0, 0.0, 0.0, 0.0, 0.0, 0.0, 0.0, 0.0, 0.0, 0.0, 0.0, 0.0, 0.0, 0.0, 0.0, 0.9999997019767761, 0.0, 0.0, 0.0, 0.0, 0.0, 0.0, 0.0, 0.0, 0.0, 0.0, 0.0, 0.0, 0.0, 0.0], [0.0, 0.0, 0.0, 0.6709784865379333, 0.0, 0.0, 0.0, 0.0, 0.6842367649078369, 0.0, 0.0, 0.0, 0.6360267996788025, 0.0, 0.0, 0.6093084216117859, 0.0, 0.0, 0.6512067317962646, 0.6008522510528564, 0.0, 0.0, 0.0, 0.0, 0.0, 0.0, 0.0, 0.6668760776519775, 0.0, 0.0, 0.0, 0.0, 0.0, 0.0, 0.0, 0.6769184470176697, 0.6864151358604431, 0.0, 0.0, 0.6713159680366516, 0.0, 0.6336986422538757, 0.0, 0.0, 0.0, 0.0, 0.0, 0.0, 0.0, 0.0, 0.0, 0.0, 0.6351537704467773, 0.0, 0.0, 0.71590256690979, 0.0, 0.0, 0.0, 0.9999998807907104, 0.6905994415283203, 0.0, 0.0, 0.0, 0.0, 0.0, 0.0, 0.0, 0.0, 0.0, 0.0, 0.0, 0.0], [0.0, 0.0, 0.0, 0.0, 0.0, 0.0, 0.0, 0.0, 0.0, 0.0, 0.0, 0.0, 0.0, 0.0, 0.0, 0.0, 0.0, 0.0, 0.0, 0.0, 0.0, 0.0, 0.0, 0.0, 0.0, 0.0, 0.0, 0.0, 0.0, 0.0, 0.0, 0.0, 0.0, 0.0, 0.0, 0.0, 0.0, 0.0, 0.0, 0.0, 0.0, 0.0, 0.0, 0.0, 0.0, 0.0, 0.0, 0.0, 0.0, 0.0, 0.0, 0.0, 0.6065800189971924, 0.0, 0.0, 0.6465165615081787, 0.0, 0.0, 0.0, 0.6905994415283203, 0.9999998807907104, 0.0, 0.0, 0.0, 0.0, 0.0, 0.0, 0.0, 0.0, 0.0, 0.0, 0.0, 0.0], [0.0, 0.0, 0.6089223623275757, 0.6250964403152466, 0.0, 0.0, 0.0, 0.0, 0.0, 0.0, 0.0, 0.0, 0.0, 0.0, 0.0, 0.0, 0.0, 0.0, 0.0, 0.0, 0.0, 0.0, 0.0, 0.0, 0.0, 0.0, 0.0, 0.0, 0.0, 0.0, 0.0, 0.0, 0.0, 0.0, 0.0, 0.0, 0.0, 0.0, 0.0, 0.0, 0.0, 0.0, 0.0, 0.0, 0.0, 0.0, 0.0, 0.0, 0.0, 0.0, 0.0, 0.0, 0.6343157291412354, 0.0, 0.0, 0.0, 0.0, 0.0, 0.0, 0.0, 0.0, 0.9999995231628418, 0.0, 0.0, 0.0, 0.0, 0.0, 0.0, 0.0, 0.0, 0.0, 0.0, 0.0], [0.0, 0.0, 0.0, 0.0, 0.0, 0.0, 0.0, 0.0, 0.0, 0.0, 0.0, 0.0, 0.0, 0.0, 0.0, 0.0, 0.0, 0.0, 0.0, 0.0, 0.0, 0.0, 0.0, 0.0, 0.0, 0.0, 0.0, 0.0, 0.0, 0.0, 0.0, 0.0, 0.0, 0.0, 0.0, 0.0, 0.0, 0.0, 0.0, 0.0, 0.0, 0.0, 0.0, 0.0, 0.0, 0.0, 0.0, 0.0, 0.0, 0.0, 0.0, 0.0, 0.0, 0.0, 0.0, 0.0, 0.0, 0.0, 0.0, 0.0, 0.0, 0.0, 1.0000001192092896, 0.0, 0.0, 0.0, 0.0, 0.0, 0.0, 0.0, 0.0, 0.0, 0.0], [0.0, 0.0, 0.0, 0.0, 0.0, 0.0, 0.0, 0.0, 0.0, 0.0, 0.0, 0.0, 0.0, 0.0, 0.0, 0.6338945627212524, 0.0, 0.0, 0.0, 0.0, 0.0, 0.0, 0.7392169237136841, 0.0, 0.0, 0.0, 0.0, 0.0, 0.0, 0.0, 0.0, 0.0, 0.0, 0.0, 0.0, 0.0, 0.0, 0.0, 0.0, 0.0, 0.0, 0.0, 0.0, 0.0, 0.0, 0.0, 0.0, 0.0, 0.0, 0.0, 0.0, 0.0, 0.0, 0.0, 0.0, 0.0, 0.0, 0.0, 0.0, 0.0, 0.0, 0.0, 0.0, 1.0000001192092896, 0.6606438159942627, 0.0, 0.0, 0.0, 0.0, 0.0, 0.0, 0.0, 0.0], [0.0, 0.0, 0.0, 0.0, 0.0, 0.0, 0.0, 0.0, 0.0, 0.0, 0.0, 0.0, 0.0, 0.0, 0.0, 0.6215258240699768, 0.0, 0.0, 0.0, 0.0, 0.0, 0.0, 0.7261674404144287, 0.0, 0.6997369527816772, 0.6282776594161987, 0.7095572352409363, 0.7323901653289795, 0.0, 0.6475552320480347, 0.6801741123199463, 0.0, 0.0, 0.0, 0.0, 0.0, 0.6021198034286499, 0.0, 0.0, 0.6092259883880615, 0.0, 0.0, 0.0, 0.0, 0.0, 0.6032543778419495, 0.0, 0.0, 0.0, 0.0, 0.0, 0.0, 0.0, 0.0, 0.0, 0.0, 0.0, 0.0, 0.0, 0.0, 0.0, 0.0, 0.0, 0.6606438159942627, 1.0000001192092896, 0.0, 0.0, 0.0, 0.0, 0.0, 0.0, 0.0, 0.0], [0.0, 0.0, 0.0, 0.0, 0.0, 0.0, 0.0, 0.0, 0.0, 0.0, 0.0, 0.0, 0.0, 0.0, 0.0, 0.0, 0.0, 0.0, 0.0, 0.0, 0.0, 0.0, 0.0, 0.0, 0.0, 0.0, 0.0, 0.0, 0.0, 0.0, 0.0, 0.0, 0.0, 0.0, 0.0, 0.0, 0.0, 0.0, 0.0, 0.0, 0.0, 0.0, 0.0, 0.6852790117263794, 0.0, 0.0, 0.6706910133361816, 0.0, 0.0, 0.0, 0.0, 0.0, 0.0, 0.0, 0.0, 0.0, 0.0, 0.0, 0.0, 0.0, 0.0, 0.0, 0.0, 0.0, 0.0, 0.9999998807907104, 0.0, 0.0, 0.0, 0.0, 0.0, 0.0, 0.0], [0.0, 0.0, 0.0, 0.0, 0.0, 0.0, 0.0, 0.0, 0.0, 0.0, 0.0, 0.0, 0.0, 0.0, 0.0, 0.0, 0.0, 0.0, 0.0, 0.0, 0.0, 0.0, 0.0, 0.0, 0.0, 0.0, 0.0, 0.0, 0.0, 0.0, 0.0, 0.0, 0.0, 0.0, 0.0, 0.0, 0.0, 0.0, 0.0, 0.0, 0.0, 0.0, 0.0, 0.0, 0.0, 0.0, 0.0, 0.0, 0.0, 0.0, 0.0, 0.0, 0.0, 0.0, 0.0, 0.0, 0.0, 0.0, 0.0, 0.0, 0.0, 0.0, 0.0, 0.0, 0.0, 0.0, 1.0000001192092896, 0.0, 0.0, 0.0, 0.0, 0.0, 0.0], [0.0, 0.0, 0.0, 0.6214122772216797, 0.0, 0.0, 0.0, 0.0, 0.0, 0.0, 0.0, 0.0, 0.0, 0.0, 0.0, 0.0, 0.0, 0.0, 0.0, 0.0, 0.0, 0.0, 0.0, 0.0, 0.0, 0.0, 0.0, 0.0, 0.0, 0.0, 0.0, 0.0, 0.0, 0.0, 0.0, 0.0, 0.0, 0.0, 0.0, 0.0, 0.0, 0.0, 0.0, 0.0, 0.0, 0.0, 0.0, 0.0, 0.0, 0.0, 0.0, 0.0, 0.0, 0.0, 0.0, 0.0, 0.0, 0.0, 0.0, 0.0, 0.0, 0.0, 0.0, 0.0, 0.0, 0.0, 0.0, 1.000000238418579, 0.0, 0.0, 0.0, 0.0, 0.0], [0.0, 0.0, 0.0, 0.0, 0.0, 0.0, 0.0, 0.0, 0.0, 0.0, 0.0, 0.0, 0.0, 0.0, 0.0, 0.0, 0.0, 0.0, 0.0, 0.0, 0.0, 0.0, 0.0, 0.0, 0.0, 0.0, 0.0, 0.0, 0.0, 0.0, 0.0, 0.0, 0.0, 0.0, 0.0, 0.0, 0.0, 0.0, 0.0, 0.0, 0.0, 0.0, 0.0, 0.0, 0.0, 0.0, 0.0, 0.0, 0.0, 0.0, 0.0, 0.0, 0.0, 0.0, 0.0, 0.0, 0.6276395916938782, 0.0, 0.0, 0.0, 0.0, 0.0, 0.0, 0.0, 0.0, 0.0, 0.0, 0.0, 1.0000005960464478, 0.0, 0.0, 0.0, 0.0], [0.0, 0.0, 0.0, 0.6016767024993896, 0.0, 0.0, 0.0, 0.0, 0.0, 0.0, 0.0, 0.0, 0.0, 0.0, 0.0, 0.0, 0.0, 0.0, 0.0, 0.0, 0.0, 0.0, 0.0, 0.0, 0.0, 0.0, 0.0, 0.0, 0.0, 0.0, 0.0, 0.0, 0.0, 0.0, 0.0, 0.0, 0.0, 0.0, 0.0, 0.0, 0.0, 0.0, 0.0, 0.0, 0.0, 0.0, 0.0, 0.0, 0.0, 0.0, 0.0, 0.0, 0.0, 0.0, 0.0, 0.0, 0.0, 0.0, 0.0, 0.0, 0.0, 0.0, 0.0, 0.0, 0.0, 0.0, 0.0, 0.0, 0.0, 1.0, 0.0, 0.0, 0.0], [0.0, 0.0, 0.0, 0.0, 0.0, 0.0, 0.0, 0.0, 0.0, 0.0, 0.0, 0.0, 0.0, 0.0, 0.0, 0.0, 0.0, 0.0, 0.0, 0.0, 0.0, 0.0, 0.0, 0.0, 0.6159242391586304, 0.7058107852935791, 0.0, 0.6001142859458923, 0.0, 0.0, 0.0, 0.0, 0.0, 0.0, 0.0, 0.0, 0.0, 0.0, 0.0, 0.6685254573822021, 0.0, 0.0, 0.0, 0.6872739791870117, 0.0, 0.7103312015533447, 0.0, 0.6197920441627502, 0.0, 0.6268080472946167, 0.0, 0.0, 0.0, 0.0, 0.0, 0.0, 0.0, 0.0, 0.0, 0.0, 0.0, 0.0, 0.0, 0.0, 0.0, 0.0, 0.0, 0.0, 0.0, 0.0, 0.9999998807907104, 0.6356478333473206, 0.0], [0.0, 0.0, 0.0, 0.6117435693740845, 0.0, 0.0, 0.0, 0.0, 0.0, 0.0, 0.0, 0.0, 0.0, 0.0, 0.0, 0.6780595779418945, 0.0, 0.0, 0.0, 0.0, 0.0, 0.0, 0.0, 0.0, 0.0, 0.643342137336731, 0.0, 0.6623704433441162, 0.0, 0.0, 0.0, 0.0, 0.0, 0.0, 0.0, 0.0, 0.0, 0.0, 0.0, 0.7559632062911987, 0.0, 0.0, 0.0, 0.691421627998352, 0.0, 0.711778998374939, 0.0, 0.0, 0.0, 0.0, 0.0, 0.0, 0.0, 0.0, 0.0, 0.0, 0.617817223072052, 0.0, 0.0, 0.0, 0.0, 0.0, 0.0, 0.0, 0.0, 0.0, 0.0, 0.0, 0.0, 0.0, 0.6356478333473206, 1.0000001192092896, 0.0], [0.0, 0.6918752193450928, 0.0, 0.0, 0.0, 0.0, 0.0, 0.0, 0.0, 0.0, 0.0, 0.0, 0.0, 0.0, 0.0, 0.0, 0.0, 0.0, 0.0, 0.0, 0.0, 0.0, 0.0, 0.0, 0.0, 0.0, 0.0, 0.0, 0.0, 0.0, 0.0, 0.0, 0.0, 0.0, 0.0, 0.0, 0.0, 0.0, 0.0, 0.0, 0.0, 0.0, 0.0, 0.0, 0.0, 0.0, 0.0, 0.0, 0.0, 0.0, 0.0, 0.0, 0.0, 0.0, 0.0, 0.0, 0.0, 0.0, 0.0, 0.0, 0.0, 0.0, 0.0, 0.0, 0.0, 0.0, 0.0, 0.0, 0.0, 0.0, 0.0, 0.0, 1.0]]}],\n",
              "                        {\"font\": {\"family\": \"Courier New, monospace\", \"size\": 12}, \"height\": 800, \"margin\": {\"b\": 40, \"l\": 20, \"r\": 30, \"t\": 50}, \"paper_bgcolor\": \"LightSteelBlue\", \"template\": {\"data\": {\"bar\": [{\"error_x\": {\"color\": \"#2a3f5f\"}, \"error_y\": {\"color\": \"#2a3f5f\"}, \"marker\": {\"line\": {\"color\": \"#E5ECF6\", \"width\": 0.5}}, \"type\": \"bar\"}], \"barpolar\": [{\"marker\": {\"line\": {\"color\": \"#E5ECF6\", \"width\": 0.5}}, \"type\": \"barpolar\"}], \"carpet\": [{\"aaxis\": {\"endlinecolor\": \"#2a3f5f\", \"gridcolor\": \"white\", \"linecolor\": \"white\", \"minorgridcolor\": \"white\", \"startlinecolor\": \"#2a3f5f\"}, \"baxis\": {\"endlinecolor\": \"#2a3f5f\", \"gridcolor\": \"white\", \"linecolor\": \"white\", \"minorgridcolor\": \"white\", \"startlinecolor\": \"#2a3f5f\"}, \"type\": \"carpet\"}], \"choropleth\": [{\"colorbar\": {\"outlinewidth\": 0, \"ticks\": \"\"}, \"type\": \"choropleth\"}], \"contour\": [{\"colorbar\": {\"outlinewidth\": 0, \"ticks\": \"\"}, \"colorscale\": [[0.0, \"#0d0887\"], [0.1111111111111111, \"#46039f\"], [0.2222222222222222, \"#7201a8\"], [0.3333333333333333, \"#9c179e\"], [0.4444444444444444, \"#bd3786\"], [0.5555555555555556, \"#d8576b\"], [0.6666666666666666, \"#ed7953\"], [0.7777777777777778, \"#fb9f3a\"], [0.8888888888888888, \"#fdca26\"], [1.0, \"#f0f921\"]], \"type\": \"contour\"}], \"contourcarpet\": [{\"colorbar\": {\"outlinewidth\": 0, \"ticks\": \"\"}, \"type\": \"contourcarpet\"}], \"heatmap\": [{\"colorbar\": {\"outlinewidth\": 0, \"ticks\": \"\"}, \"colorscale\": [[0.0, \"#0d0887\"], [0.1111111111111111, \"#46039f\"], [0.2222222222222222, \"#7201a8\"], [0.3333333333333333, \"#9c179e\"], [0.4444444444444444, \"#bd3786\"], [0.5555555555555556, \"#d8576b\"], [0.6666666666666666, \"#ed7953\"], [0.7777777777777778, \"#fb9f3a\"], [0.8888888888888888, \"#fdca26\"], [1.0, \"#f0f921\"]], \"type\": \"heatmap\"}], \"heatmapgl\": [{\"colorbar\": {\"outlinewidth\": 0, \"ticks\": \"\"}, \"colorscale\": [[0.0, \"#0d0887\"], [0.1111111111111111, \"#46039f\"], [0.2222222222222222, \"#7201a8\"], [0.3333333333333333, \"#9c179e\"], [0.4444444444444444, \"#bd3786\"], [0.5555555555555556, \"#d8576b\"], [0.6666666666666666, \"#ed7953\"], [0.7777777777777778, \"#fb9f3a\"], [0.8888888888888888, \"#fdca26\"], [1.0, \"#f0f921\"]], \"type\": \"heatmapgl\"}], \"histogram\": [{\"marker\": {\"colorbar\": {\"outlinewidth\": 0, \"ticks\": \"\"}}, \"type\": \"histogram\"}], \"histogram2d\": [{\"colorbar\": {\"outlinewidth\": 0, \"ticks\": \"\"}, \"colorscale\": [[0.0, \"#0d0887\"], [0.1111111111111111, \"#46039f\"], [0.2222222222222222, \"#7201a8\"], [0.3333333333333333, \"#9c179e\"], [0.4444444444444444, \"#bd3786\"], [0.5555555555555556, \"#d8576b\"], [0.6666666666666666, \"#ed7953\"], [0.7777777777777778, \"#fb9f3a\"], [0.8888888888888888, \"#fdca26\"], [1.0, \"#f0f921\"]], \"type\": \"histogram2d\"}], \"histogram2dcontour\": [{\"colorbar\": {\"outlinewidth\": 0, \"ticks\": \"\"}, \"colorscale\": [[0.0, \"#0d0887\"], [0.1111111111111111, \"#46039f\"], [0.2222222222222222, \"#7201a8\"], [0.3333333333333333, \"#9c179e\"], [0.4444444444444444, \"#bd3786\"], [0.5555555555555556, \"#d8576b\"], [0.6666666666666666, \"#ed7953\"], [0.7777777777777778, \"#fb9f3a\"], [0.8888888888888888, \"#fdca26\"], [1.0, \"#f0f921\"]], \"type\": \"histogram2dcontour\"}], \"mesh3d\": [{\"colorbar\": {\"outlinewidth\": 0, \"ticks\": \"\"}, \"type\": \"mesh3d\"}], \"parcoords\": [{\"line\": {\"colorbar\": {\"outlinewidth\": 0, \"ticks\": \"\"}}, \"type\": \"parcoords\"}], \"pie\": [{\"automargin\": true, \"type\": \"pie\"}], \"scatter\": [{\"marker\": {\"colorbar\": {\"outlinewidth\": 0, \"ticks\": \"\"}}, \"type\": \"scatter\"}], \"scatter3d\": [{\"line\": {\"colorbar\": {\"outlinewidth\": 0, \"ticks\": \"\"}}, \"marker\": {\"colorbar\": {\"outlinewidth\": 0, \"ticks\": \"\"}}, \"type\": \"scatter3d\"}], \"scattercarpet\": [{\"marker\": {\"colorbar\": {\"outlinewidth\": 0, \"ticks\": \"\"}}, \"type\": \"scattercarpet\"}], \"scattergeo\": [{\"marker\": {\"colorbar\": {\"outlinewidth\": 0, \"ticks\": \"\"}}, \"type\": \"scattergeo\"}], \"scattergl\": [{\"marker\": {\"colorbar\": {\"outlinewidth\": 0, \"ticks\": \"\"}}, \"type\": \"scattergl\"}], \"scattermapbox\": [{\"marker\": {\"colorbar\": {\"outlinewidth\": 0, \"ticks\": \"\"}}, \"type\": \"scattermapbox\"}], \"scatterpolar\": [{\"marker\": {\"colorbar\": {\"outlinewidth\": 0, \"ticks\": \"\"}}, \"type\": \"scatterpolar\"}], \"scatterpolargl\": [{\"marker\": {\"colorbar\": {\"outlinewidth\": 0, \"ticks\": \"\"}}, \"type\": \"scatterpolargl\"}], \"scatterternary\": [{\"marker\": {\"colorbar\": {\"outlinewidth\": 0, \"ticks\": \"\"}}, \"type\": \"scatterternary\"}], \"surface\": [{\"colorbar\": {\"outlinewidth\": 0, \"ticks\": \"\"}, \"colorscale\": [[0.0, \"#0d0887\"], [0.1111111111111111, \"#46039f\"], [0.2222222222222222, \"#7201a8\"], [0.3333333333333333, \"#9c179e\"], [0.4444444444444444, \"#bd3786\"], [0.5555555555555556, \"#d8576b\"], [0.6666666666666666, \"#ed7953\"], [0.7777777777777778, \"#fb9f3a\"], [0.8888888888888888, \"#fdca26\"], [1.0, \"#f0f921\"]], \"type\": \"surface\"}], \"table\": [{\"cells\": {\"fill\": {\"color\": \"#EBF0F8\"}, \"line\": {\"color\": \"white\"}}, \"header\": {\"fill\": {\"color\": \"#C8D4E3\"}, \"line\": {\"color\": \"white\"}}, \"type\": \"table\"}]}, \"layout\": {\"annotationdefaults\": {\"arrowcolor\": \"#2a3f5f\", \"arrowhead\": 0, \"arrowwidth\": 1}, \"coloraxis\": {\"colorbar\": {\"outlinewidth\": 0, \"ticks\": \"\"}}, \"colorscale\": {\"diverging\": [[0, \"#8e0152\"], [0.1, \"#c51b7d\"], [0.2, \"#de77ae\"], [0.3, \"#f1b6da\"], [0.4, \"#fde0ef\"], [0.5, \"#f7f7f7\"], [0.6, \"#e6f5d0\"], [0.7, \"#b8e186\"], [0.8, \"#7fbc41\"], [0.9, \"#4d9221\"], [1, \"#276419\"]], \"sequential\": [[0.0, \"#0d0887\"], [0.1111111111111111, \"#46039f\"], [0.2222222222222222, \"#7201a8\"], [0.3333333333333333, \"#9c179e\"], [0.4444444444444444, \"#bd3786\"], [0.5555555555555556, \"#d8576b\"], [0.6666666666666666, \"#ed7953\"], [0.7777777777777778, \"#fb9f3a\"], [0.8888888888888888, \"#fdca26\"], [1.0, \"#f0f921\"]], \"sequentialminus\": [[0.0, \"#0d0887\"], [0.1111111111111111, \"#46039f\"], [0.2222222222222222, \"#7201a8\"], [0.3333333333333333, \"#9c179e\"], [0.4444444444444444, \"#bd3786\"], [0.5555555555555556, \"#d8576b\"], [0.6666666666666666, \"#ed7953\"], [0.7777777777777778, \"#fb9f3a\"], [0.8888888888888888, \"#fdca26\"], [1.0, \"#f0f921\"]]}, \"colorway\": [\"#636efa\", \"#EF553B\", \"#00cc96\", \"#ab63fa\", \"#FFA15A\", \"#19d3f3\", \"#FF6692\", \"#B6E880\", \"#FF97FF\", \"#FECB52\"], \"font\": {\"color\": \"#2a3f5f\"}, \"geo\": {\"bgcolor\": \"white\", \"lakecolor\": \"white\", \"landcolor\": \"#E5ECF6\", \"showlakes\": true, \"showland\": true, \"subunitcolor\": \"white\"}, \"hoverlabel\": {\"align\": \"left\"}, \"hovermode\": \"closest\", \"mapbox\": {\"style\": \"light\"}, \"paper_bgcolor\": \"white\", \"plot_bgcolor\": \"#E5ECF6\", \"polar\": {\"angularaxis\": {\"gridcolor\": \"white\", \"linecolor\": \"white\", \"ticks\": \"\"}, \"bgcolor\": \"#E5ECF6\", \"radialaxis\": {\"gridcolor\": \"white\", \"linecolor\": \"white\", \"ticks\": \"\"}}, \"scene\": {\"xaxis\": {\"backgroundcolor\": \"#E5ECF6\", \"gridcolor\": \"white\", \"gridwidth\": 2, \"linecolor\": \"white\", \"showbackground\": true, \"ticks\": \"\", \"zerolinecolor\": \"white\"}, \"yaxis\": {\"backgroundcolor\": \"#E5ECF6\", \"gridcolor\": \"white\", \"gridwidth\": 2, \"linecolor\": \"white\", \"showbackground\": true, \"ticks\": \"\", \"zerolinecolor\": \"white\"}, \"zaxis\": {\"backgroundcolor\": \"#E5ECF6\", \"gridcolor\": \"white\", \"gridwidth\": 2, \"linecolor\": \"white\", \"showbackground\": true, \"ticks\": \"\", \"zerolinecolor\": \"white\"}}, \"shapedefaults\": {\"line\": {\"color\": \"#2a3f5f\"}}, \"ternary\": {\"aaxis\": {\"gridcolor\": \"white\", \"linecolor\": \"white\", \"ticks\": \"\"}, \"baxis\": {\"gridcolor\": \"white\", \"linecolor\": \"white\", \"ticks\": \"\"}, \"bgcolor\": \"#E5ECF6\", \"caxis\": {\"gridcolor\": \"white\", \"linecolor\": \"white\", \"ticks\": \"\"}}, \"title\": {\"x\": 0.05}, \"xaxis\": {\"automargin\": true, \"gridcolor\": \"white\", \"linecolor\": \"white\", \"ticks\": \"\", \"title\": {\"standoff\": 15}, \"zerolinecolor\": \"white\", \"zerolinewidth\": 2}, \"yaxis\": {\"automargin\": true, \"gridcolor\": \"white\", \"linecolor\": \"white\", \"ticks\": \"\", \"title\": {\"standoff\": 15}, \"zerolinecolor\": \"white\", \"zerolinewidth\": 2}}}, \"title\": {\"text\": \"Service-to-Service Similarity\"}, \"width\": 1000, \"xaxis\": {\"nticks\": 12, \"tickmode\": \"array\", \"ticktext\": [\"No <br>Label\", \"Basic <br>Needs\", \"Consumer <br>Services\", \"Criminal <br>Justiceand <br>LegalServices <br>\", \"Education <br>\", \"Environment and Public Health <br>Safety\", \"Health <br>Care\", \"Income <br>Supportand <br>Employment\", \"Individual <br>andFamily <br>Life\", \"Mental <br>Healthand <br>SubstanceUse <br>DisorderServices <br>\", \"Organizational <br>CommunityInternational Services <br>\", \"Target <br>Populations\"], \"tickvals\": [0, 6, 12, 18, 24, 30, 36, 42, 48, 54, 60, 66], \"type\": \"category\"}, \"yaxis\": {\"nticks\": 12, \"tickmode\": \"array\", \"ticktext\": [\"No <br>Label\", \"Basic <br>Needs\", \"Consumer <br>Services\", \"Criminal <br>Justiceand <br>LegalServices <br>\", \"Education <br>\", \"Environment and Public Health <br>Safety\", \"Health <br>Care\", \"Income <br>Supportand <br>Employment\", \"Individual <br>andFamily <br>Life\", \"Mental <br>Healthand <br>SubstanceUse <br>DisorderServices <br>\", \"Organizational <br>CommunityInternational Services <br>\", \"Target <br>Populations\"], \"tickvals\": [0, 6, 12, 18, 24, 30, 36, 42, 48, 54, 60, 66], \"type\": \"category\"}},\n",
              "                        {\"responsive\": true}\n",
              "                    ).then(function(){\n",
              "                            \n",
              "var gd = document.getElementById('1d90992f-0ab6-4f4e-8f46-9e9e3f55f14a');\n",
              "var x = new MutationObserver(function (mutations, observer) {{\n",
              "        var display = window.getComputedStyle(gd).display;\n",
              "        if (!display || display === 'none') {{\n",
              "            console.log([gd, 'removed!']);\n",
              "            Plotly.purge(gd);\n",
              "            observer.disconnect();\n",
              "        }}\n",
              "}});\n",
              "\n",
              "// Listen for the removal of the full notebook cells\n",
              "var notebookContainer = gd.closest('#notebook-container');\n",
              "if (notebookContainer) {{\n",
              "    x.observe(notebookContainer, {childList: true});\n",
              "}}\n",
              "\n",
              "// Listen for the clearing of the current output cell\n",
              "var outputEl = gd.closest('.output');\n",
              "if (outputEl) {{\n",
              "    x.observe(outputEl, {childList: true});\n",
              "}}\n",
              "\n",
              "                        })\n",
              "                };\n",
              "                \n",
              "            </script>\n",
              "        </div>\n",
              "</body>\n",
              "</html>"
            ]
          },
          "metadata": {
            "tags": []
          }
        }
      ]
    },
    {
      "cell_type": "markdown",
      "metadata": {
        "id": "TzIZfPh81YzP",
        "colab_type": "text"
      },
      "source": [
        "## Semantic Similarity Search: \n",
        "get the most similar items for each of our queries"
      ]
    },
    {
      "cell_type": "markdown",
      "metadata": {
        "id": "4QbVvDrLFxZB",
        "colab_type": "text"
      },
      "source": [
        "### Approximate Nearest Neighbors\n",
        "\n",
        "Using [ANNOY](https://github.com/spotify/annoy)"
      ]
    },
    {
      "cell_type": "code",
      "metadata": {
        "id": "zkBIiTkZVBiW",
        "colab_type": "code",
        "colab": {}
      },
      "source": [
        "# adapted from: https://github.com/tensorflow/hub/blob/master/examples/colab/tf2_semantic_approximate_nearest_neighbors.ipynb\n",
        "# builds an approximate nearest neighbor index (with ANNOY lib)\n",
        "# used to avoid searching through the entirety of our data when comparing queries\n",
        "# TODO: experiment with param values\n",
        "\n",
        "\n",
        "def build_ann_index(embed_data, index_path, vector_length, \n",
        "    metric='angular', num_trees=50):\n",
        "  # Builds an ANNOY index\n",
        "\n",
        "  annoy_index = annoy.AnnoyIndex(vector_length, metric=metric)\n",
        "  # Mapping between the item and its identifier in the index\n",
        "  mapping = {}\n",
        "\n",
        "  item_counter = 0\n",
        "  for idx, name, text, embed in embed_data:\n",
        "      mapping[item_counter] = {'id': idx, 'name': name, 'text': text}\n",
        "      annoy_index.add_item(item_counter, embed)\n",
        "      item_counter += 1\n",
        "      if item_counter % 1000 == 0:\n",
        "        print('{} items loaded to the index'.format(item_counter))\n",
        "\n",
        "  print('A total of {} items added to the index'.format(item_counter))\n",
        "\n",
        "  print('Building the index with {} trees...'.format(num_trees))\n",
        "  annoy_index.build(n_trees=num_trees)\n",
        "  print('Index is successfully built.')\n",
        "  \n",
        "  print('Saving index to disk...')\n",
        "  annoy_index.save(index_path)\n",
        "  print('Index is saved to disk.')\n",
        "  print(\"Index file size: {} MB\".format(\n",
        "    round(os.path.getsize(index_path) / float(1024 ** 2), 2)))\n",
        "  annoy_index.unload()\n",
        "\n",
        "  print('Saving mapping to disk...')\n",
        "  with open(index_path + '.mapping', 'wb') as handle:\n",
        "    pickle.dump(mapping, handle, protocol=pickle.HIGHEST_PROTOCOL)\n",
        "  print('Mapping is saved to disk.')\n",
        "  print(\"Mapping file size: {} MB\".format(\n",
        "    round(os.path.getsize(index_path + '.mapping') / float(1024 ** 2), 2)))"
      ],
      "execution_count": 0,
      "outputs": []
    },
    {
      "cell_type": "code",
      "metadata": {
        "id": "w0zfCi-lWSvy",
        "colab_type": "code",
        "outputId": "e673b9bc-e3d4-4fd1-926b-fdb825413079",
        "colab": {
          "base_uri": "https://localhost:8080/",
          "height": 497
        }
      },
      "source": [
        "# get size of vectors\n",
        "embed_dim = len(node_embeds[0])\n",
        "embed_data = list(zip(node_ids, node_names, node_texts, node_embeds))\n",
        "index_path = os.path.join(prefix, 'data', \"{}_{}_{}_ANNOY_index\".format(NODE_TYPE, MODEL, MODEL_TYPE))\n",
        "\n",
        "!rm \"$index_path\"\n",
        "!rm \"$index_path\".mapping\n",
        "\n",
        "%time build_ann_index(embed_data, index_path, embed_dim)"
      ],
      "execution_count": 0,
      "outputs": [
        {
          "output_type": "stream",
          "text": [
            "1000 items loaded to the index\n",
            "2000 items loaded to the index\n",
            "3000 items loaded to the index\n",
            "4000 items loaded to the index\n",
            "5000 items loaded to the index\n",
            "6000 items loaded to the index\n",
            "7000 items loaded to the index\n",
            "8000 items loaded to the index\n",
            "9000 items loaded to the index\n",
            "10000 items loaded to the index\n",
            "11000 items loaded to the index\n",
            "12000 items loaded to the index\n",
            "13000 items loaded to the index\n",
            "14000 items loaded to the index\n",
            "15000 items loaded to the index\n",
            "16000 items loaded to the index\n",
            "A total of 16547 items added to the index\n",
            "Building the index with 50 trees...\n",
            "Index is successfully built.\n",
            "Saving index to disk...\n",
            "Index is saved to disk.\n",
            "Index file size: 44.56 MB\n",
            "Saving mapping to disk...\n",
            "Mapping is saved to disk.\n",
            "Mapping file size: 12.67 MB\n",
            "CPU times: user 2.06 s, sys: 95.2 ms, total: 2.16 s\n",
            "Wall time: 2.25 s\n"
          ],
          "name": "stdout"
        }
      ]
    },
    {
      "cell_type": "code",
      "metadata": {
        "id": "qN7bXLJYlMIJ",
        "colab_type": "code",
        "outputId": "35dc060a-a596-4987-b16d-b5000ec32343",
        "colab": {
          "base_uri": "https://localhost:8080/",
          "height": 53
        }
      },
      "source": [
        "# load the index and mapping files\n",
        "index = annoy.AnnoyIndex(embed_dim, metric='angular')\n",
        "index.load(index_path, prefault=True)\n",
        "print('Annoy index is loaded.')\n",
        "with open(index_path + '.mapping', 'rb') as handle:\n",
        "  mapping = pickle.load(handle)\n",
        "print('Mapping file is loaded.')\n",
        "\n",
        "# print('\\nRandom sample of queries\\n\\n', '\\n'.join(random.choices(queries, k=10)))"
      ],
      "execution_count": 0,
      "outputs": [
        {
          "output_type": "stream",
          "text": [
            "Annoy index is loaded.\n",
            "Mapping file is loaded.\n"
          ],
          "name": "stdout"
        }
      ]
    },
    {
      "cell_type": "code",
      "metadata": {
        "id": "BIX3NbLblVoo",
        "colab_type": "code",
        "colab": {}
      },
      "source": [
        "# Finds similar items to a given embedding in the ANN index\n",
        "def find_similar_items(embedding, num_matches=10):\n",
        "    ids, distances = index.get_nns_by_vector(\n",
        "    embedding, num_matches, search_k=-1, include_distances=True)\n",
        "    items = [mapping[i] for i in ids]\n",
        "\n",
        "    uniq_matches = set()\n",
        "    filter_items = []\n",
        "    filter_dists = []\n",
        "    i = 0\n",
        "    while len(uniq_matches) < num_matches and i < len(items):\n",
        "        name = items[i]['name']\n",
        "        if name not in uniq_matches:\n",
        "            # print(name)\n",
        "            uniq_matches.add(name)\n",
        "            filter_items.append(items[i])\n",
        "            filter_dists.append(distances[i])\n",
        "        i += 1\n",
        "    return filter_items, filter_dists"
      ],
      "execution_count": 0,
      "outputs": []
    },
    {
      "cell_type": "code",
      "metadata": {
        "id": "AIxHISIVui6P",
        "colab_type": "code",
        "outputId": "6c486fcd-408a-4296-b640-1da3206ba726",
        "colab": {
          "base_uri": "https://localhost:8080/",
          "height": 88
        }
      },
      "source": [
        "# Load the TF-Hub module\n",
        "print(\"Loading the TF-Hub {} module...\".format(MODEL))\n",
        "%time embed_fn = hub.load(MODEL_URL)\n",
        "print(\"TF-Hub module is loaded.\")\n",
        "\n",
        "def extract_embed(queries):\n",
        "    # Generates the embedding for the query\n",
        "    query_embedding =  embed_fn(queries).numpy()\n",
        "    # print(len(query_embedding))\n",
        "    return query_embedding\n",
        "\n",
        "def k_query_matches(queries, sample_size=10, k=10, all_queries=False, out=True):\n",
        "    if all_queries:\n",
        "        sample_size = len(queries)\n",
        "\n",
        "    query_samples = random.choices(queries, k=sample_size)\n",
        "    for query in query_samples:\n",
        "        # print(query)\n",
        "        query_embed = extract_embed([query])[0]\n",
        "        items, dists = find_similar_items(query_embed, num_matches=k)\n",
        "\n",
        "        if out:\n",
        "            print(\"Top-{} most similar items (w.o. duplicates) to query \\\"{}\\\":\".format(len(items), query))\n",
        "            for i in range(len(items)):\n",
        "                item = items[i]\n",
        "                dist = dists[i]\n",
        "                name = item['name']\n",
        "                print(\"({}) {} (dist={})\".format(i+1, name, dist))\n",
        "            print()\n",
        "    return items, dists"
      ],
      "execution_count": 0,
      "outputs": [
        {
          "output_type": "stream",
          "text": [
            "Loading the TF-Hub USE module...\n",
            "CPU times: user 13 s, sys: 3.29 s, total: 16.3 s\n",
            "Wall time: 26.2 s\n",
            "TF-Hub module is loaded.\n"
          ],
          "name": "stdout"
        }
      ]
    },
    {
      "cell_type": "code",
      "metadata": {
        "id": "YXSEbYJPu7Jw",
        "colab_type": "code",
        "outputId": "f2ab3ec6-f540-4cdc-aa8f-87e5f876b06f",
        "colab": {
          "base_uri": "https://localhost:8080/",
          "height": 1000
        }
      },
      "source": [
        "print(len(queries))\n",
        "\n",
        "matches, distances = k_query_matches(queries)"
      ],
      "execution_count": 0,
      "outputs": [
        {
          "output_type": "stream",
          "text": [
            "43949\n",
            "Top-10 most similar items (w.o. duplicates) to query \"Westville - New Durham Township Public Library\":\n",
            "(1) Public Library - Noblesville (dist=1.0075379610061646)\n",
            "(2) Public Library - Fishers (dist=1.0102190971374512)\n",
            "(3) Public Libraries (dist=1.023892879486084)\n",
            "(4) Public Library - Harris Branch (dist=1.0322362184524536)\n",
            "(5) Public Library - Central Branch (dist=1.0325456857681274)\n",
            "(6) Public Library - Main Branch (dist=1.0376297235488892)\n",
            "(7) Public Library - Clark Pleasant Branch (dist=1.0448436737060547)\n",
            "(8) Remington Carpenter Township Public Library (dist=1.0452905893325806)\n",
            "(9) Public Library Services (dist=1.04533851146698)\n",
            "(10) Public Library (dist=1.0455808639526367)\n",
            "\n",
            "Top-8 most similar items (w.o. duplicates) to query \"Saint John's Evangelical Lutheran Church\":\n",
            "(1) Adoption Search (dist=1.251501202583313)\n",
            "(2) Legislative Information Center (dist=1.289251685142517)\n",
            "(3) General Legal Aid - Indianapolis (dist=1.2913445234298706)\n",
            "(4) Clerk's Office - Mishawaka (dist=1.2985219955444336)\n",
            "(5) Clerk's Office - Main Street - South Bend (dist=1.3004364967346191)\n",
            "(6) Legal Aid - South Bend (dist=1.3015305995941162)\n",
            "(7) Legal Aid - Lafayette (dist=1.3015904426574707)\n",
            "(8) Clerk's Office (dist=1.3036211729049683)\n",
            "\n",
            "Top-2 most similar items (w.o. duplicates) to query \"Pre-Admission Screening Resident Review\":\n",
            "(1) TB Tests (dist=1.2079626321792603)\n",
            "(2) Tuberculosis Testing (dist=1.2080824375152588)\n",
            "\n",
            "Top-7 most similar items (w.o. duplicates) to query \"Grass Fire Advisories\":\n",
            "(1) Survive Alive (dist=1.164513111114502)\n",
            "(2) Fire Services (dist=1.165237545967102)\n",
            "(3) Fire And Life Safety Division (dist=1.167359709739685)\n",
            "(4) Fire Department (dist=1.168983817100525)\n",
            "(5) Fire Stop Program (dist=1.1700037717819214)\n",
            "(6) Fire Prevention (dist=1.1729449033737183)\n",
            "(7) Fire Station (dist=1.1787002086639404)\n",
            "\n",
            "Top-7 most similar items (w.o. duplicates) to query \"Vacation Packages\":\n",
            "(1) Hoosier Rx (dist=1.312975287437439)\n",
            "(2) Medicare (dist=1.3142648935317993)\n",
            "(3) Healthy Indiana Plan 2.0 (dist=1.3166128396987915)\n",
            "(4) State Health Insurance Assistance Program (dist=1.3179283142089844)\n",
            "(5) Marketplace Enrollment Assistance- Monon (dist=1.3186191320419312)\n",
            "(6) Marketplace Enrollment Assistance - Wolcott (dist=1.319090723991394)\n",
            "(7) Marketplace Enrollment Assistance - Delphi (dist=1.3190944194793701)\n",
            "\n",
            "Top-10 most similar items (w.o. duplicates) to query \"Video Order and Rental Complaints\":\n",
            "(1) Complaints (dist=1.1834641695022583)\n",
            "(2) Consumer Complaints (dist=1.1853452920913696)\n",
            "(3) Food Licensing/Permits (dist=1.2453374862670898)\n",
            "(4) Comsumer Complaints (dist=1.2453538179397583)\n",
            "(5) Building and Zoning (dist=1.2469544410705566)\n",
            "(6) Building And Zoning (dist=1.2610708475112915)\n",
            "(7) Planning and Zoning (dist=1.2619965076446533)\n",
            "(8) Planning And Zoning (dist=1.2636405229568481)\n",
            "(9) Area Planning (dist=1.263784408569336)\n",
            "(10) Zoning (dist=1.264717936515808)\n",
            "\n",
            "Top-4 most similar items (w.o. duplicates) to query \"Visual/Reading Aids Issues\":\n",
            "(1) Financial Assistance, Medical (dist=1.243129849433899)\n",
            "(2) Charity Care (dist=1.250463843345642)\n",
            "(3) Community Assistance (dist=1.2512261867523193)\n",
            "(4) Trustee Assistance (dist=1.2554315328598022)\n",
            "\n",
            "Top-8 most similar items (w.o. duplicates) to query \"BCIS Application Support Centers\":\n",
            "(1) Support Groups, Domestic Violence (dist=1.2023636102676392)\n",
            "(2) Support Group (dist=1.2058219909667969)\n",
            "(3) Pregnancy Support (dist=1.2081838846206665)\n",
            "(4) Care Aware: A Caregiver Support Service Of Cicoa (dist=1.2138313055038452)\n",
            "(5) Aging and Disability Resource Center (dist=1.2140494585037231)\n",
            "(6) Choices (dist=1.214984655380249)\n",
            "(7) Seeds Of Hope (dist=1.2184809446334839)\n",
            "(8) Pregnant Moms' Empowerment Program (dist=1.21973717212677)\n",
            "\n",
            "Top-5 most similar items (w.o. duplicates) to query \"Food Handler's Permits\":\n",
            "(1) Food Pantry (dist=1.1537307500839233)\n",
            "(2) Community Shepherd Pantry (dist=1.169235110282898)\n",
            "(3) Westchester Neighbors Food Pantry (dist=1.169818639755249)\n",
            "(4) Huntington Community Food Pantry (dist=1.1702589988708496)\n",
            "(5) Andrew's Harvest (dist=1.171364188194275)\n",
            "\n",
            "Top-7 most similar items (w.o. duplicates) to query \"Communication Board Donations\":\n",
            "(1) Relay For Life (dist=1.122315764427185)\n",
            "(2) Community Foundations (dist=1.1521378755569458)\n",
            "(3) United Way (dist=1.16055428981781)\n",
            "(4) Community Organization (dist=1.1615400314331055)\n",
            "(5) Indata Depot (dist=1.177636742591858)\n",
            "(6) Donations and Volunteer Opportunities (dist=1.1803683042526245)\n",
            "(7) Donations And Volunteer Opportunities (dist=1.1804779767990112)\n",
            "\n"
          ],
          "name": "stdout"
        }
      ]
    },
    {
      "cell_type": "code",
      "metadata": {
        "id": "XEf54OEjBI8X",
        "colab_type": "code",
        "colab": {}
      },
      "source": [
        "# test multilingual aspect\n",
        "# consultas = [\n",
        "#   'abogado',\n",
        "#   'comida',\n",
        "#   'asistencia legal',\n",
        "#   'doctor barato',\n",
        "#   'asistencia menores',\n",
        "#   'violencia domestica',\n",
        "#   'adicción drogas',\n",
        "#   'vacunas',\n",
        "#   'cuido niños'\n",
        "# ]\n",
        "\n",
        "user_query = [input(\"Write a query to get recommended services: \")]\n",
        "# k_query_matches(consultas)\n",
        "matches, distances = k_query_matches(user_query, sample_size=len(user_query))"
      ],
      "execution_count": 0,
      "outputs": []
    },
    {
      "cell_type": "markdown",
      "metadata": {
        "id": "_gt9FRmEKn2h",
        "colab_type": "text"
      },
      "source": [
        "### Exhaustive Similarity Search\n",
        "Compare the query against ALL embeddings"
      ]
    },
    {
      "cell_type": "code",
      "metadata": {
        "id": "CsZ6belQ61xs",
        "colab_type": "code",
        "colab": {}
      },
      "source": [
        "def process_batch_queries(queries):\n",
        "\n",
        "    descr = 'Embedding all queries...'\n",
        "    with tqdm(total=len(queries), dynamic_ncols=True, desc=descr) as pbar:\n",
        "        \n",
        "        y = 0\n",
        "        tagged_queries = []\n",
        "        for i in range(0, len(queries), BATCH_SIZE):\n",
        "\n",
        "            \n",
        "            # grab BATCH_SIZE number of samples\n",
        "            # separate list of tuples into separate lists\n",
        "            qs = queries[i:i+BATCH_SIZE]\n",
        "\n",
        "            query_embeds = extract_embed(queries=qs)\n",
        "            # print(query_embeds[0][:10])\n",
        "            q_ids = list(range(i, i+BATCH_SIZE))\n",
        "            \n",
        "            tagged_queries.extend(list(zip(q_ids, query_embeds)))\n",
        "\n",
        "            y += 1\n",
        "            pbar.update(BATCH_SIZE)\n",
        "            if y % 20 == 0 or (NUM_BATCHES - y) < 20:\n",
        "                print(\"Processed Batch {}/{}\".format(y, NUM_BATCHES))\n",
        "    return tagged_queries"
      ],
      "execution_count": 0,
      "outputs": []
    },
    {
      "cell_type": "code",
      "metadata": {
        "id": "p2Fg5U70K2Se",
        "colab_type": "code",
        "colab": {}
      },
      "source": [
        "def semantic_search(tagged_queries, tagged_embeds, metric=cosine_similarity, q_path=None):\n",
        "\n",
        "    query_dists = []\n",
        "    if q_path == None:\n",
        "        q_path = os.path.join('data', 'exhaustive_query_dists_{}_{}.pkl'.format(MODEL, len(queries)))\n",
        "        full_qpath = os.path.join(prefix,q_path)\n",
        "\n",
        "    query_dists_len = 0\n",
        "    if os.path.exists(full_qpath):\n",
        "        print(\"Loading query distances from {}\".format(q_path))\n",
        "        with open(full_qpath, 'rb') as f:\n",
        "            try:\n",
        "                descr = 'Loading previously calculated query distances...'\n",
        "                with tqdm(total=len(queries), dynamic_ncols=True, desc=descr) as pbar:\n",
        "                    while True:\n",
        "                        # just count the number of lines to avoid filling up memory\n",
        "                        query = pickle.load(f)\n",
        "                        query_dists_len += 1\n",
        "                        pbar.update(1)\n",
        "            except EOFError:\n",
        "                pass\n",
        "            # query_dists = pickle.load(f)\n",
        "            # query_dists_len = len(query_dists)\n",
        "            # query_dists = []\n",
        "        print(\"Loaded query distances of length: {}\".format(query_dists_len))\n",
        "    else:\n",
        "        query_dists = []\n",
        "    \n",
        "    if query_dists_len == len(tagged_queries):\n",
        "        return query_dists\n",
        "\n",
        "    descr=\"Calculating query distances...\"\n",
        "    with tqdm(total=len(queries), dynamic_ncols=True, desc=descr) as pbar:\n",
        "        pbar.update(query_dists_len)\n",
        "\n",
        "        for i in range(query_dists_len, len(tagged_queries)):\n",
        "            tag_q = tagged_queries[i]\n",
        "            q_id, q_embed = tag_q\n",
        "            # will hold list of tuple of (node_id, node_embed_dist)\n",
        "            # query_dists[q_id] = []\n",
        "            # Compare against all nodes\n",
        "            # put all embeddings in a matrix to compare in a single call\n",
        "            # (also speeds up if using gpu)\n",
        "            embed_keys = list(tagged_embeds.keys())\n",
        "            embeds = list(map(lambda k: tagged_embeds[k]['embed'], embed_keys))\n",
        "            dists = metric(embeds, [q_embed])\n",
        "            tagged_dists = list(zip(embed_keys, dists))\n",
        "            query_dists.append(tagged_dists)\n",
        "                    # pbar2.update(1)\n",
        "            if q_id % 1000 == 0:\n",
        "                # save \"checkpoints\" periodically in case (Colab) runtime is\n",
        "                # killed or times out (tqdm estimates 32h to process!!)\n",
        "                full_q_path = os.path.join(q_path)\n",
        "                for qd in query_dists:\n",
        "                    save_to_pickle(qd, path=full_q_path)\n",
        "                \n",
        "                # reset size so memory doesn't fill up\n",
        "                query_dists = []\n",
        "            pbar.update(1)\n",
        "\n",
        "    return query_dists\n",
        "\n",
        "def semantic_results(q_idx, query_dists, top_k=10):\n",
        "  # sort tagged dists \n",
        "  results = sorted(query_dists, key=lambda x: x[1][0], reverse=True)[:top_k]\n",
        "  ds = [qd[1][0] for qd in results]\n",
        "  print(ds[:10])\n",
        "  uniq_res = set()\n",
        "  dists = []\n",
        "  node_ids = []\n",
        "  # print(max(results, key=lambda x: x[1]))\n",
        "  i = 0\n",
        "  while len(uniq_res) < top_k and i < len(results):\n",
        "    node_idx, q_e_dist = query_dists[i]\n",
        "    node_name = taxo_nodes[node_idx]['name']\n",
        "    if node_name not in uniq_res:\n",
        "        uniq_res.add(node_name)\n",
        "        dists.append(q_e_dist)\n",
        "        node_ids.append(node_idx)\n",
        "    i+=1\n",
        "    \n",
        "  \n",
        "  return node_ids, list(uniq_res), dists"
      ],
      "execution_count": 0,
      "outputs": []
    },
    {
      "cell_type": "code",
      "metadata": {
        "id": "eOhgT3wEPMcF",
        "colab_type": "code",
        "colab": {}
      },
      "source": [
        "q_samples = random.choices(queries, k=len(queries))\n",
        "\n",
        "q_embed_path = 'embeddings/{}/tagged_query_embeds.pkl'.format(MODEL)\n",
        "if os.path.exists(os.path.join(prefix, q_embed_path)):\n",
        "    with open(os.path.join(prefix, q_embed_path), 'rb') as qef:\n",
        "        tagged_q_embeds = pickle.load(qef)\n",
        "else:\n",
        "    tagged_q_embeds = process_batch_queries(q_samples)"
      ],
      "execution_count": 0,
      "outputs": []
    },
    {
      "cell_type": "code",
      "metadata": {
        "id": "cQNGaiDwLARK",
        "colab_type": "code",
        "colab": {}
      },
      "source": [
        "# save_to_pickle(tagged_q_embeds, path=q_embed_path)"
      ],
      "execution_count": 0,
      "outputs": []
    },
    {
      "cell_type": "code",
      "metadata": {
        "id": "w2Y85GwzGQaJ",
        "colab_type": "code",
        "outputId": "178862e2-b96f-4eee-b573-c7cd3dac57c8",
        "colab": {
          "base_uri": "https://localhost:8080/",
          "height": 108
        }
      },
      "source": [
        "query_dists = semantic_search(tagged_q_embeds, tagged_embeds)\n",
        "k = 10"
      ],
      "execution_count": 0,
      "outputs": [
        {
          "output_type": "stream",
          "text": [
            "\rLoading previously calculated query distances...:   0%|          | 0/43949 [00:00<?, ?it/s]"
          ],
          "name": "stderr"
        },
        {
          "output_type": "stream",
          "text": [
            "Loading query distances from data/exhaustive_query_dists_USE_43949.pkl\n"
          ],
          "name": "stdout"
        },
        {
          "output_type": "stream",
          "text": [
            "Loading previously calculated query distances...:  22%|██▏       | 9455/43949 [04:55<17:56, 32.05it/s]\n",
            "Calculating query distances...:  22%|██▏       | 9456/43949 [00:00<00:00, 85740.71it/s]"
          ],
          "name": "stderr"
        },
        {
          "output_type": "stream",
          "text": [
            "Loaded query distances of length: 9455\n"
          ],
          "name": "stdout"
        },
        {
          "output_type": "stream",
          "text": [
            "Calculating query distances...: 100%|██████████| 43949/43949 [1:26:45<00:00, 11.54it/s]\n"
          ],
          "name": "stderr"
        }
      ]
    },
    {
      "cell_type": "code",
      "metadata": {
        "id": "itA45gtTKDrJ",
        "colab_type": "code",
        "colab": {}
      },
      "source": [
        "query_dists[0]"
      ],
      "execution_count": 0,
      "outputs": []
    },
    {
      "cell_type": "code",
      "metadata": {
        "id": "GifKD47hHKms",
        "colab_type": "code",
        "outputId": "c5c0d1f7-d6d7-474d-a157-84d3a1d7d217",
        "colab": {
          "base_uri": "https://localhost:8080/",
          "height": 1000
        }
      },
      "source": [
        "# list of (node_id, distance_arr)\n",
        "q_dists_samples = random.choices(query_dists, k=10)\n",
        "for i, q_dists in enumerate(q_dists_samples):\n",
        "  # query = queries[q_idx]\n",
        "  query = q_samples[i]\n",
        "  node_ids, top_k, dists = semantic_results(q_idx, q_dists)\n",
        "\n",
        "  print(\"Top-{} most similar items to query \\\"{}\\\":\".format(k, query))\n",
        "  for i in range(len(top_k)):\n",
        "    n_idx, node_name, dist = node_ids[i], top_k[i], dists[i]\n",
        "    print(dist)\n",
        "    print(\"({}) {} (dist={})\".format(i+1, node_name, dist[0]))\n",
        "  print()"
      ],
      "execution_count": 0,
      "outputs": [
        {
          "output_type": "stream",
          "text": [
            "[0.11564456, 0.11564456, 0.11512642, 0.115126416, 0.11093547, 0.10876865, 0.10403679, 0.10298613, 0.102604076, 0.101212904]\n",
            "Top-10 most similar items to query \"Victim-Offender Conferencing\":\n",
            "[-0.00485693]\n",
            "(1) School District (dist=-0.004856929183006287)\n",
            "[-0.05541714]\n",
            "(2) Computer Classes (dist=-0.05541714280843735)\n",
            "[0.03469025]\n",
            "(3) Clothing Pantry (dist=0.0346902534365654)\n",
            "[0.0170226]\n",
            "(4) Ex-Offender Services (dist=0.017022598534822464)\n",
            "[0.00292454]\n",
            "(5) Homeless Services (dist=0.002924541011452675)\n",
            "[0.0575737]\n",
            "(6) Job Search Assistance (dist=0.057573698461055756)\n",
            "[0.0344977]\n",
            "(7) Special Education Advocacy (dist=0.0344977006316185)\n",
            "[-0.02212443]\n",
            "(8) God's Kitchen (dist=-0.022124433889985085)\n",
            "[0.00489016]\n",
            "(9) Prosecutor (dist=0.004890155047178268)\n",
            "[-0.02624138]\n",
            "(10) Food Pantry (dist=-0.026241380721330643)\n",
            "\n",
            "[0.1189892, 0.11256465, 0.11157247, 0.11030922, 0.10884496, 0.10884493, 0.10884493, 0.10884493, 0.10884492, 0.10884492]\n",
            "Top-10 most similar items to query \"City Police\":\n",
            "[0.07481994]\n",
            "(1) School District (dist=0.07481994479894638)\n",
            "[-0.01674431]\n",
            "(2) Computer Classes (dist=-0.01674431376159191)\n",
            "[-0.03365659]\n",
            "(3) Clothing Pantry (dist=-0.03365659341216087)\n",
            "[-0.02162473]\n",
            "(4) Ex-Offender Services (dist=-0.02162473276257515)\n",
            "[0.03567068]\n",
            "(5) Homeless Services (dist=0.035670675337314606)\n",
            "[-0.03848951]\n",
            "(6) Job Search Assistance (dist=-0.03848951309919357)\n",
            "[-0.05985632]\n",
            "(7) Special Education Advocacy (dist=-0.05985632166266441)\n",
            "[-0.02316986]\n",
            "(8) God's Kitchen (dist=-0.023169860243797302)\n",
            "[0.01342672]\n",
            "(9) Prosecutor (dist=0.01342671550810337)\n",
            "[-0.0424277]\n",
            "(10) Food Pantry (dist=-0.04242769628763199)\n",
            "\n",
            "[0.09517948, 0.09333107, 0.093331054, 0.093331054, 0.093331054, 0.093331054, 0.09333105, 0.09333105, 0.09333104, 0.09333104]\n",
            "Top-10 most similar items to query \"Lacto Vegetarian Food\":\n",
            "[-0.00094875]\n",
            "(1) School District (dist=-0.0009487513452768326)\n",
            "[-0.04185661]\n",
            "(2) Computer Classes (dist=-0.04185660928487778)\n",
            "[-0.0174801]\n",
            "(3) Clothing Pantry (dist=-0.017480097711086273)\n",
            "[-0.03771261]\n",
            "(4) Ex-Offender Services (dist=-0.03771261125802994)\n",
            "[-0.00575419]\n",
            "(5) Homeless Services (dist=-0.005754189565777779)\n",
            "[-0.03677494]\n",
            "(6) Job Search Assistance (dist=-0.03677494078874588)\n",
            "[-0.06393862]\n",
            "(7) Special Education Advocacy (dist=-0.06393861770629883)\n",
            "[-0.00068495]\n",
            "(8) God's Kitchen (dist=-0.0006849467754364014)\n",
            "[0.05441374]\n",
            "(9) Prosecutor (dist=0.05441373586654663)\n",
            "[-0.03061257]\n",
            "(10) Food Pantry (dist=-0.03061256743967533)\n",
            "\n",
            "[0.15215766, 0.14253387, 0.14068274, 0.1356416, 0.13555074, 0.13398698, 0.13299231, 0.13233261, 0.13148423, 0.13148423]\n",
            "Top-10 most similar items to query \"Seymour Transit Program\":\n",
            "[-0.01623771]\n",
            "(1) School District (dist=-0.016237707808613777)\n",
            "[-0.0247149]\n",
            "(2) Computer Classes (dist=-0.024714898318052292)\n",
            "[0.02436408]\n",
            "(3) Clothing Pantry (dist=0.024364084005355835)\n",
            "[0.02880003]\n",
            "(4) Ex-Offender Services (dist=0.028800029307603836)\n",
            "[-0.0397702]\n",
            "(5) Homeless Services (dist=-0.03977020084857941)\n",
            "[0.04855566]\n",
            "(6) Job Search Assistance (dist=0.04855566471815109)\n",
            "[0.00567385]\n",
            "(7) Special Education Advocacy (dist=0.005673851817846298)\n",
            "[0.01099624]\n",
            "(8) God's Kitchen (dist=0.010996241122484207)\n",
            "[0.010943]\n",
            "(9) Prosecutor (dist=0.010942995548248291)\n",
            "[-0.0337266]\n",
            "(10) Food Pantry (dist=-0.03372659534215927)\n",
            "\n",
            "[0.12165551, 0.11992505, 0.114867955, 0.11230653, 0.111977294, 0.10291747, 0.100826316, 0.10056526, 0.100405596, 0.10029355]\n",
            "Top-10 most similar items to query \"Elkhart Society Of Saint Vincent De Paul\":\n",
            "[0.06894595]\n",
            "(1) School District (dist=0.06894595175981522)\n",
            "[-0.01574499]\n",
            "(2) Computer Classes (dist=-0.015744991600513458)\n",
            "[-0.05071985]\n",
            "(3) Clothing Pantry (dist=-0.05071984976530075)\n",
            "[0.06499275]\n",
            "(4) Ex-Offender Services (dist=0.0649927482008934)\n",
            "[0.03558818]\n",
            "(5) Homeless Services (dist=0.035588182508945465)\n",
            "[-0.0015187]\n",
            "(6) Job Search Assistance (dist=-0.0015187039971351624)\n",
            "[-0.06429804]\n",
            "(7) Special Education Advocacy (dist=-0.06429804116487503)\n",
            "[-0.0179152]\n",
            "(8) God's Kitchen (dist=-0.01791520044207573)\n",
            "[-0.0004271]\n",
            "(9) Prosecutor (dist=-0.00042710080742836)\n",
            "[-0.06671344]\n",
            "(10) Food Pantry (dist=-0.06671343743801117)\n",
            "\n",
            "[0.113253444, 0.09047865, 0.09023396, 0.08737474, 0.08725877, 0.08548179, 0.085190885, 0.085113175, 0.08388872, 0.083373964]\n",
            "Top-10 most similar items to query \"Oxford Free Clinicc - Mccullough-Hyde /Trihealth Hospital\":\n",
            "[-0.00180441]\n",
            "(1) School District (dist=-0.0018044095486402512)\n",
            "[0.00056414]\n",
            "(2) Computer Classes (dist=0.00056413933634758)\n",
            "[-0.0250472]\n",
            "(3) Clothing Pantry (dist=-0.025047196075320244)\n",
            "[-0.02740148]\n",
            "(4) Ex-Offender Services (dist=-0.027401477098464966)\n",
            "[-0.07684882]\n",
            "(5) Homeless Services (dist=-0.0768488198518753)\n",
            "[-0.0471248]\n",
            "(6) Job Search Assistance (dist=-0.047124795615673065)\n",
            "[-0.08311513]\n",
            "(7) Special Education Advocacy (dist=-0.08311513066291809)\n",
            "[-0.06315783]\n",
            "(8) God's Kitchen (dist=-0.0631578266620636)\n",
            "[0.07508007]\n",
            "(9) Prosecutor (dist=0.07508007436990738)\n",
            "[-0.04385499]\n",
            "(10) Food Pantry (dist=-0.04385498911142349)\n",
            "\n",
            "[0.10920359, 0.10448492, 0.0852191, 0.07808977, 0.0751271, 0.071614206, 0.07140984, 0.06566449, 0.06466034, 0.06367868]\n",
            "Top-10 most similar items to query \"Mediation Orientation Programs\":\n",
            "[-0.01187054]\n",
            "(1) School District (dist=-0.011870536021888256)\n",
            "[-0.12889096]\n",
            "(2) Computer Classes (dist=-0.1288909614086151)\n",
            "[-0.03984015]\n",
            "(3) Clothing Pantry (dist=-0.03984014689922333)\n",
            "[-0.00370608]\n",
            "(4) Ex-Offender Services (dist=-0.0037060845643281937)\n",
            "[-0.03569936]\n",
            "(5) Homeless Services (dist=-0.03569936379790306)\n",
            "[-0.10808728]\n",
            "(6) Job Search Assistance (dist=-0.10808727890253067)\n",
            "[-0.08267727]\n",
            "(7) Special Education Advocacy (dist=-0.08267726749181747)\n",
            "[-0.04075508]\n",
            "(8) God's Kitchen (dist=-0.040755078196525574)\n",
            "[0.0345991]\n",
            "(9) Prosecutor (dist=0.034599095582962036)\n",
            "[-0.04800004]\n",
            "(10) Food Pantry (dist=-0.0480000376701355)\n",
            "\n",
            "[0.13328898, 0.13086444, 0.12876461, 0.12650727, 0.12620601, 0.12606782, 0.12542346, 0.12323378, 0.122388385, 0.12161702]\n",
            "Top-10 most similar items to query \"Monroe County Veterans Service\":\n",
            "[0.02028235]\n",
            "(1) School District (dist=0.02028234675526619)\n",
            "[0.01995789]\n",
            "(2) Computer Classes (dist=0.0199578907340765)\n",
            "[0.06863536]\n",
            "(3) Clothing Pantry (dist=0.06863535940647125)\n",
            "[0.05206311]\n",
            "(4) Ex-Offender Services (dist=0.05206310749053955)\n",
            "[-0.03448355]\n",
            "(5) Homeless Services (dist=-0.03448355197906494)\n",
            "[0.03175213]\n",
            "(6) Job Search Assistance (dist=0.03175213187932968)\n",
            "[0.06403972]\n",
            "(7) Special Education Advocacy (dist=0.06403972208499908)\n",
            "[0.06430677]\n",
            "(8) God's Kitchen (dist=0.06430676579475403)\n",
            "[0.06867696]\n",
            "(9) Prosecutor (dist=0.06867696344852448)\n",
            "[0.00542711]\n",
            "(10) Food Pantry (dist=0.005427109077572823)\n",
            "\n",
            "[0.13984306, 0.10120466, 0.10095, 0.10074516, 0.10052046, 0.09977724, 0.099638976, 0.09963897, 0.09963896, 0.099638954]\n",
            "Top-10 most similar items to query \"Delaware County Health Department\":\n",
            "[0.09801359]\n",
            "(1) School District (dist=0.09801359474658966)\n",
            "[-0.03227639]\n",
            "(2) Computer Classes (dist=-0.03227638825774193)\n",
            "[-0.00508575]\n",
            "(3) Clothing Pantry (dist=-0.0050857532769441605)\n",
            "[-0.00346879]\n",
            "(4) Ex-Offender Services (dist=-0.0034687891602516174)\n",
            "[0.03345194]\n",
            "(5) Homeless Services (dist=0.03345193713903427)\n",
            "[0.00424433]\n",
            "(6) Job Search Assistance (dist=0.0042443349957466125)\n",
            "[-0.04082121]\n",
            "(7) Special Education Advocacy (dist=-0.04082120954990387)\n",
            "[-0.04978873]\n",
            "(8) God's Kitchen (dist=-0.04978873208165169)\n",
            "[0.00260707]\n",
            "(9) Prosecutor (dist=0.0026070717722177505)\n",
            "[-0.04082786]\n",
            "(10) Food Pantry (dist=-0.040827855467796326)\n",
            "\n",
            "[0.13458037, 0.13007179, 0.1300631, 0.12845665, 0.12557155, 0.12508744, 0.12493792, 0.12394284, 0.12363083, 0.12309998]\n",
            "Top-10 most similar items to query \"Online Voter Registration Offices\":\n",
            "[0.01032154]\n",
            "(1) School District (dist=0.010321535170078278)\n",
            "[-0.08681256]\n",
            "(2) Computer Classes (dist=-0.0868125632405281)\n",
            "[0.00682386]\n",
            "(3) Clothing Pantry (dist=0.0068238601088523865)\n",
            "[0.03641728]\n",
            "(4) Ex-Offender Services (dist=0.03641728311777115)\n",
            "[0.03089817]\n",
            "(5) Homeless Services (dist=0.03089817240834236)\n",
            "[0.02250516]\n",
            "(6) Job Search Assistance (dist=0.022505156695842743)\n",
            "[0.02664537]\n",
            "(7) Special Education Advocacy (dist=0.026645367965102196)\n",
            "[0.00343901]\n",
            "(8) God's Kitchen (dist=0.003439009189605713)\n",
            "[0.04377095]\n",
            "(9) Prosecutor (dist=0.04377095401287079)\n",
            "[-0.02890727]\n",
            "(10) Food Pantry (dist=-0.02890726551413536)\n",
            "\n"
          ],
          "name": "stdout"
        }
      ]
    },
    {
      "cell_type": "code",
      "metadata": {
        "id": "H8AbldKHVEqS",
        "colab_type": "code",
        "colab": {}
      },
      "source": [
        "q_path=\"data/{}_query_distances_{}_{}_v{}.pkl\".format(len(query_dists), MODEL, MODEL_TYPE, MODEL_VER)\n",
        "save_to_pickle(query_dists, path=q_path)"
      ],
      "execution_count": 0,
      "outputs": []
    },
    {
      "cell_type": "code",
      "metadata": {
        "id": "x08NH9WnA37G",
        "colab_type": "code",
        "colab": {}
      },
      "source": [
        ""
      ],
      "execution_count": 0,
      "outputs": []
    }
  ]
}