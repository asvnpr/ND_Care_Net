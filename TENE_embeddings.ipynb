{
 "cells": [
  {
   "cell_type": "code",
   "execution_count": 1,
   "metadata": {},
   "outputs": [],
   "source": [
    "import deepdish as dd\n",
    "import csv\n",
    "import json\n",
    "import numpy as np"
   ]
  },
  {
   "cell_type": "markdown",
   "metadata": {},
   "source": [
    "# Embed Document Content Alongside Network Structure \n",
    "\n",
    "This notebook is directly using this [implementation](https://github.com/benedekrozemberczki/TENE) of [TENE](https://ieeexplore.ieee.org/abstract/document/8545577)"
   ]
  },
  {
   "cell_type": "code",
   "execution_count": 2,
   "metadata": {},
   "outputs": [],
   "source": [
    "embeddings_path = './embeddings/sBERT/services.h5'\n",
    "embeddings = dd.io.load(embeddings_path)\n",
    "# embeddings = np.asarray(embeddings)\n",
    "\n",
    "with open('./data/services_nodes.json') as sn:\n",
    "    serv_nodes = json.loads(sn.read())\n"
   ]
  },
  {
   "cell_type": "code",
   "execution_count": 4,
   "metadata": {},
   "outputs": [
    {
     "name": "stdout",
     "output_type": "stream",
     "text": [
      "(9884, 3531)\n",
      "(6495, 9972)\n",
      "(12014, 3323)\n",
      "(12032, 12032)\n",
      "(108, 5188)\n",
      "(7137, 1863)\n",
      "(988, 6782)\n",
      "(3350, 4845)\n",
      "(5063, 6027)\n",
      "(3276, 15476)\n",
      "(12092, 16249)\n",
      "(6145, 291)\n",
      "(9196, 8849)\n",
      "(9350, 2428)\n",
      "(14718, 13998)\n",
      "(4878, 15902)\n",
      "(6889, 16164)\n",
      "(10233, 4574)\n",
      "(1122, 1808)\n",
      "(5440, 16369)\n"
     ]
    }
   ],
   "source": [
    "# reformat indexes of node_nums\n",
    "node_num_map = {}\n",
    "node_idx_map = {}\n",
    "for i, node_num in enumerate(serv_nodes):\n",
    "    node_num_map[node_num] = i\n",
    "    node_idx_map[i] = node_num\n",
    "\n",
    "edges = []\n",
    "# reindex edgelist\n",
    "with open('./data/services_edgelist.csv') as edge_file:\n",
    "    serv_edges_reader = csv.reader(edge_file)\n",
    "    with open('./data/services_BANE_edgelist.csv', 'w') as new_edges:\n",
    "        edge_writer = csv.writer(new_edges, delimiter=',', quotechar='\"', quoting=csv.QUOTE_MINIMAL)\n",
    "        \n",
    "        i = 0\n",
    "        for edge in serv_edges_reader:\n",
    "            if i == 0:\n",
    "                edge_writer.writerow(edge)\n",
    "                i += 1\n",
    "                continue\n",
    "            else:\n",
    "                src, dst = edge\n",
    "                edge = (node_num_map[src], node_num_map[dst])\n",
    "                if i <= 20:\n",
    "                    print(edge)\n",
    "                edge_writer.writerow(edge)\n",
    "                edges.append(edge)\n",
    "                i += 1\n",
    "        adj_li = {}\n",
    "        for i in range(len(serv_nodes)):\n",
    "            adj_li[i] = []\n",
    "\n",
    "        for n1,n2 in edges:\n",
    "            adj_li[n1] = adj_li[n1] + [n2]\n",
    "            adj_li[n2] = adj_li[n2] + [n1]\n",
    "        \n",
    "        no_neigh_nodes = []\n",
    "        for n in adj_li:\n",
    "            if adj_li[n] == []:\n",
    "                node_name = serv_nodes[node_idx_map[n]]['name']\n",
    "#                 print(\"Node {} ({}) has no neighbors\".format(n, node_name))\n",
    "                no_neigh_nodes.append(n)\n",
    "        \n",
    "        # add self-edges to see if that fixes dimensionality problem\n",
    "        for n_idx in no_neigh_nodes:\n",
    "            edge = (n_idx, n_idx)\n",
    "            edges.append(edge)\n",
    "            edge_writer.writerow(edge)"
   ]
  },
  {
   "cell_type": "code",
   "execution_count": 7,
   "metadata": {},
   "outputs": [],
   "source": [
    "# save our mappings to use for clustering later\n",
    "def save_to_json(data_dict, dst):\n",
    "    data_json = json.dumps(data_dict)\n",
    "    with open(dst, 'w+') as json_file:\n",
    "        json_file.write(data_json)\n",
    "\n",
    "save_to_json(node_num_map, './data/node_num_to_embed_idx.json')\n",
    "save_to_json(node_idx_map, 'data/embed_idx_to_node_num.json')"
   ]
  },
  {
   "cell_type": "code",
   "execution_count": null,
   "metadata": {},
   "outputs": [],
   "source": [
    "remake_feats = ''\n",
    "while remake_feats not in ('Y', 'N'):\n",
    "    remake_feats = input(\"Would you like to create a new embeddings file for BANE? [Y/N]: \").upper()\n",
    "remake_feats = True if remake_feats == 'Y' else False\n",
    "\n",
    "# see here: https://github.com/benedekrozemberczki/BANE#datasets\n",
    "feat_type = ''\n",
    "while remake_feats not in ('S', 'D'):\n",
    "    remake_feats = input(\"Would you like to save as sparse or dense BANE feats? [S/D]: \").upper()\n",
    "feat_type = 'sparse' if remake_feats == 'S' else 'dense'\n",
    "    \n",
    "if remake_feats:\n",
    "    \n",
    "    if feat_type == 'sparse':\n",
    "        sparse_feats = {}\n",
    "        for i, node_num in enumerate(serv_nodes):\n",
    "            sparse_feats[node_num_map[node_num]] = list(map(lambda e: float(e), embeddings[i]))\n",
    "        with open('./data/BANE_sparse_feats.json', 'w') as feat_json:\n",
    "            sparse_feats = json.dumps(sparse_feats)\n",
    "            json.dump(sparse_feats, feat_json)\n",
    "    else:\n",
    "        # reset index from above (i still in scope)\n",
    "        i = 0\n",
    "        head = ['Node ID'] + [\"Dim{} Feat\".format(i) for i in range(len(embeddings[i]))]\n",
    "        head_size = len(head)\n",
    "        print(\"Header of Length {}\".format(head_size))\n",
    "        with open('./data/BANE_dense_feats.csv', 'w') as embed_file:\n",
    "            embed_writer = csv.writer(embed_file, delimiter=',', quotechar='\"', quoting=csv.QUOTE_MINIMAL)\n",
    "            embed_writer.writerow(head)\n",
    "            lines = []\n",
    "            for i, node_num in enumerate(serv_nodes):\n",
    "                # TODO: fix that node_num is saved as str in service_nodes and int in service_edgelist\n",
    "                line = [node_num_map[node_num]] + list(embeddings[i])\n",
    "                if len(line) != head_size:\n",
    "                    print(\"Line with node {} has wrong length of {}\".format(node_num, len(line)))\n",
    "                lines.append(line)\n",
    "            sorted_lines = sorted(lines, key = lambda x: x[0])\n",
    "#             print(sorted_lines[:5])\n",
    "            print(len(sorted_lines))\n",
    "            for line in sorted_lines:\n",
    "                embed_writer.writerow(line)"
   ]
  },
  {
   "cell_type": "markdown",
   "metadata": {},
   "source": [
    "## NOTE: TENE implementation has runtime error when there are nodes with no neighbors in the network\n",
    "\n",
    "\\* error is due to scipy coo sparse matrix function\n",
    "\n",
    "To fix:\n",
    "1. Add self-edges to the nodes with no neighbors (Currently implemented) (**unknown consequences**)\n",
    "2. Remove nodes with no neighbors  \n",
    "(probably most sane solution, but concerning long-term since it's unlikely new added services [especially informal ones] will be tagged with taxonomy codes)"
   ]
  },
  {
   "cell_type": "code",
   "execution_count": null,
   "metadata": {},
   "outputs": [],
   "source": [
    "# keeping embedding dimension same as one used in s-BERT but should play around with this later\n",
    "!python TENE/src/main.py --edge-path ./data/services_BANE_edgelist.csv --feature-path ./data/BANE_dense_feats.csv --output-path ./embeddings/TENE/tene_dense_embeddings_out.bin --features dense --dimensions 768"
   ]
  },
  {
   "cell_type": "code",
   "execution_count": null,
   "metadata": {},
   "outputs": [],
   "source": []
  }
 ],
 "metadata": {
  "kernelspec": {
   "display_name": "Python 3",
   "language": "python",
   "name": "python3"
  },
  "language_info": {
   "codemirror_mode": {
    "name": "ipython",
    "version": 3
   },
   "file_extension": ".py",
   "mimetype": "text/x-python",
   "name": "python",
   "nbconvert_exporter": "python",
   "pygments_lexer": "ipython3",
   "version": "3.6.9"
  }
 },
 "nbformat": 4,
 "nbformat_minor": 4
}
